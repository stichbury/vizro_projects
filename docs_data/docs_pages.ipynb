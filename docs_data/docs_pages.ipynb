{
 "cells": [
  {
   "cell_type": "code",
   "execution_count": null,
   "id": "3b4e1fad-1cf5-4e4e-977d-abbad5774b99",
   "metadata": {},
   "outputs": [],
   "source": [
    "from vizro import Vizro\n",
    "import vizro.models as vm\n",
    "import vizro.plotly.express as px\n",
    "import pandas as pd\n"
   ]
  },
  {
   "cell_type": "markdown",
   "id": "a3b48cd5-85f5-4506-87a9-ca278dfebc18",
   "metadata": {},
   "source": [
    "# DATA ENGINEERING\n",
    "To do\n",
    "* Download the latest RTD data (`curl` if possible)\n",
    "* Manipulate data as follows:\n",
    "    * Create a CSV of view totals per day across the 90 day period\n",
    "    * Create a CSV of the most popular pages on `stable` over the 90 day period\n",
    "    * Create a CSV of the most popular pages on `latest` over the 90 day period "
   ]
  },
  {
   "cell_type": "code",
   "execution_count": null,
   "id": "7b8c7738-541a-4262-8990-3da94c020e73",
   "metadata": {},
   "outputs": [],
   "source": [
    "# Read the (fake) views data\n",
    "\n",
    "# Read the views data into a DataFrame\n",
    "df_views = pd.read_csv('readthedocs_90day_analytics.csv')\n",
    "\n",
    "# Print the DataFrame\n",
    "df_views.head()"
   ]
  },
  {
   "cell_type": "code",
   "execution_count": null,
   "id": "66b6fe43-63ef-437f-a0a6-1faeb0a0e0f7",
   "metadata": {},
   "outputs": [],
   "source": [
    "# Read the stable pages data into a DataFrame\n",
    "df_stable = pd.read_csv('popular_pages_stable_90day.csv')\n",
    "\n",
    "# Print the DataFrame\n",
    "df_stable.head()"
   ]
  },
  {
   "cell_type": "code",
   "execution_count": null,
   "id": "45efbb58-795c-46dc-8c5a-435221fcbf0f",
   "metadata": {},
   "outputs": [],
   "source": [
    "# Read the latest pages data into a DataFrame\n",
    "df_latest = pd.read_csv('popular_pages_latest_90day.csv')\n",
    "\n",
    "# Print the DataFrame\n",
    "df_latest.head()"
   ]
  },
  {
   "cell_type": "code",
   "execution_count": null,
   "id": "0e7272f3-0523-4fe0-b7a4-b9ae637539ca",
   "metadata": {},
   "outputs": [],
   "source": [
    "first_page = vm.Page(\n",
    "    title=\"Docs page data (last 90 days)\",\n",
    "    layout=vm.Layout(grid=[[0,0],[1,2]]),\n",
    "    components=[\n",
    "        vm.Graph(\n",
    "            id=\"line_views\",\n",
    "            figure=px.line(df_views, x=\"Date\", y=\"Views\", \n",
    "                            labels={\"Date\": \"Date\", \"Views\": \"Total views\"}),\n",
    "        ),\n",
    "       vm.Graph(\n",
    "            id=\"stable_views\",\n",
    "            figure=px.bar(df_stable.head(10), x=\"Total views\", y=\"Path\", labels={\"Date\": \"Date\", \"Total views\": \"Page views on stable\"}, orientation='h')\n",
    "        ),\n",
    "        vm.Graph(\n",
    "            id=\"latest_views\",\n",
    "            figure=px.bar(df_latest.head(10), x=\"Total views\", y=\"Path\", labels={\"Date\": \"Date\", \"Total views\": \"Page views on latest\"}, orientation='h')\n",
    "        ),\n",
    "\n",
    "    ],\n",
    ")\n"
   ]
  },
  {
   "cell_type": "code",
   "execution_count": null,
   "id": "240714fd-3ffc-4374-a429-4aed219d75b9",
   "metadata": {
    "scrolled": true
   },
   "outputs": [],
   "source": [
    "dashboard = vm.Dashboard(pages=[first_page])\n",
    "Vizro().build(dashboard).run()"
   ]
  },
  {
   "cell_type": "markdown",
   "id": "8d42d3fe-f984-484b-8c5d-9c92f506c682",
   "metadata": {},
   "source": [
    "DASHBOARD IMPROVEMENTS\n",
    "* Add a date picker to the 90 days view data\n",
    "* Side by side comparison of popular pages on latest/stable so we can see ratios of latest/stable views per page"
   ]
  },
  {
   "cell_type": "code",
   "execution_count": null,
   "id": "33e9c717-6284-40f3-8696-68ce1f6de175",
   "metadata": {},
   "outputs": [],
   "source": []
  }
 ],
 "metadata": {
  "kernelspec": {
   "display_name": "Python 3 (ipykernel)",
   "language": "python",
   "name": "python3"
  },
  "language_info": {
   "codemirror_mode": {
    "name": "ipython",
    "version": 3
   },
   "file_extension": ".py",
   "mimetype": "text/x-python",
   "name": "python",
   "nbconvert_exporter": "python",
   "pygments_lexer": "ipython3",
   "version": "3.8.18"
  }
 },
 "nbformat": 4,
 "nbformat_minor": 5
}
