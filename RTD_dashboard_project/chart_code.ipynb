{
 "cells": [
  {
   "cell_type": "code",
   "execution_count": 1,
   "id": "d54150de-7887-4b93-a862-2039ee381aa9",
   "metadata": {},
   "outputs": [],
   "source": [
    "# Vizro-AI usage\n",
    "import pandas as pd\n",
    "\n",
    "df = pd.read_csv('website_traffic_data.csv')\n",
    "df[\"Date\"] = pd.to_datetime(df['Date'],dayfirst=True)"
   ]
  },
  {
   "cell_type": "code",
   "execution_count": 2,
   "id": "8e81fd5c-a712-447c-aee2-e517f3b139f4",
   "metadata": {},
   "outputs": [],
   "source": [
    "from vizro.models.types import capture\n",
    "import plotly.express as px\n",
    "import plotly.graph_objects as go\n",
    "import pandas as pd\n"
   ]
  },
  {
   "cell_type": "code",
   "execution_count": 3,
   "id": "195e2a0e-be2e-4947-8cc6-41f9a71af225",
   "metadata": {},
   "outputs": [],
   "source": [
    "\n",
    "@capture('graph')\n",
    "def compare_versions_custom_chart(data_frame=None):\n",
    "    if data_frame is None:\n",
    "        data_frame = pd.DataFrame()\n",
    "    \n",
    "    data_frame['Date'] = pd.to_datetime(data_frame['Date'])\n",
    "    # Group by Date and Version and sum the Views\n",
    "    aggregated_df = data_frame.groupby(['Date', 'Version'])['Views'].sum().reset_index()\n",
    "    # Pivot the dataframe to have Versions as columns\n",
    "    pivot_df = aggregated_df.pivot(index='Date', columns='Version', values='Views')\n",
    "    # Fill NaN values with 0\n",
    "    pivot_df.fillna(0, inplace=True)\n",
    "    data_frame = pivot_df.reset_index()\n",
    "\n",
    "    # Create a line trace for each version\n",
    "    trace1 = go.Scatter(x=data_frame['Date'], y=data_frame['latest'], mode='lines', name='latest', line=dict(color='#689F38'))\n",
    "    trace2 = go.Scatter(x=data_frame['Date'], y=data_frame['stable'], mode='lines', name='stable', line=dict(color='#FDC935'))\n",
    "\n",
    "    # Define the layout\n",
    "    layout = go.Layout(title='Views per Date for latest and stable Version', xaxis=dict(title='Date'), yaxis=dict(title='Views'))\n",
    "\n",
    "    # Create a Figure and add the traces\n",
    "    fig = go.Figure(data=[trace1, trace2], layout=layout)\n",
    "\n",
    "    # Return the figure\n",
    "    return fig\n",
    "\n",
    "compare_versions_fig = compare_versions_custom_chart(data_frame=df)"
   ]
  },
  {
   "cell_type": "code",
   "execution_count": 4,
   "id": "ce26a868-2a0b-4c37-9d71-b5df598f6cfa",
   "metadata": {},
   "outputs": [],
   "source": [
    "\n",
    "@capture('graph')\n",
    "def top_5_pages_custom_chart(data_frame=None):\n",
    "    if data_frame is None:\n",
    "        return None\n",
    "    data_frame = data_frame[data_frame['Version'] == 'stable']\n",
    "    result = data_frame.groupby('Path')['Views'].sum().sort_values(ascending=False).head(5)\n",
    "    data_frame = result.reset_index()\n",
    "    fig = px.bar(data_frame, x='Views', y='Path', orientation='h', text='Views')\n",
    "    fig.update_traces(texttemplate='%{text:.2s}', textposition='inside')\n",
    "    fig.update_layout(uniformtext_minsize=8, uniformtext_mode='hide')\n",
    "    return fig\n",
    "\n",
    "top_performing_pages_fig = top_5_pages_custom_chart(data_frame=df)"
   ]
  },
  {
   "cell_type": "code",
   "execution_count": 5,
   "id": "8ab9cfec-c2f5-4645-8e88-ca669fdefe25",
   "metadata": {},
   "outputs": [],
   "source": [
    "\n",
    "@capture('graph')\n",
    "def top_pages_by_date_custom_chart(data_frame=None):\n",
    "    if data_frame is None:\n",
    "        return None\n",
    "    data_frame = data_frame[data_frame['Version'] == 'stable']\n",
    "    # Group by 'Date' and 'Path', and sum 'Views'\n",
    "    data_frame = data_frame.groupby(['Date', 'Path'])['Views'].sum().reset_index()\n",
    "    # Get top 5 'Path' by total 'Views'\n",
    "    top_paths = data_frame.groupby('Path')['Views'].sum().nlargest(5).index\n",
    "    data_frame = data_frame[data_frame['Path'].isin(top_paths)].reset_index()\n",
    "\n",
    "    # Create line chart\n",
    "    fig = px.line(data_frame, x='Date', y='Views', color='Path', title='Total Views per Date for Top 5 Paths')\n",
    "\n",
    "    # Return plot\n",
    "    return fig\n",
    "\n",
    "top_pages_by_date_fig = top_pages_by_date_custom_chart(data_frame=df)"
   ]
  }
 ],
 "metadata": {
  "kernelspec": {
   "display_name": "Python 3 (ipykernel)",
   "language": "python",
   "name": "python3"
  },
  "language_info": {
   "codemirror_mode": {
    "name": "ipython",
    "version": 3
   },
   "file_extension": ".py",
   "mimetype": "text/x-python",
   "name": "python",
   "nbconvert_exporter": "python",
   "pygments_lexer": "ipython3",
   "version": "3.10.14"
  }
 },
 "nbformat": 4,
 "nbformat_minor": 5
}
