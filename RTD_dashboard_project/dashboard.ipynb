{
 "cells": [
  {
   "cell_type": "code",
   "execution_count": null,
   "id": "a7af8aa9-e461-411f-8db7-a6ef0ff2f58a",
   "metadata": {},
   "outputs": [],
   "source": [
    "# Build fake readthedocs usage data"
   ]
  },
  {
   "cell_type": "code",
   "execution_count": 1,
   "id": "503e2c44-698a-4429-8a8c-8a95fe8d6ad4",
   "metadata": {},
   "outputs": [
    {
     "name": "stdout",
     "output_type": "stream",
     "text": [
      "CSV file generated successfully.\n"
     ]
    }
   ],
   "source": [
    "import csv\n",
    "import random\n",
    "from datetime import datetime, timedelta\n",
    "\n",
    "# Function to generate a random date within the specified range\n",
    "def random_date(start_date, end_date):\n",
    "    delta = end_date - start_date\n",
    "    random_days = random.randint(0, delta.days)\n",
    "    return start_date + timedelta(days=random_days)\n",
    "\n",
    "# Function to generate fake website traffic data for 30 days\n",
    "def generate_traffic_data():\n",
    "    start_date = datetime(2023, 3, 1)\n",
    "    end_date = datetime(2023, 3, 31)\n",
    "    versions = ['stable', 'latest']\n",
    "    # Specify a page multiple times to increase the page weighting in usage data\n",
    "    paths = [\n",
    "        'index.html',\n",
    "        'index.html',\n",
    "        'index.html',\n",
    "        'index.html',\n",
    "        'index.html',\n",
    "        'about.html',\n",
    "        'contact.html',\n",
    "        'features.html',\n",
    "        'pricing.html',\n",
    "        'get-started.html',\n",
    "        'get-started.html',\n",
    "        'get-started.html',\n",
    "        'tutorial.html',\n",
    "        'tutorial.html',\n",
    "        'tutorial.html',\n",
    "        'tutorial.html',\n",
    "        'explore.html',\n",
    "        'faqs.html',\n",
    "        'faqs.html',\n",
    "        'contribution-guide.html',\n",
    "        'team.html',\n",
    "        'mission-statement.html',\n",
    "        'our-values.html',\n",
    "        'use-cases.html',\n",
    "        'documentation.html',\n",
    "        'directory.html',\n",
    "        'developer-guide.html',\n",
    "        'terms.html',\n",
    "        'our-location.html',\n",
    "        'branding-guidelines.html',\n",
    "        'sitemap.html',\n",
    "        'press.html',\n",
    "        'news.html',\n",
    "        \n",
    "    ]\n",
    "\n",
    "    data = []\n",
    "    for _ in range(3000):\n",
    "        date = random_date(start_date, end_date).strftime('%d/%m/%Y')\n",
    "        version = random.choice(versions)\n",
    "        path = random.choice(paths)\n",
    "        views = random.randint(1, 40000)\n",
    "        data.append([date, version, path, views])\n",
    "\n",
    "    return data\n",
    "\n",
    "# Generate fake website traffic data\n",
    "traffic_data = generate_traffic_data()\n",
    "\n",
    "# Write data to CSV file\n",
    "with open('website_traffic_data.csv', 'w', newline='') as csvfile:\n",
    "    writer = csv.writer(csvfile, delimiter=',')\n",
    "    writer.writerow(['Date', 'Version', 'Path', 'Views'])\n",
    "    writer.writerows(traffic_data)\n",
    "\n",
    "print(\"CSV file generated successfully.\")"
   ]
  },
  {
   "cell_type": "code",
   "execution_count": 2,
   "id": "6f038835-2c34-4d86-93b6-16eabf3676ad",
   "metadata": {},
   "outputs": [
    {
     "data": {
      "text/html": [
       "<div>\n",
       "<style scoped>\n",
       "    .dataframe tbody tr th:only-of-type {\n",
       "        vertical-align: middle;\n",
       "    }\n",
       "\n",
       "    .dataframe tbody tr th {\n",
       "        vertical-align: top;\n",
       "    }\n",
       "\n",
       "    .dataframe thead th {\n",
       "        text-align: right;\n",
       "    }\n",
       "</style>\n",
       "<table border=\"1\" class=\"dataframe\">\n",
       "  <thead>\n",
       "    <tr style=\"text-align: right;\">\n",
       "      <th></th>\n",
       "      <th>Date</th>\n",
       "      <th>Version</th>\n",
       "      <th>Path</th>\n",
       "      <th>Views</th>\n",
       "    </tr>\n",
       "  </thead>\n",
       "  <tbody>\n",
       "    <tr>\n",
       "      <th>0</th>\n",
       "      <td>13/03/2023</td>\n",
       "      <td>stable</td>\n",
       "      <td>sitemap.html</td>\n",
       "      <td>4087</td>\n",
       "    </tr>\n",
       "    <tr>\n",
       "      <th>1</th>\n",
       "      <td>06/03/2023</td>\n",
       "      <td>latest</td>\n",
       "      <td>faqs.html</td>\n",
       "      <td>33650</td>\n",
       "    </tr>\n",
       "    <tr>\n",
       "      <th>2</th>\n",
       "      <td>10/03/2023</td>\n",
       "      <td>latest</td>\n",
       "      <td>mission-statement.html</td>\n",
       "      <td>19972</td>\n",
       "    </tr>\n",
       "    <tr>\n",
       "      <th>3</th>\n",
       "      <td>14/03/2023</td>\n",
       "      <td>latest</td>\n",
       "      <td>sitemap.html</td>\n",
       "      <td>37489</td>\n",
       "    </tr>\n",
       "    <tr>\n",
       "      <th>4</th>\n",
       "      <td>27/03/2023</td>\n",
       "      <td>stable</td>\n",
       "      <td>tutorial.html</td>\n",
       "      <td>29531</td>\n",
       "    </tr>\n",
       "  </tbody>\n",
       "</table>\n",
       "</div>"
      ],
      "text/plain": [
       "         Date Version                    Path  Views\n",
       "0  13/03/2023  stable            sitemap.html   4087\n",
       "1  06/03/2023  latest               faqs.html  33650\n",
       "2  10/03/2023  latest  mission-statement.html  19972\n",
       "3  14/03/2023  latest            sitemap.html  37489\n",
       "4  27/03/2023  stable           tutorial.html  29531"
      ]
     },
     "execution_count": 2,
     "metadata": {},
     "output_type": "execute_result"
    }
   ],
   "source": [
    "# Vizro-AI usage\n",
    "import pandas as pd\n",
    "\n",
    "df = pd.read_csv('website_traffic_data.csv')\n",
    "df.head()"
   ]
  },
  {
   "cell_type": "code",
   "execution_count": null,
   "id": "2393ec6a-6f90-49d3-a680-8b7626682d07",
   "metadata": {},
   "outputs": [],
   "source": [
    "import vizro_ai\n",
    "print(vizro_ai.__version__)\n",
    "from dotenv import load_dotenv\n",
    "load_dotenv()\n",
    "from vizro_ai import VizroAI\n",
    "\n",
    "vizro_ai = VizroAI()"
   ]
  },
  {
   "cell_type": "code",
   "execution_count": null,
   "id": "703f966d-686d-4361-80de-fdd16acee9fa",
   "metadata": {},
   "outputs": [],
   "source": [
    "# Show total views by date\n",
    "vizro_ai.plot(df, \"Combine rows of Views for each Date and draw a line graph of Views per Date\", explain=True)"
   ]
  },
  {
   "cell_type": "code",
   "execution_count": null,
   "id": "e5f4440f-0bda-4c7c-adb2-d2b77fbe8a59",
   "metadata": {},
   "outputs": [],
   "source": [
    "# Compare latest and stable by date\n",
    "vizro_ai.plot(df, \"Combine rows of Views for each Date for Version==latest and Version== stable. Draw a line graph comparing Views per Date for latest and stable\", explain=True)"
   ]
  },
  {
   "cell_type": "code",
   "execution_count": null,
   "id": "059d460d-658f-4dcb-8aa4-8d6c1c2c48ba",
   "metadata": {},
   "outputs": [],
   "source": [
    "# Total views of the top performing stable pages\n",
    "vizro_ai.plot(df, \"Collate rows of data for Path where Version==stable. Create a chart with bars for the total Views for the top 10 pages. Add the numbers to each bar\", explain=True)"
   ]
  },
  {
   "cell_type": "code",
   "execution_count": null,
   "id": "a3ade817-d14c-41ca-9a02-c956665907da",
   "metadata": {},
   "outputs": [],
   "source": [
    "# Top 5 performing pages on stable by date\n",
    "vizro_ai.plot(df, \"Collate rows of data for Path where Version==stable. Create a line graph for the total Views per Date for the top 5 Paths.\", explain=True)\n"
   ]
  },
  {
   "cell_type": "code",
   "execution_count": 3,
   "id": "69bcf080-c43f-4a08-9a95-ef6120ef1abe",
   "metadata": {},
   "outputs": [],
   "source": [
    "from vizro import Vizro\n",
    "import vizro.models as vm\n",
    "\n",
    "import vizro.plotly.express as px\n",
    "import pandas as pd\n",
    "\n",
    "df = pd.read_csv('website_traffic_data.csv')\n",
    "df.head()\n",
    "\n",
    "def views_custom_graph(data_frame):\n",
    "    df = data_frame.groupby('Date')['Views'].sum().reset_index()\n",
    "    fig = px.line(df, x='Date', y='Views')\n",
    "    return fig\n",
    "\n",
    "def views_separated_custom_barchart(data_frame):\n",
    "    df_combined = data_frame.groupby(['Date', 'Version'])['Views'].sum().unstack()\n",
    "    df = df_combined.reset_index()\n",
    "    fig = px.line(df, x='Date', y=['latest', 'stable'], title='Views per Date for latest and stable')\n",
    "    return fig\n",
    "\n",
    "def popular_views_custom_barchart(data_frame, stable=True):\n",
    "    if stable:\n",
    "        df_version = data_frame[data_frame['Version'] == 'stable']\n",
    "    else:\n",
    "        df_version = data_frame[data_frame['Version'] == 'latest']\n",
    "\n",
    "    chart_data = df_version.groupby('Path')['Views'].sum().nlargest(10)\n",
    "    df = chart_data.reset_index()\n",
    "\n",
    "    fig = px.bar(df, x='Path', y='Views', text='Views', title='Top 10 Pages by Views')\n",
    "    fig.update_traces(texttemplate='%{text:.2s}', textposition='outside')\n",
    "    fig.update_layout(uniformtext_minsize=8, uniformtext_mode='hide')\n",
    "    return fig\n",
    "\n",
    "def popular_views_custom_graph(data_frame, stable=True):\n",
    "    if stable:\n",
    "        df_version = data_frame[data_frame['Version'] == 'stable']\n",
    "    else:\n",
    "        df_version = data_frame[data_frame['Version'] == 'latest']\n",
    "\n",
    "    df_version_grouped = df_version.groupby(['Date', 'Path']).sum().reset_index()\n",
    "    top_5_paths = df_version_grouped.groupby('Path').sum().nlargest(5, 'Views').index\n",
    "    df_top_5_paths = df_version_grouped[df_version_grouped['Path'].isin(top_5_paths)]\n",
    "    df = df_top_5_paths.reset_index()\n",
    "\n",
    "    fig = px.line(df_top_5_paths, x='Date', y='Views', color='Path')\n",
    "    return fig\n",
    "\n",
    "first_page = vm.Page(\n",
    "title=\"Docs page data (last 90 days)\",\n",
    "layout=vm.Layout(grid=[[0,1],[0,1], [2,3], [2,3], [4,5],[4,5]]),\n",
    "components=[\n",
    "    # Total views by date\n",
    "    vm.Graph(id='all views graph', figure=views_custom_graph(df)),\n",
    "    \n",
    "    # Latest and stable by date\n",
    "    vm.Graph(id='version views graph', figure=views_separated_custom_barchart(df)),\n",
    "    \n",
    "    # Top performing stable pages\n",
    "    vm.Graph(id='popular pages chart stable', figure=popular_views_custom_barchart(df)),\n",
    "\n",
    "    # Top 5 stable pages by date\n",
    "    vm.Graph(id='popular pages graph stable', figure=popular_views_custom_graph(df)),\n",
    "    \n",
    "    # Top performing latest pages\n",
    "    vm.Graph(id='popular pages chart latest', figure=popular_views_custom_barchart(df, False)),\n",
    "\n",
    "    # Top 5 latest pages by date\n",
    "    vm.Graph(id='popular pages graph latest', figure=popular_views_custom_graph(df, False)),\n",
    "    ],\n",
    ")"
   ]
  },
  {
   "cell_type": "code",
   "execution_count": 4,
   "id": "c2b6f2b1-4c9a-41df-a542-fd512d97ab48",
   "metadata": {},
   "outputs": [
    {
     "data": {
      "text/html": [
       "\n",
       "        <iframe\n",
       "            width=\"100%\"\n",
       "            height=\"650\"\n",
       "            src=\"http://127.0.0.1:8050/\"\n",
       "            frameborder=\"0\"\n",
       "            allowfullscreen\n",
       "            \n",
       "        ></iframe>\n",
       "        "
      ],
      "text/plain": [
       "<IPython.lib.display.IFrame at 0x11e6176d0>"
      ]
     },
     "metadata": {},
     "output_type": "display_data"
    }
   ],
   "source": [
    "dashboard = vm.Dashboard(pages=[first_page])\n",
    "Vizro().build(dashboard).run()"
   ]
  },
  {
   "cell_type": "code",
   "execution_count": null,
   "id": "d44cfc87-086a-43ba-b3ec-4e399d70d915",
   "metadata": {},
   "outputs": [],
   "source": []
  }
 ],
 "metadata": {
  "kernelspec": {
   "display_name": "Python 3 (ipykernel)",
   "language": "python",
   "name": "python3"
  },
  "language_info": {
   "codemirror_mode": {
    "name": "ipython",
    "version": 3
   },
   "file_extension": ".py",
   "mimetype": "text/x-python",
   "name": "python",
   "nbconvert_exporter": "python",
   "pygments_lexer": "ipython3",
   "version": "3.10.14"
  }
 },
 "nbformat": 4,
 "nbformat_minor": 5
}
