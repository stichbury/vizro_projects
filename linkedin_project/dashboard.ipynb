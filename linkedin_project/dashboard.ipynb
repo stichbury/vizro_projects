{
 "cells": [
  {
   "cell_type": "code",
   "execution_count": null,
   "id": "fea0235f-e04a-41da-92c4-9dca241c0633",
   "metadata": {},
   "outputs": [],
   "source": []
  },
  {
   "cell_type": "code",
   "execution_count": null,
   "id": "d54150de-7887-4b93-a862-2039ee381aa9",
   "metadata": {},
   "outputs": [],
   "source": [
    "\n",
    "# Vizro-AI usage\n",
    "import pandas as pd\n",
    "# Edit this cell if you want to point to your own RTD traffic data\n",
    "df = pd.read_csv('linkedin-connections.csv')\n",
    "df.head(10)\n"
   ]
  },
  {
   "cell_type": "code",
   "execution_count": null,
   "id": "bc58b59d-95d0-459a-8a80-e8ccfdd883a2",
   "metadata": {},
   "outputs": [],
   "source": [
    "\n",
    "import vizro_ai\n",
    "from vizro_ai import VizroAI\n",
    "from dotenv import load_dotenv\n",
    "load_dotenv()\n",
    "\n",
    "vizro_ai = VizroAI(model=\"gpt-4-0613\") "
   ]
  },
  {
   "cell_type": "code",
   "execution_count": null,
   "id": "be8207ec-70f8-4106-89fb-720c69a2423e",
   "metadata": {},
   "outputs": [],
   "source": [
    "# This cell works fine\n",
    "# Find the most popular names\n",
    "name_popularity_fig = vizro_ai.plot(df, \"Find the 20 most frequent entries in the First Name column and plot in a bar graph\", explain=True)\n",
    "name_popularity_fig.show()"
   ]
  },
  {
   "cell_type": "code",
   "execution_count": null,
   "id": "b02c8851-70ad-4504-94d9-a52fc26e2d19",
   "metadata": {},
   "outputs": [],
   "source": [
    "# I can't get this to work but haven't tried very hard yet!\n",
    "# Show a word cloud of job descriptions\n",
    "# reference https://github.com/PrashantSaikia/Wordcloud-in-Plotly/blob/master/plotly_wordcloud.py\n",
    "word_cloud_fig = vizro_ai.plot(df, \"Make a word cloud from the Position column\", explain=True)\n",
    "word_cloud_fig.show()\n",
    "# https://community.plotly.com/t/wordcloud-in-dash/11407/26?page=2\n",
    "# https://community.plotly.com/t/wordcloud-in-dash/11407/20?page=2"
   ]
  },
  {
   "cell_type": "code",
   "execution_count": null,
   "id": "176e1c0f-d0bc-451e-8351-ecc3a57737a9",
   "metadata": {},
   "outputs": [],
   "source": [
    "# I have spent time on this and cannot work out the failure\n",
    "# Compare latest and stable by date\n",
    "connections_count_fig = vizro_ai.plot(df, \"Using the Connected On column, plot a graph to show connection count against time\", explain=True)\n",
    "connections_count_fig.show()"
   ]
  },
  {
   "cell_type": "code",
   "execution_count": null,
   "id": "c659d8b1-18ea-4cb5-8be6-95aea8210d5a",
   "metadata": {},
   "outputs": [],
   "source": [
    "# This works fine\n",
    "# Show a bar chart of most popular companies\n",
    "company_popularity_fig = vizro_ai.plot(df, \"Find the 20 most frequent entries in the Company column and plot in a bar graph\", explain=True)\n",
    "company_popularity_fig.show()"
   ]
  },
  {
   "cell_type": "code",
   "execution_count": null,
   "id": "5d639305-5d7a-40a8-9804-e263d838d246",
   "metadata": {},
   "outputs": [],
   "source": []
  },
  {
   "cell_type": "code",
   "execution_count": null,
   "id": "448842fd-7b9e-4aa3-8826-94118af24c19",
   "metadata": {},
   "outputs": [],
   "source": []
  },
  {
   "cell_type": "code",
   "execution_count": null,
   "id": "f1c87593-2a63-4700-8e9b-de01ce1fa91e",
   "metadata": {},
   "outputs": [],
   "source": [
    "# Following cells are just to fake up some data"
   ]
  },
  {
   "cell_type": "code",
   "execution_count": null,
   "id": "6c785a8c-5cdf-4f54-b6e0-0757dfb2257a",
   "metadata": {},
   "outputs": [],
   "source": [
    "import csv\n",
    "import random\n",
    "\n",
    "# List of common boys' and girls' names\n",
    "names = [\n",
    "    \"Mohammed\", \"Mark\", \"William\", \"Tobias\", \"Mike\", \"Steve\", \"Nitin\", \"Dmitri\", \"Alain\", \"Rafael\",\n",
    "    \"Emma\", \"Laura\", \"Andra\", \"Isabella\", \"Sofia\", \"Emilia\", \"Pruthvi\", \"Aysha\", \"Kalyani\", \"Abigail\"\n",
    "]\n",
    "\n",
    "# Generate 1500 random names with repeats\n",
    "random_names = [random.choice(names) for _ in range(1500)]\n",
    "\n",
    "# Write to CSV\n",
    "with open('random_names.csv', 'w', newline='') as csvfile:\n",
    "    writer = csv.writer(csvfile)\n",
    "    writer.writerow(['Name'])  # Write header\n",
    "    for name in random_names:\n",
    "        writer.writerow([name])\n",
    "\n",
    "\n"
   ]
  },
  {
   "cell_type": "code",
   "execution_count": null,
   "id": "ad56bdc5-8c7c-452a-b289-cf5bc8a2bafa",
   "metadata": {},
   "outputs": [],
   "source": [
    "import csv\n",
    "import random\n",
    "\n",
    "# List of common company names\n",
    "names = [\n",
    "\"Apex Innovations\",\n",
    "\"Apex Innovations\",\n",
    "\"Apex Innovations\",    \n",
    "\"Apex Innovations\",\n",
    "\"Quantum Solutions\",\n",
    "\"Zenith Enterprises\",\n",
    "\"Synergy Dynamics\",\n",
    "\"Horizon Technologies\",\n",
    "\"Stellar Ventures\",\n",
    "\"Ascend Industries\",\n",
    "\"Nexus Global\",\n",
    "\"Vertex Systems\",    \n",
    "\"Vertex Systems\",    \n",
    "\"Vertex Systems\",\n",
    "\"Vertex Systems\",\n",
    "\"Summit Networks\",\n",
    "\"Fusion Corp\",\n",
    "\"Pinnacle Services\",\n",
    "\"Radiant Software\",\n",
    "\"Catalyst Logistics\",\n",
    "\"Stratosphere Holdings\",\n",
    "\"Vantage Partners\",\n",
    "\"Elevate Media\",\n",
    "\"Elevate Media\",\n",
    "\"Elevate Media\",\n",
    "\"Elevate Media\",    \n",
    "\"Elevate Media\",\n",
    "\"Infinity Resources\",\n",
    "\"Vanguard Consulting\",\n",
    "\"Equinox Energy\",\n",
    "\"Eclipse Dynamics\",\n",
    "\"Eclipse Dynamics\",\n",
    "\"Eclipse Dynamics\",    \n",
    "\"NovaTech Solutions\",\n",
    "\"PrimeWave Technologies\",\n",
    "\"Titanium Systems\",\n",
    "\"Skyline Ventures\",\n",
    "\"Luminous Labs\",\n",
    "\"Optima Enterprises\",\n",
    "\"Optima Enterprises\",    \n",
    "\"Optima Enterprises\",\n",
    "\"Optima Enterprises\",\n",
    "\"Optima Enterprises\",\n",
    "\"Optima Enterprises\",    \n",
    "\"Blue Horizon Group\",\n",
    "\"NextGen Innovations\",\n",
    "\"Aurora Dynamics\",\n",
    "\"Peak Performance Solutions\",\n",
    "\"TerraTech Industries\",\n",
    "\"Momentum Corp\",\n",
    "\"Omega Innovations\",\n",
    "\"Omega Innovations\",\n",
    "\"Trailblazer Systems\",\n",
    "\"Vertex Ventures\",\n",
    "\"Polaris Technologies\",\n",
    "\"Elevate Enterprises\",\n",
    "\"QuantumWave Solutions\",\n",
    "\"SummitTech Services\",\n",
    "\"Radiant Ventures\",\n",
    "\"Ascend Global\",\n",
    "\"Innovative Synergy\",\n",
    "\"Pinnacle Dynamics\",\n",
    "\"Pinnacle Dynamics\",\n",
    "\"Pinnacle Dynamics\",\n",
    "\"Pinnacle Dynamics\",\n",
    "\"Pinnacle Dynamics\",\n",
    "\"Pinnacle Dynamics\",\n",
    "\"Pinnacle Dynamics\",\n",
    "\"Pinnacle Dynamics\",    \n",
    "\"Horizon Ventures\",\n",
    "\"Catalyst Innovations\",\n",
    "\"Apex Dynamics\",\n",
    "\"Vertex Innovations\",\n",
    "\"Zenith Technologies\"\n",
    "]\n",
    "\n",
    "# Generate 1500 random names with repeats\n",
    "random_names = [random.choice(names) for _ in range(1500)]\n",
    "\n",
    "# Write to CSV\n",
    "with open('random_company_names.csv', 'w', newline='') as csvfile:\n",
    "    writer = csv.writer(csvfile)\n",
    "    writer.writerow(['Company'])  # Write header\n",
    "    for name in random_names:\n",
    "        writer.writerow([name])"
   ]
  },
  {
   "cell_type": "code",
   "execution_count": null,
   "id": "bc4030f9-5034-42c5-9040-d3ffc8538671",
   "metadata": {},
   "outputs": [],
   "source": [
    "\n",
    "\n",
    "\n"
   ]
  }
 ],
 "metadata": {
  "kernelspec": {
   "display_name": "Python 3 (ipykernel)",
   "language": "python",
   "name": "python3"
  },
  "language_info": {
   "codemirror_mode": {
    "name": "ipython",
    "version": 3
   },
   "file_extension": ".py",
   "mimetype": "text/x-python",
   "name": "python",
   "nbconvert_exporter": "python",
   "pygments_lexer": "ipython3",
   "version": "3.10.14"
  }
 },
 "nbformat": 4,
 "nbformat_minor": 5
}
