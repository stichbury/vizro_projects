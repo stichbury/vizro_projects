{
 "cells": [
  {
   "cell_type": "code",
   "execution_count": null,
   "id": "d54150de-7887-4b93-a862-2039ee381aa9",
   "metadata": {},
   "outputs": [],
   "source": [
    "# Vizro-AI usage\n",
    "import pandas as pd\n",
    "\n",
    "df = pd.read_csv('website_traffic_data.csv')\n",
    "df[\"Date\"] = pd.to_datetime(df['Date'],dayfirst=True)"
   ]
  },
  {
   "cell_type": "code",
   "execution_count": null,
   "id": "bc58b59d-95d0-459a-8a80-e8ccfdd883a2",
   "metadata": {},
   "outputs": [],
   "source": [
    "import vizro_ai\n",
    "from vizro_ai import VizroAI\n",
    "from dotenv import load_dotenv\n",
    "\n",
    "print(vizro_ai.__version__)\n",
    "load_dotenv()\n",
    "\n",
    "vizro_ai = VizroAI(model=\"gpt-4-0613\")"
   ]
  },
  {
   "cell_type": "code",
   "execution_count": null,
   "id": "be8207ec-70f8-4106-89fb-720c69a2423e",
   "metadata": {},
   "outputs": [],
   "source": [
    "# Compare latest and stable by date\n",
    "compare_versions_fig = vizro_ai.plot(df, \"Combine rows of Views for each Date for latest and stable Version. Draw a smoothed line graph comparing Views per Date for latest and stable.\", explain=True)\n",
    "compare_versions_fig.show()"
   ]
  },
  {
   "cell_type": "code",
   "execution_count": null,
   "id": "4b0a96dc-60b6-44bd-bd09-43e3b150d79b",
   "metadata": {},
   "outputs": [],
   "source": [
    "# Total views of the top performing stable pages\n",
    "top_performing_pages_fig = vizro_ai.plot(df, \"Collate rows of data for Path where Version==stable. Create a horizontal bar chart describing the total Views for the top 5 pages. Add the numbers to each bar. Decrease font size of marks\", explain=True)\n",
    "top_performing_pages_fig.show()"
   ]
  },
  {
   "cell_type": "code",
   "execution_count": null,
   "id": "75c98491-03fe-4085-8139-441527c2b33c",
   "metadata": {},
   "outputs": [],
   "source": [
    "# Top 5 performing pages on stable by date\n",
    "top_pages_by_date_fig = vizro_ai.plot(df, \"Collate rows of data for Path where Version==stable. Create a line graph for the total Views per Date for the top 5 Paths\", explain=True)\n",
    "top_pages_by_date_fig.show()"
   ]
  },
  {
   "cell_type": "code",
   "execution_count": null,
   "id": "3de04c04-8abe-487c-a6c4-51c27e9e7940",
   "metadata": {},
   "outputs": [],
   "source": [
    "# Dashboard using Vizro-AI calls only\n",
    "from vizro import Vizro\n",
    "import vizro.models as vm\n",
    "import vizro.plotly.express as px\n",
    "\n",
    "first_page = vm.Page(\n",
    "title=\"Documentation traffic dashboard\",\n",
    "layout=vm.Layout(\n",
    "    grid=[\n",
    "        [0, 0, 2, 2],\n",
    "        [0, 0, 2, 2], \n",
    "        [0, 0, 2, 2], \n",
    "        [1, 1, 2, 2],\n",
    "        [1, 1, 2, 2],\n",
    "        [1, 1, 2, 2],\n",
    "    ],\n",
    "),\n",
    "components=[\n",
    "    # Latest and stable by date\n",
    "    vm.Graph(id='version_views_graph', figure=compare_versions_fig),\n",
    "    \n",
    "    # Top performing stable pages\n",
    "    vm.Graph(id='popular_pages_chart_stable', figure=top_performing_pages_fig),\n",
    "\n",
    "    # Top 5 stable pages by date\n",
    "    vm.Graph(id='popular_pages_graph_stable', figure=top_pages_by_date_fig),\n",
    "    ],\n",
    ")\n",
    "dashboard = vm.Dashboard(pages=[first_page])\n",
    "Vizro().build(dashboard).run(port=8006)"
   ]
  },
  {
   "cell_type": "code",
   "execution_count": null,
   "id": "f32d0b9b-29da-4cf2-bead-513fb205167a",
   "metadata": {},
   "outputs": [],
   "source": [
    "# Dashboard from Vizro-AI calls and using Vizro-AI generated chart code\n",
    "from vizro import Vizro\n",
    "import vizro.models as vm\n",
    "import vizro.plotly.express as px\n",
    "from vizro.models.types import capture\n",
    "import plotly.graph_objects as go\n",
    "import pandas as pd\n",
    "\n",
    "@capture('graph')\n",
    "def compare_versions_custom_chart(data_frame=None):\n",
    "    if data_frame is None:\n",
    "        data_frame = pd.DataFrame()\n",
    "    \n",
    "    data_frame['Date'] = pd.to_datetime(data_frame['Date'])\n",
    "    # Group by Date and Version and sum the Views\n",
    "    aggregated_df = data_frame.groupby(['Date', 'Version'])['Views'].sum().reset_index()\n",
    "    # Pivot the dataframe to have Versions as columns\n",
    "    pivot_df = aggregated_df.pivot(index='Date', columns='Version', values='Views')\n",
    "    # Fill NaN values with 0\n",
    "    pivot_df.fillna(0, inplace=True)\n",
    "    data_frame = pivot_df.reset_index()\n",
    "\n",
    "    # Create a line trace for each version\n",
    "    trace1 = go.Scatter(x=data_frame['Date'], y=data_frame['latest'], mode='lines', name='latest', line=dict(color='#689F38'))\n",
    "    trace2 = go.Scatter(x=data_frame['Date'], y=data_frame['stable'], mode='lines', name='stable', line=dict(color='#FDC935'))\n",
    "\n",
    "    # Define the layout\n",
    "    layout = go.Layout(title='Views per Date for latest and stable Version', xaxis=dict(title='Date'), yaxis=dict(title='Views'))\n",
    "\n",
    "    # Create a Figure and add the traces\n",
    "    fig = go.Figure(data=[trace1, trace2], layout=layout)\n",
    "\n",
    "    # Return the figure\n",
    "    return fig   \n",
    "\n",
    "\n",
    "compare_versions_custom_fig = compare_versions_custom_chart(data_frame=df)\n",
    "\n",
    "first_page = vm.Page(\n",
    "title=\"Documentation traffic dashboard\",\n",
    "layout=vm.Layout(\n",
    "    grid=[\n",
    "        [0, 0, 2, 2],\n",
    "        [0, 0, 2, 2], \n",
    "        [0, 0, 2, 2], \n",
    "        [1, 1, 2, 2],\n",
    "        [1, 1, 2, 2],\n",
    "        [1, 1, 2, 2],\n",
    "    ],\n",
    "),\n",
    "components=[\n",
    "    # Latest and stable by date\n",
    "    vm.Graph(id='version_views_graph', figure=compare_versions_custom_fig),\n",
    "    \n",
    "    # Top performing stable pages\n",
    "    vm.Graph(id='popular_pages_chart_stable', figure=top_performing_pages_fig),\n",
    "\n",
    "    # Top 5 stable pages by date\n",
    "    vm.Graph(id='popular_pages_graph_stable', figure=top_pages_by_date_fig),\n",
    "    ],\n",
    ")\n",
    "dashboard = vm.Dashboard(pages=[first_page])\n",
    "Vizro().build(dashboard).run(port=8006)"
   ]
  },
  {
   "cell_type": "code",
   "execution_count": null,
   "id": "c659d8b1-18ea-4cb5-8be6-95aea8210d5a",
   "metadata": {},
   "outputs": [],
   "source": []
  }
 ],
 "metadata": {
  "kernelspec": {
   "display_name": "Python 3 (ipykernel)",
   "language": "python",
   "name": "python3"
  },
  "language_info": {
   "codemirror_mode": {
    "name": "ipython",
    "version": 3
   },
   "file_extension": ".py",
   "mimetype": "text/x-python",
   "name": "python",
   "nbconvert_exporter": "python",
   "pygments_lexer": "ipython3",
   "version": "3.10.14"
  }
 },
 "nbformat": 4,
 "nbformat_minor": 5
}
