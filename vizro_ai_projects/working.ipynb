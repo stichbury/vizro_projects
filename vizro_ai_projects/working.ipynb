{
 "cells": [
  {
   "cell_type": "code",
   "execution_count": null,
   "id": "a7af8aa9-e461-411f-8db7-a6ef0ff2f58a",
   "metadata": {},
   "outputs": [],
   "source": [
    "# Build fake readthedocs usage data"
   ]
  },
  {
   "cell_type": "code",
   "execution_count": 8,
   "id": "503e2c44-698a-4429-8a8c-8a95fe8d6ad4",
   "metadata": {},
   "outputs": [
    {
     "name": "stdout",
     "output_type": "stream",
     "text": [
      "CSV file generated successfully.\n"
     ]
    }
   ],
   "source": [
    "import csv\n",
    "import random\n",
    "from datetime import datetime, timedelta\n",
    "\n",
    "# Function to generate a random date within the specified range\n",
    "def random_date(start_date, end_date):\n",
    "    delta = end_date - start_date\n",
    "    random_days = random.randint(0, delta.days)\n",
    "    return start_date + timedelta(days=random_days)\n",
    "\n",
    "# Function to generate fake website traffic data\n",
    "def generate_traffic_data():\n",
    "    start_date = datetime(2023, 3, 1)\n",
    "    end_date = datetime(2023, 3, 31)\n",
    "    versions = ['stable', 'latest']\n",
    "    paths = [\n",
    "        '/pages/index.html',\n",
    "        '/pages/about.html',\n",
    "        '/pages/contact.html',\n",
    "        '/pages/features.html',\n",
    "        '/pages/pricing.html'\n",
    "    ]\n",
    "\n",
    "    data = []\n",
    "    for _ in range(1000):\n",
    "        date = random_date(start_date, end_date).strftime('%d/%m/%Y')\n",
    "        version = random.choice(versions)\n",
    "        path = random.choice(paths)\n",
    "        views = random.randint(1, 40000)\n",
    "        data.append([date, version, path, views])\n",
    "\n",
    "    return data\n",
    "\n",
    "# Generate fake website traffic data\n",
    "traffic_data = generate_traffic_data()\n",
    "\n",
    "# Write data to CSV file\n",
    "with open('website_traffic_data.csv', 'w', newline='') as csvfile:\n",
    "    writer = csv.writer(csvfile, delimiter=',')\n",
    "    writer.writerow(['Date', 'Version', 'Path', 'Views'])\n",
    "    writer.writerows(traffic_data)\n",
    "\n",
    "print(\"CSV file generated successfully.\")"
   ]
  },
  {
   "cell_type": "code",
   "execution_count": null,
   "id": "2146a560-1c84-4edf-b6e1-85dd622671e9",
   "metadata": {},
   "outputs": [],
   "source": [
    "# Vizro-AI usage"
   ]
  },
  {
   "cell_type": "code",
   "execution_count": 9,
   "id": "6f038835-2c34-4d86-93b6-16eabf3676ad",
   "metadata": {},
   "outputs": [
    {
     "data": {
      "text/html": [
       "<div>\n",
       "<style scoped>\n",
       "    .dataframe tbody tr th:only-of-type {\n",
       "        vertical-align: middle;\n",
       "    }\n",
       "\n",
       "    .dataframe tbody tr th {\n",
       "        vertical-align: top;\n",
       "    }\n",
       "\n",
       "    .dataframe thead th {\n",
       "        text-align: right;\n",
       "    }\n",
       "</style>\n",
       "<table border=\"1\" class=\"dataframe\">\n",
       "  <thead>\n",
       "    <tr style=\"text-align: right;\">\n",
       "      <th></th>\n",
       "      <th>Date</th>\n",
       "      <th>Version</th>\n",
       "      <th>Path</th>\n",
       "      <th>Views</th>\n",
       "    </tr>\n",
       "  </thead>\n",
       "  <tbody>\n",
       "    <tr>\n",
       "      <th>0</th>\n",
       "      <td>02/03/2023</td>\n",
       "      <td>latest</td>\n",
       "      <td>/pages/contact.html</td>\n",
       "      <td>21012</td>\n",
       "    </tr>\n",
       "    <tr>\n",
       "      <th>1</th>\n",
       "      <td>14/03/2023</td>\n",
       "      <td>latest</td>\n",
       "      <td>/pages/contact.html</td>\n",
       "      <td>24390</td>\n",
       "    </tr>\n",
       "    <tr>\n",
       "      <th>2</th>\n",
       "      <td>06/03/2023</td>\n",
       "      <td>latest</td>\n",
       "      <td>/pages/features.html</td>\n",
       "      <td>3778</td>\n",
       "    </tr>\n",
       "    <tr>\n",
       "      <th>3</th>\n",
       "      <td>17/03/2023</td>\n",
       "      <td>stable</td>\n",
       "      <td>/pages/features.html</td>\n",
       "      <td>17734</td>\n",
       "    </tr>\n",
       "    <tr>\n",
       "      <th>4</th>\n",
       "      <td>11/03/2023</td>\n",
       "      <td>latest</td>\n",
       "      <td>/pages/contact.html</td>\n",
       "      <td>30309</td>\n",
       "    </tr>\n",
       "  </tbody>\n",
       "</table>\n",
       "</div>"
      ],
      "text/plain": [
       "         Date Version                  Path  Views\n",
       "0  02/03/2023  latest   /pages/contact.html  21012\n",
       "1  14/03/2023  latest   /pages/contact.html  24390\n",
       "2  06/03/2023  latest  /pages/features.html   3778\n",
       "3  17/03/2023  stable  /pages/features.html  17734\n",
       "4  11/03/2023  latest   /pages/contact.html  30309"
      ]
     },
     "execution_count": 9,
     "metadata": {},
     "output_type": "execute_result"
    }
   ],
   "source": [
    "import plotly.express as px\n",
    "import pandas as pd\n",
    "\n",
    "df = pd.read_csv('website_traffic_data.csv')\n",
    "df.head()"
   ]
  },
  {
   "cell_type": "code",
   "execution_count": 10,
   "id": "2393ec6a-6f90-49d3-a680-8b7626682d07",
   "metadata": {},
   "outputs": [
    {
     "name": "stdout",
     "output_type": "stream",
     "text": [
      "0.1.2\n"
     ]
    }
   ],
   "source": [
    "import vizro_ai\n",
    "print(vizro_ai.__version__)\n",
    "from dotenv import load_dotenv\n",
    "load_dotenv()\n",
    "from vizro_ai import VizroAI"
   ]
  },
  {
   "cell_type": "code",
   "execution_count": 11,
   "id": "3a0cd2bc-895d-4bbb-baf8-aa5f608e9e48",
   "metadata": {},
   "outputs": [],
   "source": [
    "# show most popular pages for stable and latest"
   ]
  },
  {
   "cell_type": "code",
   "execution_count": 17,
   "id": "059d460d-658f-4dcb-8aa4-8d6c1c2c48ba",
   "metadata": {},
   "outputs": [
    {
     "name": "stderr",
     "output_type": "stream",
     "text": [
      "INFO:vizro_ai._vizro_ai:You have selected gpt-3.5-turbo-0613,Engaging with LLMs (Large Language Models) carries certain risks. Users are advised to become familiar with these risks to make informed decisions, and visit this page for detailed information: https://vizro-ai.readthedocs.io/en/latest/pages/explanation/disclaimer/\n",
      "INFO:httpx:HTTP Request: POST https://api.openai.com/v1/chat/completions \"HTTP/1.1 200 OK\"\n",
      "INFO:httpx:HTTP Request: POST https://api.openai.com/v1/chat/completions \"HTTP/1.1 200 OK\"\n",
      "INFO:httpx:HTTP Request: POST https://api.openai.com/v1/chat/completions \"HTTP/1.1 200 OK\"\n",
      "INFO:httpx:HTTP Request: POST https://api.openai.com/v1/chat/completions \"HTTP/1.1 200 OK\"\n",
      "INFO:httpx:HTTP Request: POST https://api.openai.com/v1/chat/completions \"HTTP/1.1 200 OK\"\n"
     ]
    },
    {
     "data": {
      "text/markdown": [
       "<h4>Insights:</h4>\n",
       "\n",
       "The code snippet is creating a chart with bars to compare the total views of each page for the 'stable' and 'latest' versions. It first filters the rows where the 'Version' is 'stable' and 'latest'. Then, it groups the data by 'Path' and sums the 'Views' for each version. Finally, it combines the two series into a single DataFrame and creates a bar chart using Plotly Express.\n",
       "<br><br><h4>Code:</h4>\n",
       "\n",
       "1. Filter rows where Version is 'stable'\n",
       "2. Filter rows where Version is 'latest'\n",
       "3. Group by Path and sum the Views for 'stable' version\n",
       "4. Group by Path and sum the Views for 'latest' version\n",
       "5. Combine the two series into a single DataFrame\n",
       "6. Reset the index of the DataFrame\n",
       "7. Create a bar chart using Plotly Express and Vizro with 'Path' as x-axis and 'Stable Views' and 'Latest Views' as y-axis\n",
       "8. Set the barmode to 'group'\n",
       "9. Set the title of the chart\n",
       "10. Return the chart\n",
       "<br>**This customized chart can be directly used in a Vizro dashboard.** \n",
       "Click [custom chart docs](https://vizro.readthedocs.io/en/stable/pages/user_guides/custom_charts/) for more information.\n",
       "```\n",
       "from vizro.models.types import capture\n",
       "import vizro.plotly.express as px\n",
       "import pandas as pd\n",
       "\n",
       "@capture('graph')\n",
       "def custom_chart(data_frame=None):\n",
       "    if data_frame is None:\n",
       "        data_frame = df\n",
       "    \n",
       "    # Filter rows where Version is stable\n",
       "    stable_df = data_frame[data_frame['Version'] == 'stable']\n",
       "    # Filter rows where Version is latest\n",
       "    latest_df = data_frame[data_frame['Version'] == 'latest']\n",
       "    # Group by Path and sum the Views for stable_df\n",
       "    stable_views = stable_df.groupby('Path')['Views'].sum()\n",
       "    # Group by Path and sum the Views for latest_df\n",
       "    latest_views = latest_df.groupby('Path')['Views'].sum()\n",
       "    # Combine the two series into a single DataFrame\n",
       "    data = pd.concat([stable_views, latest_views], axis=1)\n",
       "    data.columns = ['Stable Views', 'Latest Views']\n",
       "    df = data.reset_index()\n",
       "\n",
       "    fig = px.bar(df, x='Path', y=['Stable Views', 'Latest Views'], barmode='group', title='Views by Path for Stable and Latest Versions')\n",
       "    return fig\n",
       "\n",
       "fig = custom_chart(data_frame=df)\n",
       "```"
      ],
      "text/plain": [
       "<IPython.core.display.Markdown object>"
      ]
     },
     "metadata": {},
     "output_type": "display_data"
    },
    {
     "data": {
      "application/vnd.plotly.v1+json": {
       "config": {
        "plotlyServerURL": "https://plot.ly"
       },
       "data": [
        {
         "alignmentgroup": "True",
         "hovertemplate": "variable=Stable Views<br>Path=%{x}<br>value=%{y}<extra></extra>",
         "legendgroup": "Stable Views",
         "marker": {
          "color": "#00b4ff",
          "pattern": {
           "shape": ""
          }
         },
         "name": "Stable Views",
         "offsetgroup": "Stable Views",
         "orientation": "v",
         "showlegend": true,
         "textposition": "auto",
         "type": "bar",
         "x": [
          "/pages/about.html",
          "/pages/contact.html",
          "/pages/features.html",
          "/pages/index.html",
          "/pages/pricing.html"
         ],
         "xaxis": "x",
         "y": [
          1964890,
          1695591,
          1785324,
          1924349,
          2627655
         ],
         "yaxis": "y"
        },
        {
         "alignmentgroup": "True",
         "hovertemplate": "variable=Latest Views<br>Path=%{x}<br>value=%{y}<extra></extra>",
         "legendgroup": "Latest Views",
         "marker": {
          "color": "#ff9222",
          "pattern": {
           "shape": ""
          }
         },
         "name": "Latest Views",
         "offsetgroup": "Latest Views",
         "orientation": "v",
         "showlegend": true,
         "textposition": "auto",
         "type": "bar",
         "x": [
          "/pages/about.html",
          "/pages/contact.html",
          "/pages/features.html",
          "/pages/index.html",
          "/pages/pricing.html"
         ],
         "xaxis": "x",
         "y": [
          2003251,
          2030364,
          2086249,
          2082758,
          1940519
         ],
         "yaxis": "y"
        }
       ],
       "layout": {
        "autosize": true,
        "barmode": "group",
        "legend": {
         "title": {
          "text": "variable"
         },
         "tracegroupgap": 0
        },
        "template": {
         "data": {
          "bar": [
           {
            "marker": {
             "line": {
              "color": "#141721",
              "width": 1
             }
            },
            "textfont": {
             "color": "rgba(255,255,255,0.55)"
            },
            "type": "bar"
           }
          ],
          "table": [
           {
            "cells": {
             "align": "left",
             "fill": {
              "color": "#141721"
             },
             "font": {
              "color": "rgba(255,255,255,0.55)",
              "size": 14
             },
             "height": 32,
             "line": {
              "color": "rgba(255,255,255,0.10)"
             }
            },
            "header": {
             "align": "left",
             "fill": {
              "color": "#141721"
             },
             "font": {
              "color": "rgba(255,255,255,0.85)",
              "size": 14
             },
             "height": 32,
             "line": {
              "color": "rgba(255,255,255,0.10)"
             }
            },
            "type": "table"
           }
          ],
          "waterfall": [
           {
            "connector": {
             "line": {
              "color": "rgba(255,255,255,0.30)",
              "width": 1
             }
            },
            "decreasing": {
             "marker": {
              "color": "#ff9222"
             }
            },
            "increasing": {
             "marker": {
              "color": "#00b4ff"
             }
            },
            "textfont": {
             "color": "rgba(255,255,255,0.85)"
            },
            "textposition": "outside",
            "totals": {
             "marker": {
              "color": "#747F88"
             }
            },
            "type": "waterfall"
           }
          ]
         },
         "layout": {
          "annotationdefaults": {
           "font": {
            "color": "rgba(255,255,255,0.85)",
            "size": 14
           },
           "showarrow": false
          },
          "bargroupgap": 0.1,
          "coloraxis": {
           "colorbar": {
            "outlinewidth": 0,
            "showticklabels": true,
            "thickness": 20,
            "tickcolor": "rgba(255,255,255,0.30)",
            "tickfont": {
             "color": "rgba(255,255,255,0.55)",
             "family": "Inter, sans-serif, Arial",
             "size": 14
            },
            "ticklabelposition": "outside",
            "ticklen": 8,
            "ticks": "outside",
            "tickwidth": 1,
            "title": {
             "font": {
              "color": "rgba(255,255,255,0.55)",
              "family": "Inter, sans-serif, Arial",
              "size": 14
             }
            }
           }
          },
          "colorscale": {
           "diverging": [
            [
             0,
             "#003875"
            ],
            [
             0.05555555555555555,
             "#004c8c"
            ],
            [
             0.1111111111111111,
             "#0061a4"
            ],
            [
             0.16666666666666666,
             "#0077bd"
            ],
            [
             0.2222222222222222,
             "#0d8ed1"
            ],
            [
             0.2777777777777778,
             "#24a6e1"
            ],
            [
             0.3333333333333333,
             "#3bbef1"
            ],
            [
             0.3888888888888889,
             "#5bd6fe"
            ],
            [
             0.4444444444444444,
             "#afe7f9"
            ],
            [
             0.5,
             "#E6E8EA"
            ],
            [
             0.5555555555555556,
             "#f8d6da"
            ],
            [
             0.6111111111111112,
             "#fbb6be"
            ],
            [
             0.6666666666666666,
             "#fe94a0"
            ],
            [
             0.7222222222222222,
             "#f67486"
            ],
            [
             0.7777777777777778,
             "#ea536b"
            ],
            [
             0.8333333333333334,
             "#db2f4c"
            ],
            [
             0.8888888888888888,
             "#bc1f37"
            ],
            [
             0.9444444444444444,
             "#9d1021"
            ],
            [
             1,
             "#7e000c"
            ]
           ],
           "sequential": [
            [
             0,
             "#7e000c"
            ],
            [
             0.05555555555555555,
             "#9d1021"
            ],
            [
             0.1111111111111111,
             "#bc1f37"
            ],
            [
             0.16666666666666666,
             "#db2f4c"
            ],
            [
             0.2222222222222222,
             "#ea536b"
            ],
            [
             0.2777777777777778,
             "#f67486"
            ],
            [
             0.3333333333333333,
             "#fe94a0"
            ],
            [
             0.3888888888888889,
             "#fbb6be"
            ],
            [
             0.4444444444444444,
             "#f8d6da"
            ],
            [
             0.5,
             "#E6E8EA"
            ],
            [
             0.5555555555555556,
             "#afe7f9"
            ],
            [
             0.6111111111111112,
             "#5bd6fe"
            ],
            [
             0.6666666666666666,
             "#3bbef1"
            ],
            [
             0.7222222222222222,
             "#24a6e1"
            ],
            [
             0.7777777777777778,
             "#0d8ed1"
            ],
            [
             0.8333333333333334,
             "#0077bd"
            ],
            [
             0.8888888888888888,
             "#0061a4"
            ],
            [
             0.9444444444444444,
             "#004c8c"
            ],
            [
             1,
             "#003875"
            ]
           ],
           "sequentialminus": [
            [
             0,
             "#7e000c"
            ],
            [
             0.125,
             "#9d1021"
            ],
            [
             0.25,
             "#bc1f37"
            ],
            [
             0.375,
             "#db2f4c"
            ],
            [
             0.5,
             "#ea536b"
            ],
            [
             0.625,
             "#f67486"
            ],
            [
             0.75,
             "#fe94a0"
            ],
            [
             0.875,
             "#fbb6be"
            ],
            [
             1,
             "#f8d6da"
            ]
           ]
          },
          "colorway": [
           "#00b4ff",
           "#ff9222",
           "#3949ab",
           "#ff5267",
           "#08bdba",
           "#fdc935",
           "#689f38",
           "#976fd1",
           "#f781bf",
           "#52733e"
          ],
          "font": {
           "color": "rgba(255,255,255,0.85)",
           "family": "Inter, sans-serif, Arial",
           "size": 14
          },
          "geo": {
           "bgcolor": "#141721",
           "lakecolor": "#141721",
           "landcolor": "#141721"
          },
          "legend": {
           "bgcolor": "rgba(0, 0, 0, 0)",
           "font": {
            "color": "rgba(255,255,255,0.85)",
            "family": "Inter, sans-serif, Arial",
            "size": 14
           },
           "orientation": "h",
           "title": {
            "font": {
             "color": "rgba(255,255,255,0.85)",
             "family": "Inter, sans-serif, Arial",
             "size": 14
            },
            "text": ""
           },
           "y": -0.2
          },
          "mapbox": {
           "style": "carto-darkmatter"
          },
          "margin": {
           "autoexpand": true,
           "b": 64,
           "l": 80,
           "pad": 0,
           "r": 12,
           "t": 64
          },
          "paper_bgcolor": "#141721",
          "plot_bgcolor": "#141721",
          "polar": {
           "angularaxis": {
            "gridcolor": "rgba(255,255,255,0.10)",
            "linecolor": "rgba(255,255,255,0.30)"
           },
           "bgcolor": "#141721",
           "radialaxis": {
            "gridcolor": "rgba(255,255,255,0.10)",
            "linecolor": "rgba(255,255,255,0.30)"
           }
          },
          "showlegend": true,
          "ternary": {
           "aaxis": {
            "gridcolor": "rgba(255,255,255,0.10)",
            "linecolor": "rgba(255,255,255,0.30)"
           },
           "baxis": {
            "gridcolor": "rgba(255,255,255,0.10)",
            "linecolor": "rgba(255,255,255,0.30)"
           },
           "bgcolor": "#141721",
           "caxis": {
            "gridcolor": "rgba(255,255,255,0.10)",
            "linecolor": "rgba(255,255,255,0.30)"
           }
          },
          "title": {
           "font": {
            "color": "rgba(255,255,255,0.85)",
            "family": "Inter, sans-serif, Arial",
            "size": 20
           },
           "pad": {
            "b": 0,
            "l": 80,
            "r": 0,
            "t": 24
           },
           "x": 0,
           "xanchor": "left",
           "xref": "container",
           "y": 1,
           "yanchor": "top",
           "yref": "container"
          },
          "uniformtext": {
           "minsize": 12,
           "mode": "hide"
          },
          "xaxis": {
           "automargin": true,
           "gridcolor": "rgba(255,255,255,0.10)",
           "layer": "below traces",
           "linecolor": "rgba(255,255,255,0.30)",
           "linewidth": 1,
           "showline": true,
           "showticklabels": true,
           "tickcolor": "rgba(255,255,255,0.30)",
           "tickfont": {
            "color": "rgba(255,255,255,0.55)",
            "family": "Inter, sans-serif, Arial",
            "size": 14
           },
           "ticklabelposition": "outside",
           "ticklen": 8,
           "ticks": "outside",
           "tickwidth": 1,
           "title": {
            "font": {
             "color": "rgba(255,255,255,0.85)",
             "family": "Inter, sans-serif, Arial",
             "size": 16
            },
            "standoff": 8
           },
           "visible": true,
           "zeroline": false
          },
          "yaxis": {
           "automargin": true,
           "gridcolor": "rgba(255,255,255,0.10)",
           "layer": "below traces",
           "linecolor": "rgba(255,255,255,0.30)",
           "linewidth": 1,
           "showline": false,
           "showticklabels": true,
           "tickcolor": "rgba(255,255,255,0.30)",
           "tickfont": {
            "color": "rgba(255,255,255,0.55)",
            "family": "Inter, sans-serif, Arial",
            "size": 14
           },
           "ticklabelposition": "outside",
           "ticklen": 8,
           "ticks": "outside",
           "tickwidth": 1,
           "title": {
            "font": {
             "color": "rgba(255,255,255,0.85)",
             "family": "Inter, sans-serif, Arial",
             "size": 16
            },
            "standoff": 8
           },
           "visible": true,
           "zeroline": false
          }
         }
        },
        "title": {
         "text": "Views by Path for Stable and Latest Versions"
        },
        "xaxis": {
         "anchor": "y",
         "autorange": true,
         "domain": [
          0,
          1
         ],
         "range": [
          -0.5,
          4.5
         ],
         "title": {
          "text": "Path"
         },
         "type": "category"
        },
        "yaxis": {
         "anchor": "x",
         "autorange": true,
         "domain": [
          0,
          1
         ],
         "range": [
          0,
          2765952.6315789474
         ],
         "title": {
          "text": "value"
         },
         "type": "linear"
        }
       }
      },
      "image/png": "[encoded data removed]",
      "text/html": [
       "<div>                            <div id=\"dcd50931-f1c3-4c0b-8ba0-106d35c1693c\" class=\"plotly-graph-div\" style=\"height:525px; width:100%;\"></div>            <script type=\"text/javascript\">                require([\"plotly\"], function(Plotly) {                    window.PLOTLYENV=window.PLOTLYENV || {};                                    if (document.getElementById(\"dcd50931-f1c3-4c0b-8ba0-106d35c1693c\")) {                    Plotly.newPlot(                        \"dcd50931-f1c3-4c0b-8ba0-106d35c1693c\",                        [{\"alignmentgroup\":\"True\",\"hovertemplate\":\"variable=Stable Views\\u003cbr\\u003ePath=%{x}\\u003cbr\\u003evalue=%{y}\\u003cextra\\u003e\\u003c\\u002fextra\\u003e\",\"legendgroup\":\"Stable Views\",\"marker\":{\"color\":\"#00b4ff\",\"pattern\":{\"shape\":\"\"}},\"name\":\"Stable Views\",\"offsetgroup\":\"Stable Views\",\"orientation\":\"v\",\"showlegend\":true,\"textposition\":\"auto\",\"x\":[\"\\u002fpages\\u002fabout.html\",\"\\u002fpages\\u002fcontact.html\",\"\\u002fpages\\u002ffeatures.html\",\"\\u002fpages\\u002findex.html\",\"\\u002fpages\\u002fpricing.html\"],\"xaxis\":\"x\",\"y\":[1964890,1695591,1785324,1924349,2627655],\"yaxis\":\"y\",\"type\":\"bar\"},{\"alignmentgroup\":\"True\",\"hovertemplate\":\"variable=Latest Views\\u003cbr\\u003ePath=%{x}\\u003cbr\\u003evalue=%{y}\\u003cextra\\u003e\\u003c\\u002fextra\\u003e\",\"legendgroup\":\"Latest Views\",\"marker\":{\"color\":\"#ff9222\",\"pattern\":{\"shape\":\"\"}},\"name\":\"Latest Views\",\"offsetgroup\":\"Latest Views\",\"orientation\":\"v\",\"showlegend\":true,\"textposition\":\"auto\",\"x\":[\"\\u002fpages\\u002fabout.html\",\"\\u002fpages\\u002fcontact.html\",\"\\u002fpages\\u002ffeatures.html\",\"\\u002fpages\\u002findex.html\",\"\\u002fpages\\u002fpricing.html\"],\"xaxis\":\"x\",\"y\":[2003251,2030364,2086249,2082758,1940519],\"yaxis\":\"y\",\"type\":\"bar\"}],                        {\"template\":{\"data\":{\"bar\":[{\"marker\":{\"line\":{\"color\":\"#141721\",\"width\":1}},\"textfont\":{\"color\":\"rgba(255,255,255,0.55)\"},\"type\":\"bar\"}],\"table\":[{\"cells\":{\"align\":\"left\",\"fill\":{\"color\":\"#141721\"},\"font\":{\"color\":\"rgba(255,255,255,0.55)\",\"size\":14},\"height\":32,\"line\":{\"color\":\"rgba(255,255,255,0.10)\"}},\"header\":{\"align\":\"left\",\"fill\":{\"color\":\"#141721\"},\"font\":{\"color\":\"rgba(255,255,255,0.85)\",\"size\":14},\"height\":32,\"line\":{\"color\":\"rgba(255,255,255,0.10)\"}},\"type\":\"table\"}],\"waterfall\":[{\"connector\":{\"line\":{\"color\":\"rgba(255,255,255,0.30)\",\"width\":1}},\"decreasing\":{\"marker\":{\"color\":\"#ff9222\"}},\"increasing\":{\"marker\":{\"color\":\"#00b4ff\"}},\"textfont\":{\"color\":\"rgba(255,255,255,0.85)\"},\"textposition\":\"outside\",\"totals\":{\"marker\":{\"color\":\"#747F88\"}},\"type\":\"waterfall\"}]},\"layout\":{\"annotationdefaults\":{\"font\":{\"color\":\"rgba(255,255,255,0.85)\",\"size\":14},\"showarrow\":false},\"bargroupgap\":0.1,\"coloraxis\":{\"colorbar\":{\"outlinewidth\":0,\"showticklabels\":true,\"thickness\":20,\"tickcolor\":\"rgba(255,255,255,0.30)\",\"tickfont\":{\"color\":\"rgba(255,255,255,0.55)\",\"family\":\"Inter, sans-serif, Arial\",\"size\":14},\"ticklabelposition\":\"outside\",\"ticklen\":8,\"ticks\":\"outside\",\"tickwidth\":1,\"title\":{\"font\":{\"color\":\"rgba(255,255,255,0.55)\",\"family\":\"Inter, sans-serif, Arial\",\"size\":14}}}},\"colorscale\":{\"diverging\":[[0.0,\"#003875\"],[0.05555555555555555,\"#004c8c\"],[0.1111111111111111,\"#0061a4\"],[0.16666666666666666,\"#0077bd\"],[0.2222222222222222,\"#0d8ed1\"],[0.2777777777777778,\"#24a6e1\"],[0.3333333333333333,\"#3bbef1\"],[0.3888888888888889,\"#5bd6fe\"],[0.4444444444444444,\"#afe7f9\"],[0.5,\"#E6E8EA\"],[0.5555555555555556,\"#f8d6da\"],[0.6111111111111112,\"#fbb6be\"],[0.6666666666666666,\"#fe94a0\"],[0.7222222222222222,\"#f67486\"],[0.7777777777777778,\"#ea536b\"],[0.8333333333333334,\"#db2f4c\"],[0.8888888888888888,\"#bc1f37\"],[0.9444444444444444,\"#9d1021\"],[1.0,\"#7e000c\"]],\"sequential\":[[0.0,\"#7e000c\"],[0.05555555555555555,\"#9d1021\"],[0.1111111111111111,\"#bc1f37\"],[0.16666666666666666,\"#db2f4c\"],[0.2222222222222222,\"#ea536b\"],[0.2777777777777778,\"#f67486\"],[0.3333333333333333,\"#fe94a0\"],[0.3888888888888889,\"#fbb6be\"],[0.4444444444444444,\"#f8d6da\"],[0.5,\"#E6E8EA\"],[0.5555555555555556,\"#afe7f9\"],[0.6111111111111112,\"#5bd6fe\"],[0.6666666666666666,\"#3bbef1\"],[0.7222222222222222,\"#24a6e1\"],[0.7777777777777778,\"#0d8ed1\"],[0.8333333333333334,\"#0077bd\"],[0.8888888888888888,\"#0061a4\"],[0.9444444444444444,\"#004c8c\"],[1.0,\"#003875\"]],\"sequentialminus\":[[0.0,\"#7e000c\"],[0.125,\"#9d1021\"],[0.25,\"#bc1f37\"],[0.375,\"#db2f4c\"],[0.5,\"#ea536b\"],[0.625,\"#f67486\"],[0.75,\"#fe94a0\"],[0.875,\"#fbb6be\"],[1.0,\"#f8d6da\"]]},\"colorway\":[\"#00b4ff\",\"#ff9222\",\"#3949ab\",\"#ff5267\",\"#08bdba\",\"#fdc935\",\"#689f38\",\"#976fd1\",\"#f781bf\",\"#52733e\"],\"font\":{\"color\":\"rgba(255,255,255,0.85)\",\"family\":\"Inter, sans-serif, Arial\",\"size\":14},\"geo\":{\"bgcolor\":\"#141721\",\"lakecolor\":\"#141721\",\"landcolor\":\"#141721\"},\"legend\":{\"bgcolor\":\"rgba(0,0,0,0)\",\"font\":{\"color\":\"rgba(255,255,255,0.85)\",\"family\":\"Inter, sans-serif, Arial\",\"size\":14},\"orientation\":\"h\",\"title\":{\"font\":{\"color\":\"rgba(255,255,255,0.85)\",\"family\":\"Inter, sans-serif, Arial\",\"size\":14},\"text\":\"\"},\"y\":-0.2},\"mapbox\":{\"style\":\"carto-darkmatter\"},\"margin\":{\"autoexpand\":true,\"b\":64,\"l\":80,\"pad\":0,\"r\":12,\"t\":64},\"paper_bgcolor\":\"#141721\",\"plot_bgcolor\":\"#141721\",\"polar\":{\"angularaxis\":{\"gridcolor\":\"rgba(255,255,255,0.10)\",\"linecolor\":\"rgba(255,255,255,0.30)\"},\"bgcolor\":\"#141721\",\"radialaxis\":{\"gridcolor\":\"rgba(255,255,255,0.10)\",\"linecolor\":\"rgba(255,255,255,0.30)\"}},\"showlegend\":true,\"ternary\":{\"aaxis\":{\"gridcolor\":\"rgba(255,255,255,0.10)\",\"linecolor\":\"rgba(255,255,255,0.30)\"},\"baxis\":{\"gridcolor\":\"rgba(255,255,255,0.10)\",\"linecolor\":\"rgba(255,255,255,0.30)\"},\"bgcolor\":\"#141721\",\"caxis\":{\"gridcolor\":\"rgba(255,255,255,0.10)\",\"linecolor\":\"rgba(255,255,255,0.30)\"}},\"title\":{\"font\":{\"color\":\"rgba(255,255,255,0.85)\",\"family\":\"Inter, sans-serif, Arial\",\"size\":20},\"pad\":{\"b\":0,\"l\":80,\"r\":0,\"t\":24},\"x\":0,\"xanchor\":\"left\",\"xref\":\"container\",\"y\":1,\"yanchor\":\"top\",\"yref\":\"container\"},\"uniformtext\":{\"minsize\":12,\"mode\":\"hide\"},\"xaxis\":{\"automargin\":true,\"gridcolor\":\"rgba(255,255,255,0.10)\",\"layer\":\"below traces\",\"linecolor\":\"rgba(255,255,255,0.30)\",\"linewidth\":1,\"showline\":true,\"showticklabels\":true,\"tickcolor\":\"rgba(255,255,255,0.30)\",\"tickfont\":{\"color\":\"rgba(255,255,255,0.55)\",\"family\":\"Inter, sans-serif, Arial\",\"size\":14},\"ticklabelposition\":\"outside\",\"ticklen\":8,\"ticks\":\"outside\",\"tickwidth\":1,\"title\":{\"font\":{\"color\":\"rgba(255,255,255,0.85)\",\"family\":\"Inter, sans-serif, Arial\",\"size\":16},\"standoff\":8},\"visible\":true,\"zeroline\":false},\"yaxis\":{\"automargin\":true,\"gridcolor\":\"rgba(255,255,255,0.10)\",\"layer\":\"below traces\",\"linecolor\":\"rgba(255,255,255,0.30)\",\"linewidth\":1,\"showline\":false,\"showticklabels\":true,\"tickcolor\":\"rgba(255,255,255,0.30)\",\"tickfont\":{\"color\":\"rgba(255,255,255,0.55)\",\"family\":\"Inter, sans-serif, Arial\",\"size\":14},\"ticklabelposition\":\"outside\",\"ticklen\":8,\"ticks\":\"outside\",\"tickwidth\":1,\"title\":{\"font\":{\"color\":\"rgba(255,255,255,0.85)\",\"family\":\"Inter, sans-serif, Arial\",\"size\":16},\"standoff\":8},\"visible\":true,\"zeroline\":false}}},\"xaxis\":{\"anchor\":\"y\",\"domain\":[0.0,1.0],\"title\":{\"text\":\"Path\"}},\"yaxis\":{\"anchor\":\"x\",\"domain\":[0.0,1.0],\"title\":{\"text\":\"value\"}},\"legend\":{\"title\":{\"text\":\"variable\"},\"tracegroupgap\":0},\"title\":{\"text\":\"Views by Path for Stable and Latest Versions\"},\"barmode\":\"group\"},                        {\"responsive\": true}                    ).then(function(){\n",
       "                            \n",
       "var gd = document.getElementById('dcd50931-f1c3-4c0b-8ba0-106d35c1693c');\n",
       "var x = new MutationObserver(function (mutations, observer) {{\n",
       "        var display = window.getComputedStyle(gd).display;\n",
       "        if (!display || display === 'none') {{\n",
       "            console.log([gd, 'removed!']);\n",
       "            Plotly.purge(gd);\n",
       "            observer.disconnect();\n",
       "        }}\n",
       "}});\n",
       "\n",
       "// Listen for the removal of the full notebook cells\n",
       "var notebookContainer = gd.closest('#notebook-container');\n",
       "if (notebookContainer) {{\n",
       "    x.observe(notebookContainer, {childList: true});\n",
       "}}\n",
       "\n",
       "// Listen for the clearing of the current output cell\n",
       "var outputEl = gd.closest('.output');\n",
       "if (outputEl) {{\n",
       "    x.observe(outputEl, {childList: true});\n",
       "}}\n",
       "\n",
       "                        })                };                });            </script>        </div>"
      ]
     },
     "metadata": {},
     "output_type": "display_data"
    }
   ],
   "source": [
    "vizro_ai = VizroAI()\n",
    "vizro_ai.plot(df, \"Collate rows of data for Path where Version==stable and likewise where Version == latest. Create a chart with bars for the total Views of each page for stable and for latest. \", explain=True)"
   ]
  },
  {
   "cell_type": "code",
   "execution_count": null,
   "id": "ddad7a3b-071b-41c1-94ee-9a9ee12cc4e1",
   "metadata": {},
   "outputs": [],
   "source": [
    "# show total page views for each day (range = all dates)\n"
   ]
  },
  {
   "cell_type": "code",
   "execution_count": 21,
   "id": "703f966d-686d-4361-80de-fdd16acee9fa",
   "metadata": {},
   "outputs": [
    {
     "name": "stderr",
     "output_type": "stream",
     "text": [
      "INFO:vizro_ai._vizro_ai:You have selected gpt-3.5-turbo-0613,Engaging with LLMs (Large Language Models) carries certain risks. Users are advised to become familiar with these risks to make informed decisions, and visit this page for detailed information: https://vizro-ai.readthedocs.io/en/latest/pages/explanation/disclaimer/\n",
      "INFO:httpx:HTTP Request: POST https://api.openai.com/v1/chat/completions \"HTTP/1.1 200 OK\"\n",
      "INFO:httpx:HTTP Request: POST https://api.openai.com/v1/chat/completions \"HTTP/1.1 200 OK\"\n",
      "INFO:httpx:HTTP Request: POST https://api.openai.com/v1/chat/completions \"HTTP/1.1 200 OK\"\n",
      "INFO:httpx:HTTP Request: POST https://api.openai.com/v1/chat/completions \"HTTP/1.1 200 OK\"\n",
      "INFO:httpx:HTTP Request: POST https://api.openai.com/v1/chat/completions \"HTTP/1.1 200 OK\"\n"
     ]
    },
    {
     "data": {
      "text/markdown": [
       "<h4>Insights:</h4>\n",
       "\n",
       "The code snippet combines the rows of 'Views' for each 'Date' in the given data frame and creates a line graph of 'Views' per 'Date'.\n",
       "<br><br><h4>Code:</h4>\n",
       "\n",
       "1. The code imports the necessary libraries.\n",
       "2. The 'custom_chart' function takes a data frame as input.\n",
       "3. The data frame is grouped by 'Date' and the 'Views' column is summed for each date.\n",
       "4. The resulting data frame is assigned to 'df'.\n",
       "5. The 'px.line' function is used to create a line graph with 'Date' as the x-axis and 'Views' as the y-axis.\n",
       "6. The resulting graph is returned.\n",
       "<br>**This customized chart can be directly used in a Vizro dashboard.** \n",
       "Click [custom chart docs](https://vizro.readthedocs.io/en/stable/pages/user_guides/custom_charts/) for more information.\n",
       "```\n",
       "from vizro.models.types import capture\n",
       "import vizro.plotly.express as px\n",
       "import pandas as pd\n",
       "@capture('graph')\n",
       "def custom_chart(data_frame):\n",
       "    df = data_frame.groupby('Date')['Views'].sum().reset_index()\n",
       "    fig = px.line(df, x='Date', y='Views')\n",
       "    return fig\n",
       "\n",
       "fig = custom_chart(data_frame=df)\n",
       "```"
      ],
      "text/plain": [
       "<IPython.core.display.Markdown object>"
      ]
     },
     "metadata": {},
     "output_type": "display_data"
    },
    {
     "data": {
      "application/vnd.plotly.v1+json": {
       "config": {
        "plotlyServerURL": "https://plot.ly"
       },
       "data": [
        {
         "hovertemplate": "Date=%{x}<br>Views=%{y}<extra></extra>",
         "legendgroup": "",
         "line": {
          "color": "#00b4ff",
          "dash": "solid"
         },
         "marker": {
          "symbol": "circle"
         },
         "mode": "lines",
         "name": "",
         "orientation": "v",
         "showlegend": false,
         "type": "scatter",
         "x": [
          "01/03/2023",
          "02/03/2023",
          "03/03/2023",
          "04/03/2023",
          "05/03/2023",
          "06/03/2023",
          "07/03/2023",
          "08/03/2023",
          "09/03/2023",
          "10/03/2023",
          "11/03/2023",
          "12/03/2023",
          "13/03/2023",
          "14/03/2023",
          "15/03/2023",
          "16/03/2023",
          "17/03/2023",
          "18/03/2023",
          "19/03/2023",
          "20/03/2023",
          "21/03/2023",
          "22/03/2023",
          "23/03/2023",
          "24/03/2023",
          "25/03/2023",
          "26/03/2023",
          "27/03/2023",
          "28/03/2023",
          "29/03/2023",
          "30/03/2023",
          "31/03/2023"
         ],
         "xaxis": "x",
         "y": [
          866627,
          544745,
          693507,
          620662,
          445625,
          434570,
          396960,
          831239,
          827621,
          696299,
          516851,
          542374,
          594108,
          618946,
          722149,
          490117,
          570253,
          814706,
          603800,
          731162,
          680495,
          713446,
          579785,
          669123,
          734698,
          919802,
          516722,
          665561,
          787799,
          801479,
          509719
         ],
         "yaxis": "y"
        }
       ],
       "layout": {
        "autosize": true,
        "legend": {
         "tracegroupgap": 0
        },
        "template": {
         "data": {
          "bar": [
           {
            "marker": {
             "line": {
              "color": "#141721",
              "width": 1
             }
            },
            "textfont": {
             "color": "rgba(255,255,255,0.55)"
            },
            "type": "bar"
           }
          ],
          "table": [
           {
            "cells": {
             "align": "left",
             "fill": {
              "color": "#141721"
             },
             "font": {
              "color": "rgba(255,255,255,0.55)",
              "size": 14
             },
             "height": 32,
             "line": {
              "color": "rgba(255,255,255,0.10)"
             }
            },
            "header": {
             "align": "left",
             "fill": {
              "color": "#141721"
             },
             "font": {
              "color": "rgba(255,255,255,0.85)",
              "size": 14
             },
             "height": 32,
             "line": {
              "color": "rgba(255,255,255,0.10)"
             }
            },
            "type": "table"
           }
          ],
          "waterfall": [
           {
            "connector": {
             "line": {
              "color": "rgba(255,255,255,0.30)",
              "width": 1
             }
            },
            "decreasing": {
             "marker": {
              "color": "#ff9222"
             }
            },
            "increasing": {
             "marker": {
              "color": "#00b4ff"
             }
            },
            "textfont": {
             "color": "rgba(255,255,255,0.85)"
            },
            "textposition": "outside",
            "totals": {
             "marker": {
              "color": "#747F88"
             }
            },
            "type": "waterfall"
           }
          ]
         },
         "layout": {
          "annotationdefaults": {
           "font": {
            "color": "rgba(255,255,255,0.85)",
            "size": 14
           },
           "showarrow": false
          },
          "bargroupgap": 0.1,
          "coloraxis": {
           "colorbar": {
            "outlinewidth": 0,
            "showticklabels": true,
            "thickness": 20,
            "tickcolor": "rgba(255,255,255,0.30)",
            "tickfont": {
             "color": "rgba(255,255,255,0.55)",
             "family": "Inter, sans-serif, Arial",
             "size": 14
            },
            "ticklabelposition": "outside",
            "ticklen": 8,
            "ticks": "outside",
            "tickwidth": 1,
            "title": {
             "font": {
              "color": "rgba(255,255,255,0.55)",
              "family": "Inter, sans-serif, Arial",
              "size": 14
             }
            }
           }
          },
          "colorscale": {
           "diverging": [
            [
             0,
             "#003875"
            ],
            [
             0.05555555555555555,
             "#004c8c"
            ],
            [
             0.1111111111111111,
             "#0061a4"
            ],
            [
             0.16666666666666666,
             "#0077bd"
            ],
            [
             0.2222222222222222,
             "#0d8ed1"
            ],
            [
             0.2777777777777778,
             "#24a6e1"
            ],
            [
             0.3333333333333333,
             "#3bbef1"
            ],
            [
             0.3888888888888889,
             "#5bd6fe"
            ],
            [
             0.4444444444444444,
             "#afe7f9"
            ],
            [
             0.5,
             "#E6E8EA"
            ],
            [
             0.5555555555555556,
             "#f8d6da"
            ],
            [
             0.6111111111111112,
             "#fbb6be"
            ],
            [
             0.6666666666666666,
             "#fe94a0"
            ],
            [
             0.7222222222222222,
             "#f67486"
            ],
            [
             0.7777777777777778,
             "#ea536b"
            ],
            [
             0.8333333333333334,
             "#db2f4c"
            ],
            [
             0.8888888888888888,
             "#bc1f37"
            ],
            [
             0.9444444444444444,
             "#9d1021"
            ],
            [
             1,
             "#7e000c"
            ]
           ],
           "sequential": [
            [
             0,
             "#7e000c"
            ],
            [
             0.05555555555555555,
             "#9d1021"
            ],
            [
             0.1111111111111111,
             "#bc1f37"
            ],
            [
             0.16666666666666666,
             "#db2f4c"
            ],
            [
             0.2222222222222222,
             "#ea536b"
            ],
            [
             0.2777777777777778,
             "#f67486"
            ],
            [
             0.3333333333333333,
             "#fe94a0"
            ],
            [
             0.3888888888888889,
             "#fbb6be"
            ],
            [
             0.4444444444444444,
             "#f8d6da"
            ],
            [
             0.5,
             "#E6E8EA"
            ],
            [
             0.5555555555555556,
             "#afe7f9"
            ],
            [
             0.6111111111111112,
             "#5bd6fe"
            ],
            [
             0.6666666666666666,
             "#3bbef1"
            ],
            [
             0.7222222222222222,
             "#24a6e1"
            ],
            [
             0.7777777777777778,
             "#0d8ed1"
            ],
            [
             0.8333333333333334,
             "#0077bd"
            ],
            [
             0.8888888888888888,
             "#0061a4"
            ],
            [
             0.9444444444444444,
             "#004c8c"
            ],
            [
             1,
             "#003875"
            ]
           ],
           "sequentialminus": [
            [
             0,
             "#7e000c"
            ],
            [
             0.125,
             "#9d1021"
            ],
            [
             0.25,
             "#bc1f37"
            ],
            [
             0.375,
             "#db2f4c"
            ],
            [
             0.5,
             "#ea536b"
            ],
            [
             0.625,
             "#f67486"
            ],
            [
             0.75,
             "#fe94a0"
            ],
            [
             0.875,
             "#fbb6be"
            ],
            [
             1,
             "#f8d6da"
            ]
           ]
          },
          "colorway": [
           "#00b4ff",
           "#ff9222",
           "#3949ab",
           "#ff5267",
           "#08bdba",
           "#fdc935",
           "#689f38",
           "#976fd1",
           "#f781bf",
           "#52733e"
          ],
          "font": {
           "color": "rgba(255,255,255,0.85)",
           "family": "Inter, sans-serif, Arial",
           "size": 14
          },
          "geo": {
           "bgcolor": "#141721",
           "lakecolor": "#141721",
           "landcolor": "#141721"
          },
          "legend": {
           "bgcolor": "rgba(0, 0, 0, 0)",
           "font": {
            "color": "rgba(255,255,255,0.85)",
            "family": "Inter, sans-serif, Arial",
            "size": 14
           },
           "orientation": "h",
           "title": {
            "font": {
             "color": "rgba(255,255,255,0.85)",
             "family": "Inter, sans-serif, Arial",
             "size": 14
            },
            "text": ""
           },
           "y": -0.2
          },
          "mapbox": {
           "style": "carto-darkmatter"
          },
          "margin": {
           "autoexpand": true,
           "b": 64,
           "l": 80,
           "pad": 0,
           "r": 12,
           "t": 64
          },
          "paper_bgcolor": "#141721",
          "plot_bgcolor": "#141721",
          "polar": {
           "angularaxis": {
            "gridcolor": "rgba(255,255,255,0.10)",
            "linecolor": "rgba(255,255,255,0.30)"
           },
           "bgcolor": "#141721",
           "radialaxis": {
            "gridcolor": "rgba(255,255,255,0.10)",
            "linecolor": "rgba(255,255,255,0.30)"
           }
          },
          "showlegend": true,
          "ternary": {
           "aaxis": {
            "gridcolor": "rgba(255,255,255,0.10)",
            "linecolor": "rgba(255,255,255,0.30)"
           },
           "baxis": {
            "gridcolor": "rgba(255,255,255,0.10)",
            "linecolor": "rgba(255,255,255,0.30)"
           },
           "bgcolor": "#141721",
           "caxis": {
            "gridcolor": "rgba(255,255,255,0.10)",
            "linecolor": "rgba(255,255,255,0.30)"
           }
          },
          "title": {
           "font": {
            "color": "rgba(255,255,255,0.85)",
            "family": "Inter, sans-serif, Arial",
            "size": 20
           },
           "pad": {
            "b": 0,
            "l": 80,
            "r": 0,
            "t": 24
           },
           "x": 0,
           "xanchor": "left",
           "xref": "container",
           "y": 1,
           "yanchor": "top",
           "yref": "container"
          },
          "uniformtext": {
           "minsize": 12,
           "mode": "hide"
          },
          "xaxis": {
           "automargin": true,
           "gridcolor": "rgba(255,255,255,0.10)",
           "layer": "below traces",
           "linecolor": "rgba(255,255,255,0.30)",
           "linewidth": 1,
           "showline": true,
           "showticklabels": true,
           "tickcolor": "rgba(255,255,255,0.30)",
           "tickfont": {
            "color": "rgba(255,255,255,0.55)",
            "family": "Inter, sans-serif, Arial",
            "size": 14
           },
           "ticklabelposition": "outside",
           "ticklen": 8,
           "ticks": "outside",
           "tickwidth": 1,
           "title": {
            "font": {
             "color": "rgba(255,255,255,0.85)",
             "family": "Inter, sans-serif, Arial",
             "size": 16
            },
            "standoff": 8
           },
           "visible": true,
           "zeroline": false
          },
          "yaxis": {
           "automargin": true,
           "gridcolor": "rgba(255,255,255,0.10)",
           "layer": "below traces",
           "linecolor": "rgba(255,255,255,0.30)",
           "linewidth": 1,
           "showline": false,
           "showticklabels": true,
           "tickcolor": "rgba(255,255,255,0.30)",
           "tickfont": {
            "color": "rgba(255,255,255,0.55)",
            "family": "Inter, sans-serif, Arial",
            "size": 14
           },
           "ticklabelposition": "outside",
           "ticklen": 8,
           "ticks": "outside",
           "tickwidth": 1,
           "title": {
            "font": {
             "color": "rgba(255,255,255,0.85)",
             "family": "Inter, sans-serif, Arial",
             "size": 16
            },
            "standoff": 8
           },
           "visible": true,
           "zeroline": false
          }
         }
        },
        "xaxis": {
         "anchor": "y",
         "autorange": true,
         "domain": [
          0,
          1
         ],
         "range": [
          0,
          30
         ],
         "title": {
          "text": "Date"
         },
         "type": "category"
        },
        "yaxis": {
         "anchor": "x",
         "autorange": true,
         "domain": [
          0,
          1
         ],
         "range": [
          367913.22222222225,
          948848.7777777778
         ],
         "title": {
          "text": "Views"
         },
         "type": "linear"
        }
       }
      },
      "image/png": "[encoded data removed]",
      "text/html": [
       "<div>                            <div id=\"1e320631-8c72-4d16-a7f4-c5efb4f3c0fb\" class=\"plotly-graph-div\" style=\"height:525px; width:100%;\"></div>            <script type=\"text/javascript\">                require([\"plotly\"], function(Plotly) {                    window.PLOTLYENV=window.PLOTLYENV || {};                                    if (document.getElementById(\"1e320631-8c72-4d16-a7f4-c5efb4f3c0fb\")) {                    Plotly.newPlot(                        \"1e320631-8c72-4d16-a7f4-c5efb4f3c0fb\",                        [{\"hovertemplate\":\"Date=%{x}\\u003cbr\\u003eViews=%{y}\\u003cextra\\u003e\\u003c\\u002fextra\\u003e\",\"legendgroup\":\"\",\"line\":{\"color\":\"#00b4ff\",\"dash\":\"solid\"},\"marker\":{\"symbol\":\"circle\"},\"mode\":\"lines\",\"name\":\"\",\"orientation\":\"v\",\"showlegend\":false,\"x\":[\"01\\u002f03\\u002f2023\",\"02\\u002f03\\u002f2023\",\"03\\u002f03\\u002f2023\",\"04\\u002f03\\u002f2023\",\"05\\u002f03\\u002f2023\",\"06\\u002f03\\u002f2023\",\"07\\u002f03\\u002f2023\",\"08\\u002f03\\u002f2023\",\"09\\u002f03\\u002f2023\",\"10\\u002f03\\u002f2023\",\"11\\u002f03\\u002f2023\",\"12\\u002f03\\u002f2023\",\"13\\u002f03\\u002f2023\",\"14\\u002f03\\u002f2023\",\"15\\u002f03\\u002f2023\",\"16\\u002f03\\u002f2023\",\"17\\u002f03\\u002f2023\",\"18\\u002f03\\u002f2023\",\"19\\u002f03\\u002f2023\",\"20\\u002f03\\u002f2023\",\"21\\u002f03\\u002f2023\",\"22\\u002f03\\u002f2023\",\"23\\u002f03\\u002f2023\",\"24\\u002f03\\u002f2023\",\"25\\u002f03\\u002f2023\",\"26\\u002f03\\u002f2023\",\"27\\u002f03\\u002f2023\",\"28\\u002f03\\u002f2023\",\"29\\u002f03\\u002f2023\",\"30\\u002f03\\u002f2023\",\"31\\u002f03\\u002f2023\"],\"xaxis\":\"x\",\"y\":[866627,544745,693507,620662,445625,434570,396960,831239,827621,696299,516851,542374,594108,618946,722149,490117,570253,814706,603800,731162,680495,713446,579785,669123,734698,919802,516722,665561,787799,801479,509719],\"yaxis\":\"y\",\"type\":\"scatter\"}],                        {\"template\":{\"data\":{\"bar\":[{\"marker\":{\"line\":{\"color\":\"#141721\",\"width\":1}},\"textfont\":{\"color\":\"rgba(255,255,255,0.55)\"},\"type\":\"bar\"}],\"table\":[{\"cells\":{\"align\":\"left\",\"fill\":{\"color\":\"#141721\"},\"font\":{\"color\":\"rgba(255,255,255,0.55)\",\"size\":14},\"height\":32,\"line\":{\"color\":\"rgba(255,255,255,0.10)\"}},\"header\":{\"align\":\"left\",\"fill\":{\"color\":\"#141721\"},\"font\":{\"color\":\"rgba(255,255,255,0.85)\",\"size\":14},\"height\":32,\"line\":{\"color\":\"rgba(255,255,255,0.10)\"}},\"type\":\"table\"}],\"waterfall\":[{\"connector\":{\"line\":{\"color\":\"rgba(255,255,255,0.30)\",\"width\":1}},\"decreasing\":{\"marker\":{\"color\":\"#ff9222\"}},\"increasing\":{\"marker\":{\"color\":\"#00b4ff\"}},\"textfont\":{\"color\":\"rgba(255,255,255,0.85)\"},\"textposition\":\"outside\",\"totals\":{\"marker\":{\"color\":\"#747F88\"}},\"type\":\"waterfall\"}]},\"layout\":{\"annotationdefaults\":{\"font\":{\"color\":\"rgba(255,255,255,0.85)\",\"size\":14},\"showarrow\":false},\"bargroupgap\":0.1,\"coloraxis\":{\"colorbar\":{\"outlinewidth\":0,\"showticklabels\":true,\"thickness\":20,\"tickcolor\":\"rgba(255,255,255,0.30)\",\"tickfont\":{\"color\":\"rgba(255,255,255,0.55)\",\"family\":\"Inter, sans-serif, Arial\",\"size\":14},\"ticklabelposition\":\"outside\",\"ticklen\":8,\"ticks\":\"outside\",\"tickwidth\":1,\"title\":{\"font\":{\"color\":\"rgba(255,255,255,0.55)\",\"family\":\"Inter, sans-serif, Arial\",\"size\":14}}}},\"colorscale\":{\"diverging\":[[0.0,\"#003875\"],[0.05555555555555555,\"#004c8c\"],[0.1111111111111111,\"#0061a4\"],[0.16666666666666666,\"#0077bd\"],[0.2222222222222222,\"#0d8ed1\"],[0.2777777777777778,\"#24a6e1\"],[0.3333333333333333,\"#3bbef1\"],[0.3888888888888889,\"#5bd6fe\"],[0.4444444444444444,\"#afe7f9\"],[0.5,\"#E6E8EA\"],[0.5555555555555556,\"#f8d6da\"],[0.6111111111111112,\"#fbb6be\"],[0.6666666666666666,\"#fe94a0\"],[0.7222222222222222,\"#f67486\"],[0.7777777777777778,\"#ea536b\"],[0.8333333333333334,\"#db2f4c\"],[0.8888888888888888,\"#bc1f37\"],[0.9444444444444444,\"#9d1021\"],[1.0,\"#7e000c\"]],\"sequential\":[[0.0,\"#7e000c\"],[0.05555555555555555,\"#9d1021\"],[0.1111111111111111,\"#bc1f37\"],[0.16666666666666666,\"#db2f4c\"],[0.2222222222222222,\"#ea536b\"],[0.2777777777777778,\"#f67486\"],[0.3333333333333333,\"#fe94a0\"],[0.3888888888888889,\"#fbb6be\"],[0.4444444444444444,\"#f8d6da\"],[0.5,\"#E6E8EA\"],[0.5555555555555556,\"#afe7f9\"],[0.6111111111111112,\"#5bd6fe\"],[0.6666666666666666,\"#3bbef1\"],[0.7222222222222222,\"#24a6e1\"],[0.7777777777777778,\"#0d8ed1\"],[0.8333333333333334,\"#0077bd\"],[0.8888888888888888,\"#0061a4\"],[0.9444444444444444,\"#004c8c\"],[1.0,\"#003875\"]],\"sequentialminus\":[[0.0,\"#7e000c\"],[0.125,\"#9d1021\"],[0.25,\"#bc1f37\"],[0.375,\"#db2f4c\"],[0.5,\"#ea536b\"],[0.625,\"#f67486\"],[0.75,\"#fe94a0\"],[0.875,\"#fbb6be\"],[1.0,\"#f8d6da\"]]},\"colorway\":[\"#00b4ff\",\"#ff9222\",\"#3949ab\",\"#ff5267\",\"#08bdba\",\"#fdc935\",\"#689f38\",\"#976fd1\",\"#f781bf\",\"#52733e\"],\"font\":{\"color\":\"rgba(255,255,255,0.85)\",\"family\":\"Inter, sans-serif, Arial\",\"size\":14},\"geo\":{\"bgcolor\":\"#141721\",\"lakecolor\":\"#141721\",\"landcolor\":\"#141721\"},\"legend\":{\"bgcolor\":\"rgba(0,0,0,0)\",\"font\":{\"color\":\"rgba(255,255,255,0.85)\",\"family\":\"Inter, sans-serif, Arial\",\"size\":14},\"orientation\":\"h\",\"title\":{\"font\":{\"color\":\"rgba(255,255,255,0.85)\",\"family\":\"Inter, sans-serif, Arial\",\"size\":14},\"text\":\"\"},\"y\":-0.2},\"mapbox\":{\"style\":\"carto-darkmatter\"},\"margin\":{\"autoexpand\":true,\"b\":64,\"l\":80,\"pad\":0,\"r\":12,\"t\":64},\"paper_bgcolor\":\"#141721\",\"plot_bgcolor\":\"#141721\",\"polar\":{\"angularaxis\":{\"gridcolor\":\"rgba(255,255,255,0.10)\",\"linecolor\":\"rgba(255,255,255,0.30)\"},\"bgcolor\":\"#141721\",\"radialaxis\":{\"gridcolor\":\"rgba(255,255,255,0.10)\",\"linecolor\":\"rgba(255,255,255,0.30)\"}},\"showlegend\":true,\"ternary\":{\"aaxis\":{\"gridcolor\":\"rgba(255,255,255,0.10)\",\"linecolor\":\"rgba(255,255,255,0.30)\"},\"baxis\":{\"gridcolor\":\"rgba(255,255,255,0.10)\",\"linecolor\":\"rgba(255,255,255,0.30)\"},\"bgcolor\":\"#141721\",\"caxis\":{\"gridcolor\":\"rgba(255,255,255,0.10)\",\"linecolor\":\"rgba(255,255,255,0.30)\"}},\"title\":{\"font\":{\"color\":\"rgba(255,255,255,0.85)\",\"family\":\"Inter, sans-serif, Arial\",\"size\":20},\"pad\":{\"b\":0,\"l\":80,\"r\":0,\"t\":24},\"x\":0,\"xanchor\":\"left\",\"xref\":\"container\",\"y\":1,\"yanchor\":\"top\",\"yref\":\"container\"},\"uniformtext\":{\"minsize\":12,\"mode\":\"hide\"},\"xaxis\":{\"automargin\":true,\"gridcolor\":\"rgba(255,255,255,0.10)\",\"layer\":\"below traces\",\"linecolor\":\"rgba(255,255,255,0.30)\",\"linewidth\":1,\"showline\":true,\"showticklabels\":true,\"tickcolor\":\"rgba(255,255,255,0.30)\",\"tickfont\":{\"color\":\"rgba(255,255,255,0.55)\",\"family\":\"Inter, sans-serif, Arial\",\"size\":14},\"ticklabelposition\":\"outside\",\"ticklen\":8,\"ticks\":\"outside\",\"tickwidth\":1,\"title\":{\"font\":{\"color\":\"rgba(255,255,255,0.85)\",\"family\":\"Inter, sans-serif, Arial\",\"size\":16},\"standoff\":8},\"visible\":true,\"zeroline\":false},\"yaxis\":{\"automargin\":true,\"gridcolor\":\"rgba(255,255,255,0.10)\",\"layer\":\"below traces\",\"linecolor\":\"rgba(255,255,255,0.30)\",\"linewidth\":1,\"showline\":false,\"showticklabels\":true,\"tickcolor\":\"rgba(255,255,255,0.30)\",\"tickfont\":{\"color\":\"rgba(255,255,255,0.55)\",\"family\":\"Inter, sans-serif, Arial\",\"size\":14},\"ticklabelposition\":\"outside\",\"ticklen\":8,\"ticks\":\"outside\",\"tickwidth\":1,\"title\":{\"font\":{\"color\":\"rgba(255,255,255,0.85)\",\"family\":\"Inter, sans-serif, Arial\",\"size\":16},\"standoff\":8},\"visible\":true,\"zeroline\":false}}},\"xaxis\":{\"anchor\":\"y\",\"domain\":[0.0,1.0],\"title\":{\"text\":\"Date\"}},\"yaxis\":{\"anchor\":\"x\",\"domain\":[0.0,1.0],\"title\":{\"text\":\"Views\"}},\"legend\":{\"tracegroupgap\":0}},                        {\"responsive\": true}                    ).then(function(){\n",
       "                            \n",
       "var gd = document.getElementById('1e320631-8c72-4d16-a7f4-c5efb4f3c0fb');\n",
       "var x = new MutationObserver(function (mutations, observer) {{\n",
       "        var display = window.getComputedStyle(gd).display;\n",
       "        if (!display || display === 'none') {{\n",
       "            console.log([gd, 'removed!']);\n",
       "            Plotly.purge(gd);\n",
       "            observer.disconnect();\n",
       "        }}\n",
       "}});\n",
       "\n",
       "// Listen for the removal of the full notebook cells\n",
       "var notebookContainer = gd.closest('#notebook-container');\n",
       "if (notebookContainer) {{\n",
       "    x.observe(notebookContainer, {childList: true});\n",
       "}}\n",
       "\n",
       "// Listen for the clearing of the current output cell\n",
       "var outputEl = gd.closest('.output');\n",
       "if (outputEl) {{\n",
       "    x.observe(outputEl, {childList: true});\n",
       "}}\n",
       "\n",
       "                        })                };                });            </script>        </div>"
      ]
     },
     "metadata": {},
     "output_type": "display_data"
    }
   ],
   "source": [
    "vizro_ai = VizroAI()\n",
    "vizro_ai.plot(df, \"Combine rows of Views for each Date and draw a line graph of Views per Date\", explain=True)"
   ]
  },
  {
   "cell_type": "code",
   "execution_count": null,
   "id": "0932ed8b-ad0b-441d-9a45-b3d1992aa10b",
   "metadata": {},
   "outputs": [],
   "source": [
    "# show total page views for each day per version (range = all dates)\n"
   ]
  },
  {
   "cell_type": "code",
   "execution_count": 22,
   "id": "e5f4440f-0bda-4c7c-adb2-d2b77fbe8a59",
   "metadata": {},
   "outputs": [
    {
     "name": "stderr",
     "output_type": "stream",
     "text": [
      "INFO:vizro_ai._vizro_ai:You have selected gpt-3.5-turbo-0613,Engaging with LLMs (Large Language Models) carries certain risks. Users are advised to become familiar with these risks to make informed decisions, and visit this page for detailed information: https://vizro-ai.readthedocs.io/en/latest/pages/explanation/disclaimer/\n",
      "INFO:httpx:HTTP Request: POST https://api.openai.com/v1/chat/completions \"HTTP/1.1 200 OK\"\n",
      "INFO:httpx:HTTP Request: POST https://api.openai.com/v1/chat/completions \"HTTP/1.1 200 OK\"\n",
      "INFO:httpx:HTTP Request: POST https://api.openai.com/v1/chat/completions \"HTTP/1.1 200 OK\"\n",
      "INFO:httpx:HTTP Request: POST https://api.openai.com/v1/chat/completions \"HTTP/1.1 200 OK\"\n",
      "INFO:httpx:HTTP Request: POST https://api.openai.com/v1/chat/completions \"HTTP/1.1 200 OK\"\n"
     ]
    },
    {
     "data": {
      "text/markdown": [
       "<h4>Insights:</h4>\n",
       "\n",
       "The line graph compares the number of views per date for the latest and stable versions of the data. It provides insights into the trend of views over time for both versions.\n",
       "<br><br><h4>Code:</h4>\n",
       "\n",
       "The code first groups the data frame by 'Date' and 'Version' and calculates the sum of 'Views' for each combination. It then unstacks the 'Version' column to create separate columns for 'latest' and 'stable'. The resulting data frame is then used to create a line graph using the 'px.line' function from the 'plotly.express' library. The x-axis represents the 'Date' and the y-axis represents the number of 'Views'. The graph is titled 'Views per Date for latest and stable'.\n",
       "<br>**This customized chart can be directly used in a Vizro dashboard.** \n",
       "Click [custom chart docs](https://vizro.readthedocs.io/en/stable/pages/user_guides/custom_charts/) for more information.\n",
       "```\n",
       "from vizro.models.types import capture\n",
       "import vizro.plotly.express as px\n",
       "import pandas as pd\n",
       "@capture('graph')\n",
       "def custom_chart(data_frame):\n",
       "    df_combined = data_frame.groupby(['Date', 'Version'])['Views'].sum().unstack()\n",
       "    df = df_combined.reset_index()\n",
       "    fig = px.line(df, x='Date', y=['latest', 'stable'], title='Views per Date for latest and stable')\n",
       "    return fig\n",
       "\n",
       "fig = custom_chart(data_frame=df)\n",
       "```"
      ],
      "text/plain": [
       "<IPython.core.display.Markdown object>"
      ]
     },
     "metadata": {},
     "output_type": "display_data"
    },
    {
     "data": {
      "application/vnd.plotly.v1+json": {
       "config": {
        "plotlyServerURL": "https://plot.ly"
       },
       "data": [
        {
         "hovertemplate": "variable=latest<br>Date=%{x}<br>value=%{y}<extra></extra>",
         "legendgroup": "latest",
         "line": {
          "color": "#00b4ff",
          "dash": "solid"
         },
         "marker": {
          "symbol": "circle"
         },
         "mode": "lines",
         "name": "latest",
         "orientation": "v",
         "showlegend": true,
         "type": "scatter",
         "x": [
          "01/03/2023",
          "02/03/2023",
          "03/03/2023",
          "04/03/2023",
          "05/03/2023",
          "06/03/2023",
          "07/03/2023",
          "08/03/2023",
          "09/03/2023",
          "10/03/2023",
          "11/03/2023",
          "12/03/2023",
          "13/03/2023",
          "14/03/2023",
          "15/03/2023",
          "16/03/2023",
          "17/03/2023",
          "18/03/2023",
          "19/03/2023",
          "20/03/2023",
          "21/03/2023",
          "22/03/2023",
          "23/03/2023",
          "24/03/2023",
          "25/03/2023",
          "26/03/2023",
          "27/03/2023",
          "28/03/2023",
          "29/03/2023",
          "30/03/2023",
          "31/03/2023"
         ],
         "xaxis": "x",
         "y": [
          390317,
          340988,
          452555,
          321079,
          283549,
          179270,
          126155,
          415373,
          377921,
          342033,
          311985,
          305606,
          314711,
          244508,
          283106,
          256858,
          276575,
          396819,
          344071,
          295374,
          311217,
          321974,
          296961,
          391679,
          376594,
          483858,
          247657,
          330735,
          446127,
          431299,
          246187
         ],
         "yaxis": "y"
        },
        {
         "hovertemplate": "variable=stable<br>Date=%{x}<br>value=%{y}<extra></extra>",
         "legendgroup": "stable",
         "line": {
          "color": "#ff9222",
          "dash": "solid"
         },
         "marker": {
          "symbol": "circle"
         },
         "mode": "lines",
         "name": "stable",
         "orientation": "v",
         "showlegend": true,
         "type": "scatter",
         "x": [
          "01/03/2023",
          "02/03/2023",
          "03/03/2023",
          "04/03/2023",
          "05/03/2023",
          "06/03/2023",
          "07/03/2023",
          "08/03/2023",
          "09/03/2023",
          "10/03/2023",
          "11/03/2023",
          "12/03/2023",
          "13/03/2023",
          "14/03/2023",
          "15/03/2023",
          "16/03/2023",
          "17/03/2023",
          "18/03/2023",
          "19/03/2023",
          "20/03/2023",
          "21/03/2023",
          "22/03/2023",
          "23/03/2023",
          "24/03/2023",
          "25/03/2023",
          "26/03/2023",
          "27/03/2023",
          "28/03/2023",
          "29/03/2023",
          "30/03/2023",
          "31/03/2023"
         ],
         "xaxis": "x",
         "y": [
          476310,
          203757,
          240952,
          299583,
          162076,
          255300,
          270805,
          415866,
          449700,
          354266,
          204866,
          236768,
          279397,
          374438,
          439043,
          233259,
          293678,
          417887,
          259729,
          435788,
          369278,
          391472,
          282824,
          277444,
          358104,
          435944,
          269065,
          334826,
          341672,
          370180,
          263532
         ],
         "yaxis": "y"
        }
       ],
       "layout": {
        "autosize": true,
        "legend": {
         "title": {
          "text": "variable"
         },
         "tracegroupgap": 0
        },
        "template": {
         "data": {
          "bar": [
           {
            "marker": {
             "line": {
              "color": "#141721",
              "width": 1
             }
            },
            "textfont": {
             "color": "rgba(255,255,255,0.55)"
            },
            "type": "bar"
           }
          ],
          "table": [
           {
            "cells": {
             "align": "left",
             "fill": {
              "color": "#141721"
             },
             "font": {
              "color": "rgba(255,255,255,0.55)",
              "size": 14
             },
             "height": 32,
             "line": {
              "color": "rgba(255,255,255,0.10)"
             }
            },
            "header": {
             "align": "left",
             "fill": {
              "color": "#141721"
             },
             "font": {
              "color": "rgba(255,255,255,0.85)",
              "size": 14
             },
             "height": 32,
             "line": {
              "color": "rgba(255,255,255,0.10)"
             }
            },
            "type": "table"
           }
          ],
          "waterfall": [
           {
            "connector": {
             "line": {
              "color": "rgba(255,255,255,0.30)",
              "width": 1
             }
            },
            "decreasing": {
             "marker": {
              "color": "#ff9222"
             }
            },
            "increasing": {
             "marker": {
              "color": "#00b4ff"
             }
            },
            "textfont": {
             "color": "rgba(255,255,255,0.85)"
            },
            "textposition": "outside",
            "totals": {
             "marker": {
              "color": "#747F88"
             }
            },
            "type": "waterfall"
           }
          ]
         },
         "layout": {
          "annotationdefaults": {
           "font": {
            "color": "rgba(255,255,255,0.85)",
            "size": 14
           },
           "showarrow": false
          },
          "bargroupgap": 0.1,
          "coloraxis": {
           "colorbar": {
            "outlinewidth": 0,
            "showticklabels": true,
            "thickness": 20,
            "tickcolor": "rgba(255,255,255,0.30)",
            "tickfont": {
             "color": "rgba(255,255,255,0.55)",
             "family": "Inter, sans-serif, Arial",
             "size": 14
            },
            "ticklabelposition": "outside",
            "ticklen": 8,
            "ticks": "outside",
            "tickwidth": 1,
            "title": {
             "font": {
              "color": "rgba(255,255,255,0.55)",
              "family": "Inter, sans-serif, Arial",
              "size": 14
             }
            }
           }
          },
          "colorscale": {
           "diverging": [
            [
             0,
             "#003875"
            ],
            [
             0.05555555555555555,
             "#004c8c"
            ],
            [
             0.1111111111111111,
             "#0061a4"
            ],
            [
             0.16666666666666666,
             "#0077bd"
            ],
            [
             0.2222222222222222,
             "#0d8ed1"
            ],
            [
             0.2777777777777778,
             "#24a6e1"
            ],
            [
             0.3333333333333333,
             "#3bbef1"
            ],
            [
             0.3888888888888889,
             "#5bd6fe"
            ],
            [
             0.4444444444444444,
             "#afe7f9"
            ],
            [
             0.5,
             "#E6E8EA"
            ],
            [
             0.5555555555555556,
             "#f8d6da"
            ],
            [
             0.6111111111111112,
             "#fbb6be"
            ],
            [
             0.6666666666666666,
             "#fe94a0"
            ],
            [
             0.7222222222222222,
             "#f67486"
            ],
            [
             0.7777777777777778,
             "#ea536b"
            ],
            [
             0.8333333333333334,
             "#db2f4c"
            ],
            [
             0.8888888888888888,
             "#bc1f37"
            ],
            [
             0.9444444444444444,
             "#9d1021"
            ],
            [
             1,
             "#7e000c"
            ]
           ],
           "sequential": [
            [
             0,
             "#7e000c"
            ],
            [
             0.05555555555555555,
             "#9d1021"
            ],
            [
             0.1111111111111111,
             "#bc1f37"
            ],
            [
             0.16666666666666666,
             "#db2f4c"
            ],
            [
             0.2222222222222222,
             "#ea536b"
            ],
            [
             0.2777777777777778,
             "#f67486"
            ],
            [
             0.3333333333333333,
             "#fe94a0"
            ],
            [
             0.3888888888888889,
             "#fbb6be"
            ],
            [
             0.4444444444444444,
             "#f8d6da"
            ],
            [
             0.5,
             "#E6E8EA"
            ],
            [
             0.5555555555555556,
             "#afe7f9"
            ],
            [
             0.6111111111111112,
             "#5bd6fe"
            ],
            [
             0.6666666666666666,
             "#3bbef1"
            ],
            [
             0.7222222222222222,
             "#24a6e1"
            ],
            [
             0.7777777777777778,
             "#0d8ed1"
            ],
            [
             0.8333333333333334,
             "#0077bd"
            ],
            [
             0.8888888888888888,
             "#0061a4"
            ],
            [
             0.9444444444444444,
             "#004c8c"
            ],
            [
             1,
             "#003875"
            ]
           ],
           "sequentialminus": [
            [
             0,
             "#7e000c"
            ],
            [
             0.125,
             "#9d1021"
            ],
            [
             0.25,
             "#bc1f37"
            ],
            [
             0.375,
             "#db2f4c"
            ],
            [
             0.5,
             "#ea536b"
            ],
            [
             0.625,
             "#f67486"
            ],
            [
             0.75,
             "#fe94a0"
            ],
            [
             0.875,
             "#fbb6be"
            ],
            [
             1,
             "#f8d6da"
            ]
           ]
          },
          "colorway": [
           "#00b4ff",
           "#ff9222",
           "#3949ab",
           "#ff5267",
           "#08bdba",
           "#fdc935",
           "#689f38",
           "#976fd1",
           "#f781bf",
           "#52733e"
          ],
          "font": {
           "color": "rgba(255,255,255,0.85)",
           "family": "Inter, sans-serif, Arial",
           "size": 14
          },
          "geo": {
           "bgcolor": "#141721",
           "lakecolor": "#141721",
           "landcolor": "#141721"
          },
          "legend": {
           "bgcolor": "rgba(0, 0, 0, 0)",
           "font": {
            "color": "rgba(255,255,255,0.85)",
            "family": "Inter, sans-serif, Arial",
            "size": 14
           },
           "orientation": "h",
           "title": {
            "font": {
             "color": "rgba(255,255,255,0.85)",
             "family": "Inter, sans-serif, Arial",
             "size": 14
            },
            "text": ""
           },
           "y": -0.2
          },
          "mapbox": {
           "style": "carto-darkmatter"
          },
          "margin": {
           "autoexpand": true,
           "b": 64,
           "l": 80,
           "pad": 0,
           "r": 12,
           "t": 64
          },
          "paper_bgcolor": "#141721",
          "plot_bgcolor": "#141721",
          "polar": {
           "angularaxis": {
            "gridcolor": "rgba(255,255,255,0.10)",
            "linecolor": "rgba(255,255,255,0.30)"
           },
           "bgcolor": "#141721",
           "radialaxis": {
            "gridcolor": "rgba(255,255,255,0.10)",
            "linecolor": "rgba(255,255,255,0.30)"
           }
          },
          "showlegend": true,
          "ternary": {
           "aaxis": {
            "gridcolor": "rgba(255,255,255,0.10)",
            "linecolor": "rgba(255,255,255,0.30)"
           },
           "baxis": {
            "gridcolor": "rgba(255,255,255,0.10)",
            "linecolor": "rgba(255,255,255,0.30)"
           },
           "bgcolor": "#141721",
           "caxis": {
            "gridcolor": "rgba(255,255,255,0.10)",
            "linecolor": "rgba(255,255,255,0.30)"
           }
          },
          "title": {
           "font": {
            "color": "rgba(255,255,255,0.85)",
            "family": "Inter, sans-serif, Arial",
            "size": 20
           },
           "pad": {
            "b": 0,
            "l": 80,
            "r": 0,
            "t": 24
           },
           "x": 0,
           "xanchor": "left",
           "xref": "container",
           "y": 1,
           "yanchor": "top",
           "yref": "container"
          },
          "uniformtext": {
           "minsize": 12,
           "mode": "hide"
          },
          "xaxis": {
           "automargin": true,
           "gridcolor": "rgba(255,255,255,0.10)",
           "layer": "below traces",
           "linecolor": "rgba(255,255,255,0.30)",
           "linewidth": 1,
           "showline": true,
           "showticklabels": true,
           "tickcolor": "rgba(255,255,255,0.30)",
           "tickfont": {
            "color": "rgba(255,255,255,0.55)",
            "family": "Inter, sans-serif, Arial",
            "size": 14
           },
           "ticklabelposition": "outside",
           "ticklen": 8,
           "ticks": "outside",
           "tickwidth": 1,
           "title": {
            "font": {
             "color": "rgba(255,255,255,0.85)",
             "family": "Inter, sans-serif, Arial",
             "size": 16
            },
            "standoff": 8
           },
           "visible": true,
           "zeroline": false
          },
          "yaxis": {
           "automargin": true,
           "gridcolor": "rgba(255,255,255,0.10)",
           "layer": "below traces",
           "linecolor": "rgba(255,255,255,0.30)",
           "linewidth": 1,
           "showline": false,
           "showticklabels": true,
           "tickcolor": "rgba(255,255,255,0.30)",
           "tickfont": {
            "color": "rgba(255,255,255,0.55)",
            "family": "Inter, sans-serif, Arial",
            "size": 14
           },
           "ticklabelposition": "outside",
           "ticklen": 8,
           "ticks": "outside",
           "tickwidth": 1,
           "title": {
            "font": {
             "color": "rgba(255,255,255,0.85)",
             "family": "Inter, sans-serif, Arial",
             "size": 16
            },
            "standoff": 8
           },
           "visible": true,
           "zeroline": false
          }
         }
        },
        "title": {
         "text": "Views per Date for latest and stable"
        },
        "xaxis": {
         "anchor": "y",
         "autorange": true,
         "domain": [
          0,
          1
         ],
         "range": [
          0,
          30
         ],
         "title": {
          "text": "Date"
         },
         "type": "category"
        },
        "yaxis": {
         "anchor": "x",
         "autorange": true,
         "domain": [
          0,
          1
         ],
         "range": [
          106282.61111111111,
          503730.3888888889
         ],
         "title": {
          "text": "value"
         },
         "type": "linear"
        }
       }
      },
      "image/png": "[encoded data removed]",
      "text/html": [
       "<div>                            <div id=\"5f185b03-549b-42fc-aae0-7b9082837b02\" class=\"plotly-graph-div\" style=\"height:525px; width:100%;\"></div>            <script type=\"text/javascript\">                require([\"plotly\"], function(Plotly) {                    window.PLOTLYENV=window.PLOTLYENV || {};                                    if (document.getElementById(\"5f185b03-549b-42fc-aae0-7b9082837b02\")) {                    Plotly.newPlot(                        \"5f185b03-549b-42fc-aae0-7b9082837b02\",                        [{\"hovertemplate\":\"variable=latest\\u003cbr\\u003eDate=%{x}\\u003cbr\\u003evalue=%{y}\\u003cextra\\u003e\\u003c\\u002fextra\\u003e\",\"legendgroup\":\"latest\",\"line\":{\"color\":\"#00b4ff\",\"dash\":\"solid\"},\"marker\":{\"symbol\":\"circle\"},\"mode\":\"lines\",\"name\":\"latest\",\"orientation\":\"v\",\"showlegend\":true,\"x\":[\"01\\u002f03\\u002f2023\",\"02\\u002f03\\u002f2023\",\"03\\u002f03\\u002f2023\",\"04\\u002f03\\u002f2023\",\"05\\u002f03\\u002f2023\",\"06\\u002f03\\u002f2023\",\"07\\u002f03\\u002f2023\",\"08\\u002f03\\u002f2023\",\"09\\u002f03\\u002f2023\",\"10\\u002f03\\u002f2023\",\"11\\u002f03\\u002f2023\",\"12\\u002f03\\u002f2023\",\"13\\u002f03\\u002f2023\",\"14\\u002f03\\u002f2023\",\"15\\u002f03\\u002f2023\",\"16\\u002f03\\u002f2023\",\"17\\u002f03\\u002f2023\",\"18\\u002f03\\u002f2023\",\"19\\u002f03\\u002f2023\",\"20\\u002f03\\u002f2023\",\"21\\u002f03\\u002f2023\",\"22\\u002f03\\u002f2023\",\"23\\u002f03\\u002f2023\",\"24\\u002f03\\u002f2023\",\"25\\u002f03\\u002f2023\",\"26\\u002f03\\u002f2023\",\"27\\u002f03\\u002f2023\",\"28\\u002f03\\u002f2023\",\"29\\u002f03\\u002f2023\",\"30\\u002f03\\u002f2023\",\"31\\u002f03\\u002f2023\"],\"xaxis\":\"x\",\"y\":[390317,340988,452555,321079,283549,179270,126155,415373,377921,342033,311985,305606,314711,244508,283106,256858,276575,396819,344071,295374,311217,321974,296961,391679,376594,483858,247657,330735,446127,431299,246187],\"yaxis\":\"y\",\"type\":\"scatter\"},{\"hovertemplate\":\"variable=stable\\u003cbr\\u003eDate=%{x}\\u003cbr\\u003evalue=%{y}\\u003cextra\\u003e\\u003c\\u002fextra\\u003e\",\"legendgroup\":\"stable\",\"line\":{\"color\":\"#ff9222\",\"dash\":\"solid\"},\"marker\":{\"symbol\":\"circle\"},\"mode\":\"lines\",\"name\":\"stable\",\"orientation\":\"v\",\"showlegend\":true,\"x\":[\"01\\u002f03\\u002f2023\",\"02\\u002f03\\u002f2023\",\"03\\u002f03\\u002f2023\",\"04\\u002f03\\u002f2023\",\"05\\u002f03\\u002f2023\",\"06\\u002f03\\u002f2023\",\"07\\u002f03\\u002f2023\",\"08\\u002f03\\u002f2023\",\"09\\u002f03\\u002f2023\",\"10\\u002f03\\u002f2023\",\"11\\u002f03\\u002f2023\",\"12\\u002f03\\u002f2023\",\"13\\u002f03\\u002f2023\",\"14\\u002f03\\u002f2023\",\"15\\u002f03\\u002f2023\",\"16\\u002f03\\u002f2023\",\"17\\u002f03\\u002f2023\",\"18\\u002f03\\u002f2023\",\"19\\u002f03\\u002f2023\",\"20\\u002f03\\u002f2023\",\"21\\u002f03\\u002f2023\",\"22\\u002f03\\u002f2023\",\"23\\u002f03\\u002f2023\",\"24\\u002f03\\u002f2023\",\"25\\u002f03\\u002f2023\",\"26\\u002f03\\u002f2023\",\"27\\u002f03\\u002f2023\",\"28\\u002f03\\u002f2023\",\"29\\u002f03\\u002f2023\",\"30\\u002f03\\u002f2023\",\"31\\u002f03\\u002f2023\"],\"xaxis\":\"x\",\"y\":[476310,203757,240952,299583,162076,255300,270805,415866,449700,354266,204866,236768,279397,374438,439043,233259,293678,417887,259729,435788,369278,391472,282824,277444,358104,435944,269065,334826,341672,370180,263532],\"yaxis\":\"y\",\"type\":\"scatter\"}],                        {\"template\":{\"data\":{\"bar\":[{\"marker\":{\"line\":{\"color\":\"#141721\",\"width\":1}},\"textfont\":{\"color\":\"rgba(255,255,255,0.55)\"},\"type\":\"bar\"}],\"table\":[{\"cells\":{\"align\":\"left\",\"fill\":{\"color\":\"#141721\"},\"font\":{\"color\":\"rgba(255,255,255,0.55)\",\"size\":14},\"height\":32,\"line\":{\"color\":\"rgba(255,255,255,0.10)\"}},\"header\":{\"align\":\"left\",\"fill\":{\"color\":\"#141721\"},\"font\":{\"color\":\"rgba(255,255,255,0.85)\",\"size\":14},\"height\":32,\"line\":{\"color\":\"rgba(255,255,255,0.10)\"}},\"type\":\"table\"}],\"waterfall\":[{\"connector\":{\"line\":{\"color\":\"rgba(255,255,255,0.30)\",\"width\":1}},\"decreasing\":{\"marker\":{\"color\":\"#ff9222\"}},\"increasing\":{\"marker\":{\"color\":\"#00b4ff\"}},\"textfont\":{\"color\":\"rgba(255,255,255,0.85)\"},\"textposition\":\"outside\",\"totals\":{\"marker\":{\"color\":\"#747F88\"}},\"type\":\"waterfall\"}]},\"layout\":{\"annotationdefaults\":{\"font\":{\"color\":\"rgba(255,255,255,0.85)\",\"size\":14},\"showarrow\":false},\"bargroupgap\":0.1,\"coloraxis\":{\"colorbar\":{\"outlinewidth\":0,\"showticklabels\":true,\"thickness\":20,\"tickcolor\":\"rgba(255,255,255,0.30)\",\"tickfont\":{\"color\":\"rgba(255,255,255,0.55)\",\"family\":\"Inter, sans-serif, Arial\",\"size\":14},\"ticklabelposition\":\"outside\",\"ticklen\":8,\"ticks\":\"outside\",\"tickwidth\":1,\"title\":{\"font\":{\"color\":\"rgba(255,255,255,0.55)\",\"family\":\"Inter, sans-serif, Arial\",\"size\":14}}}},\"colorscale\":{\"diverging\":[[0.0,\"#003875\"],[0.05555555555555555,\"#004c8c\"],[0.1111111111111111,\"#0061a4\"],[0.16666666666666666,\"#0077bd\"],[0.2222222222222222,\"#0d8ed1\"],[0.2777777777777778,\"#24a6e1\"],[0.3333333333333333,\"#3bbef1\"],[0.3888888888888889,\"#5bd6fe\"],[0.4444444444444444,\"#afe7f9\"],[0.5,\"#E6E8EA\"],[0.5555555555555556,\"#f8d6da\"],[0.6111111111111112,\"#fbb6be\"],[0.6666666666666666,\"#fe94a0\"],[0.7222222222222222,\"#f67486\"],[0.7777777777777778,\"#ea536b\"],[0.8333333333333334,\"#db2f4c\"],[0.8888888888888888,\"#bc1f37\"],[0.9444444444444444,\"#9d1021\"],[1.0,\"#7e000c\"]],\"sequential\":[[0.0,\"#7e000c\"],[0.05555555555555555,\"#9d1021\"],[0.1111111111111111,\"#bc1f37\"],[0.16666666666666666,\"#db2f4c\"],[0.2222222222222222,\"#ea536b\"],[0.2777777777777778,\"#f67486\"],[0.3333333333333333,\"#fe94a0\"],[0.3888888888888889,\"#fbb6be\"],[0.4444444444444444,\"#f8d6da\"],[0.5,\"#E6E8EA\"],[0.5555555555555556,\"#afe7f9\"],[0.6111111111111112,\"#5bd6fe\"],[0.6666666666666666,\"#3bbef1\"],[0.7222222222222222,\"#24a6e1\"],[0.7777777777777778,\"#0d8ed1\"],[0.8333333333333334,\"#0077bd\"],[0.8888888888888888,\"#0061a4\"],[0.9444444444444444,\"#004c8c\"],[1.0,\"#003875\"]],\"sequentialminus\":[[0.0,\"#7e000c\"],[0.125,\"#9d1021\"],[0.25,\"#bc1f37\"],[0.375,\"#db2f4c\"],[0.5,\"#ea536b\"],[0.625,\"#f67486\"],[0.75,\"#fe94a0\"],[0.875,\"#fbb6be\"],[1.0,\"#f8d6da\"]]},\"colorway\":[\"#00b4ff\",\"#ff9222\",\"#3949ab\",\"#ff5267\",\"#08bdba\",\"#fdc935\",\"#689f38\",\"#976fd1\",\"#f781bf\",\"#52733e\"],\"font\":{\"color\":\"rgba(255,255,255,0.85)\",\"family\":\"Inter, sans-serif, Arial\",\"size\":14},\"geo\":{\"bgcolor\":\"#141721\",\"lakecolor\":\"#141721\",\"landcolor\":\"#141721\"},\"legend\":{\"bgcolor\":\"rgba(0,0,0,0)\",\"font\":{\"color\":\"rgba(255,255,255,0.85)\",\"family\":\"Inter, sans-serif, Arial\",\"size\":14},\"orientation\":\"h\",\"title\":{\"font\":{\"color\":\"rgba(255,255,255,0.85)\",\"family\":\"Inter, sans-serif, Arial\",\"size\":14},\"text\":\"\"},\"y\":-0.2},\"mapbox\":{\"style\":\"carto-darkmatter\"},\"margin\":{\"autoexpand\":true,\"b\":64,\"l\":80,\"pad\":0,\"r\":12,\"t\":64},\"paper_bgcolor\":\"#141721\",\"plot_bgcolor\":\"#141721\",\"polar\":{\"angularaxis\":{\"gridcolor\":\"rgba(255,255,255,0.10)\",\"linecolor\":\"rgba(255,255,255,0.30)\"},\"bgcolor\":\"#141721\",\"radialaxis\":{\"gridcolor\":\"rgba(255,255,255,0.10)\",\"linecolor\":\"rgba(255,255,255,0.30)\"}},\"showlegend\":true,\"ternary\":{\"aaxis\":{\"gridcolor\":\"rgba(255,255,255,0.10)\",\"linecolor\":\"rgba(255,255,255,0.30)\"},\"baxis\":{\"gridcolor\":\"rgba(255,255,255,0.10)\",\"linecolor\":\"rgba(255,255,255,0.30)\"},\"bgcolor\":\"#141721\",\"caxis\":{\"gridcolor\":\"rgba(255,255,255,0.10)\",\"linecolor\":\"rgba(255,255,255,0.30)\"}},\"title\":{\"font\":{\"color\":\"rgba(255,255,255,0.85)\",\"family\":\"Inter, sans-serif, Arial\",\"size\":20},\"pad\":{\"b\":0,\"l\":80,\"r\":0,\"t\":24},\"x\":0,\"xanchor\":\"left\",\"xref\":\"container\",\"y\":1,\"yanchor\":\"top\",\"yref\":\"container\"},\"uniformtext\":{\"minsize\":12,\"mode\":\"hide\"},\"xaxis\":{\"automargin\":true,\"gridcolor\":\"rgba(255,255,255,0.10)\",\"layer\":\"below traces\",\"linecolor\":\"rgba(255,255,255,0.30)\",\"linewidth\":1,\"showline\":true,\"showticklabels\":true,\"tickcolor\":\"rgba(255,255,255,0.30)\",\"tickfont\":{\"color\":\"rgba(255,255,255,0.55)\",\"family\":\"Inter, sans-serif, Arial\",\"size\":14},\"ticklabelposition\":\"outside\",\"ticklen\":8,\"ticks\":\"outside\",\"tickwidth\":1,\"title\":{\"font\":{\"color\":\"rgba(255,255,255,0.85)\",\"family\":\"Inter, sans-serif, Arial\",\"size\":16},\"standoff\":8},\"visible\":true,\"zeroline\":false},\"yaxis\":{\"automargin\":true,\"gridcolor\":\"rgba(255,255,255,0.10)\",\"layer\":\"below traces\",\"linecolor\":\"rgba(255,255,255,0.30)\",\"linewidth\":1,\"showline\":false,\"showticklabels\":true,\"tickcolor\":\"rgba(255,255,255,0.30)\",\"tickfont\":{\"color\":\"rgba(255,255,255,0.55)\",\"family\":\"Inter, sans-serif, Arial\",\"size\":14},\"ticklabelposition\":\"outside\",\"ticklen\":8,\"ticks\":\"outside\",\"tickwidth\":1,\"title\":{\"font\":{\"color\":\"rgba(255,255,255,0.85)\",\"family\":\"Inter, sans-serif, Arial\",\"size\":16},\"standoff\":8},\"visible\":true,\"zeroline\":false}}},\"xaxis\":{\"anchor\":\"y\",\"domain\":[0.0,1.0],\"title\":{\"text\":\"Date\"}},\"yaxis\":{\"anchor\":\"x\",\"domain\":[0.0,1.0],\"title\":{\"text\":\"value\"}},\"legend\":{\"title\":{\"text\":\"variable\"},\"tracegroupgap\":0},\"title\":{\"text\":\"Views per Date for latest and stable\"}},                        {\"responsive\": true}                    ).then(function(){\n",
       "                            \n",
       "var gd = document.getElementById('5f185b03-549b-42fc-aae0-7b9082837b02');\n",
       "var x = new MutationObserver(function (mutations, observer) {{\n",
       "        var display = window.getComputedStyle(gd).display;\n",
       "        if (!display || display === 'none') {{\n",
       "            console.log([gd, 'removed!']);\n",
       "            Plotly.purge(gd);\n",
       "            observer.disconnect();\n",
       "        }}\n",
       "}});\n",
       "\n",
       "// Listen for the removal of the full notebook cells\n",
       "var notebookContainer = gd.closest('#notebook-container');\n",
       "if (notebookContainer) {{\n",
       "    x.observe(notebookContainer, {childList: true});\n",
       "}}\n",
       "\n",
       "// Listen for the clearing of the current output cell\n",
       "var outputEl = gd.closest('.output');\n",
       "if (outputEl) {{\n",
       "    x.observe(outputEl, {childList: true});\n",
       "}}\n",
       "\n",
       "                        })                };                });            </script>        </div>"
      ]
     },
     "metadata": {},
     "output_type": "display_data"
    }
   ],
   "source": [
    "vizro_ai = VizroAI()\n",
    "vizro_ai.plot(df, \"Combine rows of Views for each Date for Version==latest and Version== stable. Draw a line graph comparing Views per Date for latest and stable\", explain=True)"
   ]
  },
  {
   "cell_type": "code",
   "execution_count": null,
   "id": "889a594d-b94b-4215-888e-8136dfdb64c3",
   "metadata": {},
   "outputs": [],
   "source": [
    "# compare two pages view data across the date range"
   ]
  },
  {
   "cell_type": "code",
   "execution_count": 33,
   "id": "a3ade817-d14c-41ca-9a02-c956665907da",
   "metadata": {},
   "outputs": [
    {
     "name": "stderr",
     "output_type": "stream",
     "text": [
      "INFO:vizro_ai._vizro_ai:You have selected gpt-3.5-turbo-0613,Engaging with LLMs (Large Language Models) carries certain risks. Users are advised to become familiar with these risks to make informed decisions, and visit this page for detailed information: https://vizro-ai.readthedocs.io/en/latest/pages/explanation/disclaimer/\n",
      "INFO:httpx:HTTP Request: POST https://api.openai.com/v1/chat/completions \"HTTP/1.1 200 OK\"\n",
      "INFO:httpx:HTTP Request: POST https://api.openai.com/v1/chat/completions \"HTTP/1.1 200 OK\"\n",
      "INFO:httpx:HTTP Request: POST https://api.openai.com/v1/chat/completions \"HTTP/1.1 200 OK\"\n",
      "INFO:httpx:HTTP Request: POST https://api.openai.com/v1/chat/completions \"HTTP/1.1 200 OK\"\n",
      "INFO:httpx:HTTP Request: POST https://api.openai.com/v1/chat/completions \"HTTP/1.1 200 OK\"\n"
     ]
    },
    {
     "data": {
      "text/markdown": [
       "<h4>Insights:</h4>\n",
       "\n",
       "The code snippet combines the 'Views' column of a given DataFrame by grouping it based on 'Path' and 'Date'. It then creates a line graph using Plotly Express library, where the x-axis represents the 'Date' and the y-axis represents the 'Views'. Each 'Path' is represented by a different color in the graph.\n",
       "<br><br><h4>Code:</h4>\n",
       "\n",
       "1. The code imports the necessary libraries: 'capture' from 'vizro.models.types', 'plotly express' as 'px', and 'pandas' as 'pd'.\n",
       "2. The 'custom_chart' function is defined with a decorator '@capture' to capture the graph output.\n",
       "3. Inside the function, the DataFrame is grouped by 'Path' and 'Date' using the 'groupby' method, and the 'Views' column is summed up for each group.\n",
       "4. The resulting DataFrame is then reset to have a new index.\n",
       "5. The 'px.line' function is used to create a line graph. The 'Date' column is set as the x-axis, the 'Views' column as the y-axis, and the 'Path' column as the color.\n",
       "6. The created graph is returned as the output of the function.\n",
       "<br>**This customized chart can be directly used in a Vizro dashboard.** \n",
       "Click [custom chart docs](https://vizro.readthedocs.io/en/stable/pages/user_guides/custom_charts/) for more information.\n",
       "```\n",
       "from vizro.models.types import capture\n",
       "import vizro.plotly.express as px\n",
       "import pandas as pd\n",
       "@capture('graph')\n",
       "def custom_chart(data_frame):\n",
       "    df = data_frame.groupby(['Path', 'Date']).sum().reset_index()\n",
       "    fig = px.line(df, x='Date', y='Views', color='Path')\n",
       "    return fig\n",
       "\n",
       "fig = custom_chart(data_frame=df)\n",
       "```"
      ],
      "text/plain": [
       "<IPython.core.display.Markdown object>"
      ]
     },
     "metadata": {},
     "output_type": "display_data"
    },
    {
     "data": {
      "application/vnd.plotly.v1+json": {
       "config": {
        "plotlyServerURL": "https://plot.ly"
       },
       "data": [
        {
         "hovertemplate": "Path=/pages/about.html<br>Date=%{x}<br>Views=%{y}<extra></extra>",
         "legendgroup": "/pages/about.html",
         "line": {
          "color": "#00b4ff",
          "dash": "solid"
         },
         "marker": {
          "symbol": "circle"
         },
         "mode": "lines",
         "name": "/pages/about.html",
         "orientation": "v",
         "showlegend": true,
         "type": "scatter",
         "x": [
          "01/03/2023",
          "02/03/2023",
          "03/03/2023",
          "04/03/2023",
          "05/03/2023",
          "06/03/2023",
          "07/03/2023",
          "08/03/2023",
          "09/03/2023",
          "10/03/2023",
          "11/03/2023",
          "12/03/2023",
          "13/03/2023",
          "14/03/2023",
          "15/03/2023",
          "16/03/2023",
          "17/03/2023",
          "18/03/2023",
          "19/03/2023",
          "20/03/2023",
          "21/03/2023",
          "22/03/2023",
          "23/03/2023",
          "24/03/2023",
          "25/03/2023",
          "26/03/2023",
          "27/03/2023",
          "28/03/2023",
          "29/03/2023",
          "30/03/2023",
          "31/03/2023"
         ],
         "xaxis": "x",
         "y": [
          162347,
          66984,
          166340,
          123745,
          51092,
          112986,
          28625,
          137703,
          182795,
          117796,
          157344,
          77099,
          187454,
          117618,
          135320,
          113703,
          81629,
          120546,
          89289,
          216109,
          148101,
          271374,
          117647,
          131226,
          132173,
          135187,
          128144,
          110690,
          137067,
          148666,
          61342
         ],
         "yaxis": "y"
        },
        {
         "hovertemplate": "Path=/pages/contact.html<br>Date=%{x}<br>Views=%{y}<extra></extra>",
         "legendgroup": "/pages/contact.html",
         "line": {
          "color": "#ff9222",
          "dash": "solid"
         },
         "marker": {
          "symbol": "circle"
         },
         "mode": "lines",
         "name": "/pages/contact.html",
         "orientation": "v",
         "showlegend": true,
         "type": "scatter",
         "x": [
          "01/03/2023",
          "02/03/2023",
          "03/03/2023",
          "04/03/2023",
          "05/03/2023",
          "06/03/2023",
          "07/03/2023",
          "08/03/2023",
          "09/03/2023",
          "10/03/2023",
          "11/03/2023",
          "12/03/2023",
          "13/03/2023",
          "14/03/2023",
          "15/03/2023",
          "16/03/2023",
          "17/03/2023",
          "18/03/2023",
          "19/03/2023",
          "20/03/2023",
          "21/03/2023",
          "22/03/2023",
          "23/03/2023",
          "24/03/2023",
          "25/03/2023",
          "26/03/2023",
          "27/03/2023",
          "28/03/2023",
          "29/03/2023",
          "30/03/2023",
          "31/03/2023"
         ],
         "xaxis": "x",
         "y": [
          94350,
          125763,
          61009,
          102742,
          112680,
          51344,
          156805,
          170764,
          179551,
          129092,
          104457,
          104979,
          70905,
          153985,
          41011,
          65551,
          119769,
          194974,
          116667,
          135097,
          86983,
          80912,
          158207,
          107596,
          110372,
          176980,
          78957,
          158859,
          225122,
          107251,
          143221
         ],
         "yaxis": "y"
        },
        {
         "hovertemplate": "Path=/pages/features.html<br>Date=%{x}<br>Views=%{y}<extra></extra>",
         "legendgroup": "/pages/features.html",
         "line": {
          "color": "#3949ab",
          "dash": "solid"
         },
         "marker": {
          "symbol": "circle"
         },
         "mode": "lines",
         "name": "/pages/features.html",
         "orientation": "v",
         "showlegend": true,
         "type": "scatter",
         "x": [
          "01/03/2023",
          "02/03/2023",
          "03/03/2023",
          "04/03/2023",
          "05/03/2023",
          "06/03/2023",
          "07/03/2023",
          "08/03/2023",
          "09/03/2023",
          "10/03/2023",
          "11/03/2023",
          "12/03/2023",
          "13/03/2023",
          "14/03/2023",
          "15/03/2023",
          "16/03/2023",
          "17/03/2023",
          "18/03/2023",
          "19/03/2023",
          "20/03/2023",
          "21/03/2023",
          "22/03/2023",
          "23/03/2023",
          "24/03/2023",
          "25/03/2023",
          "26/03/2023",
          "27/03/2023",
          "28/03/2023",
          "29/03/2023",
          "30/03/2023",
          "31/03/2023"
         ],
         "xaxis": "x",
         "y": [
          102216,
          99536,
          203527,
          96956,
          68499,
          108182,
          59799,
          182077,
          89690,
          298152,
          112228,
          86888,
          28492,
          96242,
          270433,
          126218,
          50990,
          61465,
          95544,
          82362,
          195179,
          99968,
          93513,
          166338,
          176814,
          245235,
          113575,
          173505,
          65611,
          145118,
          77221
         ],
         "yaxis": "y"
        },
        {
         "hovertemplate": "Path=/pages/index.html<br>Date=%{x}<br>Views=%{y}<extra></extra>",
         "legendgroup": "/pages/index.html",
         "line": {
          "color": "#ff5267",
          "dash": "solid"
         },
         "marker": {
          "symbol": "circle"
         },
         "mode": "lines",
         "name": "/pages/index.html",
         "orientation": "v",
         "showlegend": true,
         "type": "scatter",
         "x": [
          "01/03/2023",
          "02/03/2023",
          "03/03/2023",
          "04/03/2023",
          "05/03/2023",
          "06/03/2023",
          "07/03/2023",
          "08/03/2023",
          "09/03/2023",
          "10/03/2023",
          "11/03/2023",
          "12/03/2023",
          "13/03/2023",
          "14/03/2023",
          "15/03/2023",
          "16/03/2023",
          "17/03/2023",
          "18/03/2023",
          "19/03/2023",
          "20/03/2023",
          "21/03/2023",
          "22/03/2023",
          "23/03/2023",
          "24/03/2023",
          "25/03/2023",
          "26/03/2023",
          "27/03/2023",
          "28/03/2023",
          "29/03/2023",
          "30/03/2023",
          "31/03/2023"
         ],
         "xaxis": "x",
         "y": [
          319477,
          126225,
          135153,
          97607,
          146482,
          30514,
          69926,
          195355,
          168242,
          43049,
          15170,
          196905,
          124989,
          109825,
          126261,
          86666,
          79483,
          232175,
          191613,
          116930,
          111498,
          106086,
          54841,
          103051,
          65667,
          290766,
          99061,
          122239,
          140673,
          158737,
          142441
         ],
         "yaxis": "y"
        },
        {
         "hovertemplate": "Path=/pages/pricing.html<br>Date=%{x}<br>Views=%{y}<extra></extra>",
         "legendgroup": "/pages/pricing.html",
         "line": {
          "color": "#08bdba",
          "dash": "solid"
         },
         "marker": {
          "symbol": "circle"
         },
         "mode": "lines",
         "name": "/pages/pricing.html",
         "orientation": "v",
         "showlegend": true,
         "type": "scatter",
         "x": [
          "01/03/2023",
          "02/03/2023",
          "03/03/2023",
          "04/03/2023",
          "05/03/2023",
          "06/03/2023",
          "07/03/2023",
          "08/03/2023",
          "09/03/2023",
          "10/03/2023",
          "11/03/2023",
          "12/03/2023",
          "13/03/2023",
          "14/03/2023",
          "15/03/2023",
          "16/03/2023",
          "17/03/2023",
          "18/03/2023",
          "19/03/2023",
          "20/03/2023",
          "21/03/2023",
          "22/03/2023",
          "23/03/2023",
          "24/03/2023",
          "25/03/2023",
          "26/03/2023",
          "27/03/2023",
          "28/03/2023",
          "29/03/2023",
          "30/03/2023",
          "31/03/2023"
         ],
         "xaxis": "x",
         "y": [
          188237,
          126237,
          127478,
          199612,
          66872,
          131544,
          81805,
          145340,
          207343,
          108210,
          127652,
          76503,
          182268,
          141276,
          149124,
          97979,
          238382,
          205546,
          110687,
          180664,
          138734,
          155106,
          155577,
          160912,
          249672,
          71634,
          96985,
          100268,
          219326,
          241707,
          85494
         ],
         "yaxis": "y"
        }
       ],
       "layout": {
        "autosize": true,
        "legend": {
         "title": {
          "text": "Path"
         },
         "tracegroupgap": 0
        },
        "template": {
         "data": {
          "bar": [
           {
            "marker": {
             "line": {
              "color": "#141721",
              "width": 1
             }
            },
            "textfont": {
             "color": "rgba(255,255,255,0.55)"
            },
            "type": "bar"
           }
          ],
          "table": [
           {
            "cells": {
             "align": "left",
             "fill": {
              "color": "#141721"
             },
             "font": {
              "color": "rgba(255,255,255,0.55)",
              "size": 14
             },
             "height": 32,
             "line": {
              "color": "rgba(255,255,255,0.10)"
             }
            },
            "header": {
             "align": "left",
             "fill": {
              "color": "#141721"
             },
             "font": {
              "color": "rgba(255,255,255,0.85)",
              "size": 14
             },
             "height": 32,
             "line": {
              "color": "rgba(255,255,255,0.10)"
             }
            },
            "type": "table"
           }
          ],
          "waterfall": [
           {
            "connector": {
             "line": {
              "color": "rgba(255,255,255,0.30)",
              "width": 1
             }
            },
            "decreasing": {
             "marker": {
              "color": "#ff9222"
             }
            },
            "increasing": {
             "marker": {
              "color": "#00b4ff"
             }
            },
            "textfont": {
             "color": "rgba(255,255,255,0.85)"
            },
            "textposition": "outside",
            "totals": {
             "marker": {
              "color": "#747F88"
             }
            },
            "type": "waterfall"
           }
          ]
         },
         "layout": {
          "annotationdefaults": {
           "font": {
            "color": "rgba(255,255,255,0.85)",
            "size": 14
           },
           "showarrow": false
          },
          "bargroupgap": 0.1,
          "coloraxis": {
           "colorbar": {
            "outlinewidth": 0,
            "showticklabels": true,
            "thickness": 20,
            "tickcolor": "rgba(255,255,255,0.30)",
            "tickfont": {
             "color": "rgba(255,255,255,0.55)",
             "family": "Inter, sans-serif, Arial",
             "size": 14
            },
            "ticklabelposition": "outside",
            "ticklen": 8,
            "ticks": "outside",
            "tickwidth": 1,
            "title": {
             "font": {
              "color": "rgba(255,255,255,0.55)",
              "family": "Inter, sans-serif, Arial",
              "size": 14
             }
            }
           }
          },
          "colorscale": {
           "diverging": [
            [
             0,
             "#003875"
            ],
            [
             0.05555555555555555,
             "#004c8c"
            ],
            [
             0.1111111111111111,
             "#0061a4"
            ],
            [
             0.16666666666666666,
             "#0077bd"
            ],
            [
             0.2222222222222222,
             "#0d8ed1"
            ],
            [
             0.2777777777777778,
             "#24a6e1"
            ],
            [
             0.3333333333333333,
             "#3bbef1"
            ],
            [
             0.3888888888888889,
             "#5bd6fe"
            ],
            [
             0.4444444444444444,
             "#afe7f9"
            ],
            [
             0.5,
             "#E6E8EA"
            ],
            [
             0.5555555555555556,
             "#f8d6da"
            ],
            [
             0.6111111111111112,
             "#fbb6be"
            ],
            [
             0.6666666666666666,
             "#fe94a0"
            ],
            [
             0.7222222222222222,
             "#f67486"
            ],
            [
             0.7777777777777778,
             "#ea536b"
            ],
            [
             0.8333333333333334,
             "#db2f4c"
            ],
            [
             0.8888888888888888,
             "#bc1f37"
            ],
            [
             0.9444444444444444,
             "#9d1021"
            ],
            [
             1,
             "#7e000c"
            ]
           ],
           "sequential": [
            [
             0,
             "#7e000c"
            ],
            [
             0.05555555555555555,
             "#9d1021"
            ],
            [
             0.1111111111111111,
             "#bc1f37"
            ],
            [
             0.16666666666666666,
             "#db2f4c"
            ],
            [
             0.2222222222222222,
             "#ea536b"
            ],
            [
             0.2777777777777778,
             "#f67486"
            ],
            [
             0.3333333333333333,
             "#fe94a0"
            ],
            [
             0.3888888888888889,
             "#fbb6be"
            ],
            [
             0.4444444444444444,
             "#f8d6da"
            ],
            [
             0.5,
             "#E6E8EA"
            ],
            [
             0.5555555555555556,
             "#afe7f9"
            ],
            [
             0.6111111111111112,
             "#5bd6fe"
            ],
            [
             0.6666666666666666,
             "#3bbef1"
            ],
            [
             0.7222222222222222,
             "#24a6e1"
            ],
            [
             0.7777777777777778,
             "#0d8ed1"
            ],
            [
             0.8333333333333334,
             "#0077bd"
            ],
            [
             0.8888888888888888,
             "#0061a4"
            ],
            [
             0.9444444444444444,
             "#004c8c"
            ],
            [
             1,
             "#003875"
            ]
           ],
           "sequentialminus": [
            [
             0,
             "#7e000c"
            ],
            [
             0.125,
             "#9d1021"
            ],
            [
             0.25,
             "#bc1f37"
            ],
            [
             0.375,
             "#db2f4c"
            ],
            [
             0.5,
             "#ea536b"
            ],
            [
             0.625,
             "#f67486"
            ],
            [
             0.75,
             "#fe94a0"
            ],
            [
             0.875,
             "#fbb6be"
            ],
            [
             1,
             "#f8d6da"
            ]
           ]
          },
          "colorway": [
           "#00b4ff",
           "#ff9222",
           "#3949ab",
           "#ff5267",
           "#08bdba",
           "#fdc935",
           "#689f38",
           "#976fd1",
           "#f781bf",
           "#52733e"
          ],
          "font": {
           "color": "rgba(255,255,255,0.85)",
           "family": "Inter, sans-serif, Arial",
           "size": 14
          },
          "geo": {
           "bgcolor": "#141721",
           "lakecolor": "#141721",
           "landcolor": "#141721"
          },
          "legend": {
           "bgcolor": "rgba(0, 0, 0, 0)",
           "font": {
            "color": "rgba(255,255,255,0.85)",
            "family": "Inter, sans-serif, Arial",
            "size": 14
           },
           "orientation": "h",
           "title": {
            "font": {
             "color": "rgba(255,255,255,0.85)",
             "family": "Inter, sans-serif, Arial",
             "size": 14
            },
            "text": ""
           },
           "y": -0.2
          },
          "mapbox": {
           "style": "carto-darkmatter"
          },
          "margin": {
           "autoexpand": true,
           "b": 64,
           "l": 80,
           "pad": 0,
           "r": 12,
           "t": 64
          },
          "paper_bgcolor": "#141721",
          "plot_bgcolor": "#141721",
          "polar": {
           "angularaxis": {
            "gridcolor": "rgba(255,255,255,0.10)",
            "linecolor": "rgba(255,255,255,0.30)"
           },
           "bgcolor": "#141721",
           "radialaxis": {
            "gridcolor": "rgba(255,255,255,0.10)",
            "linecolor": "rgba(255,255,255,0.30)"
           }
          },
          "showlegend": true,
          "ternary": {
           "aaxis": {
            "gridcolor": "rgba(255,255,255,0.10)",
            "linecolor": "rgba(255,255,255,0.30)"
           },
           "baxis": {
            "gridcolor": "rgba(255,255,255,0.10)",
            "linecolor": "rgba(255,255,255,0.30)"
           },
           "bgcolor": "#141721",
           "caxis": {
            "gridcolor": "rgba(255,255,255,0.10)",
            "linecolor": "rgba(255,255,255,0.30)"
           }
          },
          "title": {
           "font": {
            "color": "rgba(255,255,255,0.85)",
            "family": "Inter, sans-serif, Arial",
            "size": 20
           },
           "pad": {
            "b": 0,
            "l": 80,
            "r": 0,
            "t": 24
           },
           "x": 0,
           "xanchor": "left",
           "xref": "container",
           "y": 1,
           "yanchor": "top",
           "yref": "container"
          },
          "uniformtext": {
           "minsize": 12,
           "mode": "hide"
          },
          "xaxis": {
           "automargin": true,
           "gridcolor": "rgba(255,255,255,0.10)",
           "layer": "below traces",
           "linecolor": "rgba(255,255,255,0.30)",
           "linewidth": 1,
           "showline": true,
           "showticklabels": true,
           "tickcolor": "rgba(255,255,255,0.30)",
           "tickfont": {
            "color": "rgba(255,255,255,0.55)",
            "family": "Inter, sans-serif, Arial",
            "size": 14
           },
           "ticklabelposition": "outside",
           "ticklen": 8,
           "ticks": "outside",
           "tickwidth": 1,
           "title": {
            "font": {
             "color": "rgba(255,255,255,0.85)",
             "family": "Inter, sans-serif, Arial",
             "size": 16
            },
            "standoff": 8
           },
           "visible": true,
           "zeroline": false
          },
          "yaxis": {
           "automargin": true,
           "gridcolor": "rgba(255,255,255,0.10)",
           "layer": "below traces",
           "linecolor": "rgba(255,255,255,0.30)",
           "linewidth": 1,
           "showline": false,
           "showticklabels": true,
           "tickcolor": "rgba(255,255,255,0.30)",
           "tickfont": {
            "color": "rgba(255,255,255,0.55)",
            "family": "Inter, sans-serif, Arial",
            "size": 14
           },
           "ticklabelposition": "outside",
           "ticklen": 8,
           "ticks": "outside",
           "tickwidth": 1,
           "title": {
            "font": {
             "color": "rgba(255,255,255,0.85)",
             "family": "Inter, sans-serif, Arial",
             "size": 16
            },
            "standoff": 8
           },
           "visible": true,
           "zeroline": false
          }
         }
        },
        "xaxis": {
         "anchor": "y",
         "autorange": true,
         "domain": [
          0,
          1
         ],
         "range": [
          0,
          30
         ],
         "title": {
          "text": "Date"
         },
         "type": "category"
        },
        "yaxis": {
         "anchor": "x",
         "autorange": true,
         "domain": [
          0,
          1
         ],
         "range": [
          -1735.9444444444453,
          336382.94444444444
         ],
         "title": {
          "text": "Views"
         },
         "type": "linear"
        }
       }
      },
      "image/png": "[encoded data removed]",
      "text/html": [
       "<div>                            <div id=\"0affb8b7-35c5-47eb-8779-f8368f9c53fd\" class=\"plotly-graph-div\" style=\"height:525px; width:100%;\"></div>            <script type=\"text/javascript\">                require([\"plotly\"], function(Plotly) {                    window.PLOTLYENV=window.PLOTLYENV || {};                                    if (document.getElementById(\"0affb8b7-35c5-47eb-8779-f8368f9c53fd\")) {                    Plotly.newPlot(                        \"0affb8b7-35c5-47eb-8779-f8368f9c53fd\",                        [{\"hovertemplate\":\"Path=\\u002fpages\\u002fabout.html\\u003cbr\\u003eDate=%{x}\\u003cbr\\u003eViews=%{y}\\u003cextra\\u003e\\u003c\\u002fextra\\u003e\",\"legendgroup\":\"\\u002fpages\\u002fabout.html\",\"line\":{\"color\":\"#00b4ff\",\"dash\":\"solid\"},\"marker\":{\"symbol\":\"circle\"},\"mode\":\"lines\",\"name\":\"\\u002fpages\\u002fabout.html\",\"orientation\":\"v\",\"showlegend\":true,\"x\":[\"01\\u002f03\\u002f2023\",\"02\\u002f03\\u002f2023\",\"03\\u002f03\\u002f2023\",\"04\\u002f03\\u002f2023\",\"05\\u002f03\\u002f2023\",\"06\\u002f03\\u002f2023\",\"07\\u002f03\\u002f2023\",\"08\\u002f03\\u002f2023\",\"09\\u002f03\\u002f2023\",\"10\\u002f03\\u002f2023\",\"11\\u002f03\\u002f2023\",\"12\\u002f03\\u002f2023\",\"13\\u002f03\\u002f2023\",\"14\\u002f03\\u002f2023\",\"15\\u002f03\\u002f2023\",\"16\\u002f03\\u002f2023\",\"17\\u002f03\\u002f2023\",\"18\\u002f03\\u002f2023\",\"19\\u002f03\\u002f2023\",\"20\\u002f03\\u002f2023\",\"21\\u002f03\\u002f2023\",\"22\\u002f03\\u002f2023\",\"23\\u002f03\\u002f2023\",\"24\\u002f03\\u002f2023\",\"25\\u002f03\\u002f2023\",\"26\\u002f03\\u002f2023\",\"27\\u002f03\\u002f2023\",\"28\\u002f03\\u002f2023\",\"29\\u002f03\\u002f2023\",\"30\\u002f03\\u002f2023\",\"31\\u002f03\\u002f2023\"],\"xaxis\":\"x\",\"y\":[162347,66984,166340,123745,51092,112986,28625,137703,182795,117796,157344,77099,187454,117618,135320,113703,81629,120546,89289,216109,148101,271374,117647,131226,132173,135187,128144,110690,137067,148666,61342],\"yaxis\":\"y\",\"type\":\"scatter\"},{\"hovertemplate\":\"Path=\\u002fpages\\u002fcontact.html\\u003cbr\\u003eDate=%{x}\\u003cbr\\u003eViews=%{y}\\u003cextra\\u003e\\u003c\\u002fextra\\u003e\",\"legendgroup\":\"\\u002fpages\\u002fcontact.html\",\"line\":{\"color\":\"#ff9222\",\"dash\":\"solid\"},\"marker\":{\"symbol\":\"circle\"},\"mode\":\"lines\",\"name\":\"\\u002fpages\\u002fcontact.html\",\"orientation\":\"v\",\"showlegend\":true,\"x\":[\"01\\u002f03\\u002f2023\",\"02\\u002f03\\u002f2023\",\"03\\u002f03\\u002f2023\",\"04\\u002f03\\u002f2023\",\"05\\u002f03\\u002f2023\",\"06\\u002f03\\u002f2023\",\"07\\u002f03\\u002f2023\",\"08\\u002f03\\u002f2023\",\"09\\u002f03\\u002f2023\",\"10\\u002f03\\u002f2023\",\"11\\u002f03\\u002f2023\",\"12\\u002f03\\u002f2023\",\"13\\u002f03\\u002f2023\",\"14\\u002f03\\u002f2023\",\"15\\u002f03\\u002f2023\",\"16\\u002f03\\u002f2023\",\"17\\u002f03\\u002f2023\",\"18\\u002f03\\u002f2023\",\"19\\u002f03\\u002f2023\",\"20\\u002f03\\u002f2023\",\"21\\u002f03\\u002f2023\",\"22\\u002f03\\u002f2023\",\"23\\u002f03\\u002f2023\",\"24\\u002f03\\u002f2023\",\"25\\u002f03\\u002f2023\",\"26\\u002f03\\u002f2023\",\"27\\u002f03\\u002f2023\",\"28\\u002f03\\u002f2023\",\"29\\u002f03\\u002f2023\",\"30\\u002f03\\u002f2023\",\"31\\u002f03\\u002f2023\"],\"xaxis\":\"x\",\"y\":[94350,125763,61009,102742,112680,51344,156805,170764,179551,129092,104457,104979,70905,153985,41011,65551,119769,194974,116667,135097,86983,80912,158207,107596,110372,176980,78957,158859,225122,107251,143221],\"yaxis\":\"y\",\"type\":\"scatter\"},{\"hovertemplate\":\"Path=\\u002fpages\\u002ffeatures.html\\u003cbr\\u003eDate=%{x}\\u003cbr\\u003eViews=%{y}\\u003cextra\\u003e\\u003c\\u002fextra\\u003e\",\"legendgroup\":\"\\u002fpages\\u002ffeatures.html\",\"line\":{\"color\":\"#3949ab\",\"dash\":\"solid\"},\"marker\":{\"symbol\":\"circle\"},\"mode\":\"lines\",\"name\":\"\\u002fpages\\u002ffeatures.html\",\"orientation\":\"v\",\"showlegend\":true,\"x\":[\"01\\u002f03\\u002f2023\",\"02\\u002f03\\u002f2023\",\"03\\u002f03\\u002f2023\",\"04\\u002f03\\u002f2023\",\"05\\u002f03\\u002f2023\",\"06\\u002f03\\u002f2023\",\"07\\u002f03\\u002f2023\",\"08\\u002f03\\u002f2023\",\"09\\u002f03\\u002f2023\",\"10\\u002f03\\u002f2023\",\"11\\u002f03\\u002f2023\",\"12\\u002f03\\u002f2023\",\"13\\u002f03\\u002f2023\",\"14\\u002f03\\u002f2023\",\"15\\u002f03\\u002f2023\",\"16\\u002f03\\u002f2023\",\"17\\u002f03\\u002f2023\",\"18\\u002f03\\u002f2023\",\"19\\u002f03\\u002f2023\",\"20\\u002f03\\u002f2023\",\"21\\u002f03\\u002f2023\",\"22\\u002f03\\u002f2023\",\"23\\u002f03\\u002f2023\",\"24\\u002f03\\u002f2023\",\"25\\u002f03\\u002f2023\",\"26\\u002f03\\u002f2023\",\"27\\u002f03\\u002f2023\",\"28\\u002f03\\u002f2023\",\"29\\u002f03\\u002f2023\",\"30\\u002f03\\u002f2023\",\"31\\u002f03\\u002f2023\"],\"xaxis\":\"x\",\"y\":[102216,99536,203527,96956,68499,108182,59799,182077,89690,298152,112228,86888,28492,96242,270433,126218,50990,61465,95544,82362,195179,99968,93513,166338,176814,245235,113575,173505,65611,145118,77221],\"yaxis\":\"y\",\"type\":\"scatter\"},{\"hovertemplate\":\"Path=\\u002fpages\\u002findex.html\\u003cbr\\u003eDate=%{x}\\u003cbr\\u003eViews=%{y}\\u003cextra\\u003e\\u003c\\u002fextra\\u003e\",\"legendgroup\":\"\\u002fpages\\u002findex.html\",\"line\":{\"color\":\"#ff5267\",\"dash\":\"solid\"},\"marker\":{\"symbol\":\"circle\"},\"mode\":\"lines\",\"name\":\"\\u002fpages\\u002findex.html\",\"orientation\":\"v\",\"showlegend\":true,\"x\":[\"01\\u002f03\\u002f2023\",\"02\\u002f03\\u002f2023\",\"03\\u002f03\\u002f2023\",\"04\\u002f03\\u002f2023\",\"05\\u002f03\\u002f2023\",\"06\\u002f03\\u002f2023\",\"07\\u002f03\\u002f2023\",\"08\\u002f03\\u002f2023\",\"09\\u002f03\\u002f2023\",\"10\\u002f03\\u002f2023\",\"11\\u002f03\\u002f2023\",\"12\\u002f03\\u002f2023\",\"13\\u002f03\\u002f2023\",\"14\\u002f03\\u002f2023\",\"15\\u002f03\\u002f2023\",\"16\\u002f03\\u002f2023\",\"17\\u002f03\\u002f2023\",\"18\\u002f03\\u002f2023\",\"19\\u002f03\\u002f2023\",\"20\\u002f03\\u002f2023\",\"21\\u002f03\\u002f2023\",\"22\\u002f03\\u002f2023\",\"23\\u002f03\\u002f2023\",\"24\\u002f03\\u002f2023\",\"25\\u002f03\\u002f2023\",\"26\\u002f03\\u002f2023\",\"27\\u002f03\\u002f2023\",\"28\\u002f03\\u002f2023\",\"29\\u002f03\\u002f2023\",\"30\\u002f03\\u002f2023\",\"31\\u002f03\\u002f2023\"],\"xaxis\":\"x\",\"y\":[319477,126225,135153,97607,146482,30514,69926,195355,168242,43049,15170,196905,124989,109825,126261,86666,79483,232175,191613,116930,111498,106086,54841,103051,65667,290766,99061,122239,140673,158737,142441],\"yaxis\":\"y\",\"type\":\"scatter\"},{\"hovertemplate\":\"Path=\\u002fpages\\u002fpricing.html\\u003cbr\\u003eDate=%{x}\\u003cbr\\u003eViews=%{y}\\u003cextra\\u003e\\u003c\\u002fextra\\u003e\",\"legendgroup\":\"\\u002fpages\\u002fpricing.html\",\"line\":{\"color\":\"#08bdba\",\"dash\":\"solid\"},\"marker\":{\"symbol\":\"circle\"},\"mode\":\"lines\",\"name\":\"\\u002fpages\\u002fpricing.html\",\"orientation\":\"v\",\"showlegend\":true,\"x\":[\"01\\u002f03\\u002f2023\",\"02\\u002f03\\u002f2023\",\"03\\u002f03\\u002f2023\",\"04\\u002f03\\u002f2023\",\"05\\u002f03\\u002f2023\",\"06\\u002f03\\u002f2023\",\"07\\u002f03\\u002f2023\",\"08\\u002f03\\u002f2023\",\"09\\u002f03\\u002f2023\",\"10\\u002f03\\u002f2023\",\"11\\u002f03\\u002f2023\",\"12\\u002f03\\u002f2023\",\"13\\u002f03\\u002f2023\",\"14\\u002f03\\u002f2023\",\"15\\u002f03\\u002f2023\",\"16\\u002f03\\u002f2023\",\"17\\u002f03\\u002f2023\",\"18\\u002f03\\u002f2023\",\"19\\u002f03\\u002f2023\",\"20\\u002f03\\u002f2023\",\"21\\u002f03\\u002f2023\",\"22\\u002f03\\u002f2023\",\"23\\u002f03\\u002f2023\",\"24\\u002f03\\u002f2023\",\"25\\u002f03\\u002f2023\",\"26\\u002f03\\u002f2023\",\"27\\u002f03\\u002f2023\",\"28\\u002f03\\u002f2023\",\"29\\u002f03\\u002f2023\",\"30\\u002f03\\u002f2023\",\"31\\u002f03\\u002f2023\"],\"xaxis\":\"x\",\"y\":[188237,126237,127478,199612,66872,131544,81805,145340,207343,108210,127652,76503,182268,141276,149124,97979,238382,205546,110687,180664,138734,155106,155577,160912,249672,71634,96985,100268,219326,241707,85494],\"yaxis\":\"y\",\"type\":\"scatter\"}],                        {\"template\":{\"data\":{\"bar\":[{\"marker\":{\"line\":{\"color\":\"#141721\",\"width\":1}},\"textfont\":{\"color\":\"rgba(255,255,255,0.55)\"},\"type\":\"bar\"}],\"table\":[{\"cells\":{\"align\":\"left\",\"fill\":{\"color\":\"#141721\"},\"font\":{\"color\":\"rgba(255,255,255,0.55)\",\"size\":14},\"height\":32,\"line\":{\"color\":\"rgba(255,255,255,0.10)\"}},\"header\":{\"align\":\"left\",\"fill\":{\"color\":\"#141721\"},\"font\":{\"color\":\"rgba(255,255,255,0.85)\",\"size\":14},\"height\":32,\"line\":{\"color\":\"rgba(255,255,255,0.10)\"}},\"type\":\"table\"}],\"waterfall\":[{\"connector\":{\"line\":{\"color\":\"rgba(255,255,255,0.30)\",\"width\":1}},\"decreasing\":{\"marker\":{\"color\":\"#ff9222\"}},\"increasing\":{\"marker\":{\"color\":\"#00b4ff\"}},\"textfont\":{\"color\":\"rgba(255,255,255,0.85)\"},\"textposition\":\"outside\",\"totals\":{\"marker\":{\"color\":\"#747F88\"}},\"type\":\"waterfall\"}]},\"layout\":{\"annotationdefaults\":{\"font\":{\"color\":\"rgba(255,255,255,0.85)\",\"size\":14},\"showarrow\":false},\"bargroupgap\":0.1,\"coloraxis\":{\"colorbar\":{\"outlinewidth\":0,\"showticklabels\":true,\"thickness\":20,\"tickcolor\":\"rgba(255,255,255,0.30)\",\"tickfont\":{\"color\":\"rgba(255,255,255,0.55)\",\"family\":\"Inter, sans-serif, Arial\",\"size\":14},\"ticklabelposition\":\"outside\",\"ticklen\":8,\"ticks\":\"outside\",\"tickwidth\":1,\"title\":{\"font\":{\"color\":\"rgba(255,255,255,0.55)\",\"family\":\"Inter, sans-serif, Arial\",\"size\":14}}}},\"colorscale\":{\"diverging\":[[0.0,\"#003875\"],[0.05555555555555555,\"#004c8c\"],[0.1111111111111111,\"#0061a4\"],[0.16666666666666666,\"#0077bd\"],[0.2222222222222222,\"#0d8ed1\"],[0.2777777777777778,\"#24a6e1\"],[0.3333333333333333,\"#3bbef1\"],[0.3888888888888889,\"#5bd6fe\"],[0.4444444444444444,\"#afe7f9\"],[0.5,\"#E6E8EA\"],[0.5555555555555556,\"#f8d6da\"],[0.6111111111111112,\"#fbb6be\"],[0.6666666666666666,\"#fe94a0\"],[0.7222222222222222,\"#f67486\"],[0.7777777777777778,\"#ea536b\"],[0.8333333333333334,\"#db2f4c\"],[0.8888888888888888,\"#bc1f37\"],[0.9444444444444444,\"#9d1021\"],[1.0,\"#7e000c\"]],\"sequential\":[[0.0,\"#7e000c\"],[0.05555555555555555,\"#9d1021\"],[0.1111111111111111,\"#bc1f37\"],[0.16666666666666666,\"#db2f4c\"],[0.2222222222222222,\"#ea536b\"],[0.2777777777777778,\"#f67486\"],[0.3333333333333333,\"#fe94a0\"],[0.3888888888888889,\"#fbb6be\"],[0.4444444444444444,\"#f8d6da\"],[0.5,\"#E6E8EA\"],[0.5555555555555556,\"#afe7f9\"],[0.6111111111111112,\"#5bd6fe\"],[0.6666666666666666,\"#3bbef1\"],[0.7222222222222222,\"#24a6e1\"],[0.7777777777777778,\"#0d8ed1\"],[0.8333333333333334,\"#0077bd\"],[0.8888888888888888,\"#0061a4\"],[0.9444444444444444,\"#004c8c\"],[1.0,\"#003875\"]],\"sequentialminus\":[[0.0,\"#7e000c\"],[0.125,\"#9d1021\"],[0.25,\"#bc1f37\"],[0.375,\"#db2f4c\"],[0.5,\"#ea536b\"],[0.625,\"#f67486\"],[0.75,\"#fe94a0\"],[0.875,\"#fbb6be\"],[1.0,\"#f8d6da\"]]},\"colorway\":[\"#00b4ff\",\"#ff9222\",\"#3949ab\",\"#ff5267\",\"#08bdba\",\"#fdc935\",\"#689f38\",\"#976fd1\",\"#f781bf\",\"#52733e\"],\"font\":{\"color\":\"rgba(255,255,255,0.85)\",\"family\":\"Inter, sans-serif, Arial\",\"size\":14},\"geo\":{\"bgcolor\":\"#141721\",\"lakecolor\":\"#141721\",\"landcolor\":\"#141721\"},\"legend\":{\"bgcolor\":\"rgba(0,0,0,0)\",\"font\":{\"color\":\"rgba(255,255,255,0.85)\",\"family\":\"Inter, sans-serif, Arial\",\"size\":14},\"orientation\":\"h\",\"title\":{\"font\":{\"color\":\"rgba(255,255,255,0.85)\",\"family\":\"Inter, sans-serif, Arial\",\"size\":14},\"text\":\"\"},\"y\":-0.2},\"mapbox\":{\"style\":\"carto-darkmatter\"},\"margin\":{\"autoexpand\":true,\"b\":64,\"l\":80,\"pad\":0,\"r\":12,\"t\":64},\"paper_bgcolor\":\"#141721\",\"plot_bgcolor\":\"#141721\",\"polar\":{\"angularaxis\":{\"gridcolor\":\"rgba(255,255,255,0.10)\",\"linecolor\":\"rgba(255,255,255,0.30)\"},\"bgcolor\":\"#141721\",\"radialaxis\":{\"gridcolor\":\"rgba(255,255,255,0.10)\",\"linecolor\":\"rgba(255,255,255,0.30)\"}},\"showlegend\":true,\"ternary\":{\"aaxis\":{\"gridcolor\":\"rgba(255,255,255,0.10)\",\"linecolor\":\"rgba(255,255,255,0.30)\"},\"baxis\":{\"gridcolor\":\"rgba(255,255,255,0.10)\",\"linecolor\":\"rgba(255,255,255,0.30)\"},\"bgcolor\":\"#141721\",\"caxis\":{\"gridcolor\":\"rgba(255,255,255,0.10)\",\"linecolor\":\"rgba(255,255,255,0.30)\"}},\"title\":{\"font\":{\"color\":\"rgba(255,255,255,0.85)\",\"family\":\"Inter, sans-serif, Arial\",\"size\":20},\"pad\":{\"b\":0,\"l\":80,\"r\":0,\"t\":24},\"x\":0,\"xanchor\":\"left\",\"xref\":\"container\",\"y\":1,\"yanchor\":\"top\",\"yref\":\"container\"},\"uniformtext\":{\"minsize\":12,\"mode\":\"hide\"},\"xaxis\":{\"automargin\":true,\"gridcolor\":\"rgba(255,255,255,0.10)\",\"layer\":\"below traces\",\"linecolor\":\"rgba(255,255,255,0.30)\",\"linewidth\":1,\"showline\":true,\"showticklabels\":true,\"tickcolor\":\"rgba(255,255,255,0.30)\",\"tickfont\":{\"color\":\"rgba(255,255,255,0.55)\",\"family\":\"Inter, sans-serif, Arial\",\"size\":14},\"ticklabelposition\":\"outside\",\"ticklen\":8,\"ticks\":\"outside\",\"tickwidth\":1,\"title\":{\"font\":{\"color\":\"rgba(255,255,255,0.85)\",\"family\":\"Inter, sans-serif, Arial\",\"size\":16},\"standoff\":8},\"visible\":true,\"zeroline\":false},\"yaxis\":{\"automargin\":true,\"gridcolor\":\"rgba(255,255,255,0.10)\",\"layer\":\"below traces\",\"linecolor\":\"rgba(255,255,255,0.30)\",\"linewidth\":1,\"showline\":false,\"showticklabels\":true,\"tickcolor\":\"rgba(255,255,255,0.30)\",\"tickfont\":{\"color\":\"rgba(255,255,255,0.55)\",\"family\":\"Inter, sans-serif, Arial\",\"size\":14},\"ticklabelposition\":\"outside\",\"ticklen\":8,\"ticks\":\"outside\",\"tickwidth\":1,\"title\":{\"font\":{\"color\":\"rgba(255,255,255,0.85)\",\"family\":\"Inter, sans-serif, Arial\",\"size\":16},\"standoff\":8},\"visible\":true,\"zeroline\":false}}},\"xaxis\":{\"anchor\":\"y\",\"domain\":[0.0,1.0],\"title\":{\"text\":\"Date\"}},\"yaxis\":{\"anchor\":\"x\",\"domain\":[0.0,1.0],\"title\":{\"text\":\"Views\"}},\"legend\":{\"title\":{\"text\":\"Path\"},\"tracegroupgap\":0}},                        {\"responsive\": true}                    ).then(function(){\n",
       "                            \n",
       "var gd = document.getElementById('0affb8b7-35c5-47eb-8779-f8368f9c53fd');\n",
       "var x = new MutationObserver(function (mutations, observer) {{\n",
       "        var display = window.getComputedStyle(gd).display;\n",
       "        if (!display || display === 'none') {{\n",
       "            console.log([gd, 'removed!']);\n",
       "            Plotly.purge(gd);\n",
       "            observer.disconnect();\n",
       "        }}\n",
       "}});\n",
       "\n",
       "// Listen for the removal of the full notebook cells\n",
       "var notebookContainer = gd.closest('#notebook-container');\n",
       "if (notebookContainer) {{\n",
       "    x.observe(notebookContainer, {childList: true});\n",
       "}}\n",
       "\n",
       "// Listen for the clearing of the current output cell\n",
       "var outputEl = gd.closest('.output');\n",
       "if (outputEl) {{\n",
       "    x.observe(outputEl, {childList: true});\n",
       "}}\n",
       "\n",
       "                        })                };                });            </script>        </div>"
      ]
     },
     "metadata": {},
     "output_type": "display_data"
    }
   ],
   "source": [
    "vizro_ai = VizroAI()\n",
    "\n",
    "vizro_ai.plot(df, \"For each different Path, combine Views by Date. Draw a line graph with Views on the y axis and Date on x showing each Path in a different color\", explain=True)"
   ]
  },
  {
   "cell_type": "code",
   "execution_count": 36,
   "id": "20ca1590-cfb6-4e61-9d23-4b1c793ed81e",
   "metadata": {},
   "outputs": [
    {
     "name": "stderr",
     "output_type": "stream",
     "text": [
      "INFO:vizro_ai._vizro_ai:You have selected gpt-3.5-turbo-0613,Engaging with LLMs (Large Language Models) carries certain risks. Users are advised to become familiar with these risks to make informed decisions, and visit this page for detailed information: https://vizro-ai.readthedocs.io/en/latest/pages/explanation/disclaimer/\n",
      "INFO:httpx:HTTP Request: POST https://api.openai.com/v1/chat/completions \"HTTP/1.1 200 OK\"\n",
      "INFO:httpx:HTTP Request: POST https://api.openai.com/v1/chat/completions \"HTTP/1.1 200 OK\"\n",
      "INFO:httpx:HTTP Request: POST https://api.openai.com/v1/chat/completions \"HTTP/1.1 200 OK\"\n",
      "INFO:httpx:HTTP Request: POST https://api.openai.com/v1/chat/completions \"HTTP/1.1 200 OK\"\n",
      "INFO:httpx:HTTP Request: POST https://api.openai.com/v1/chat/completions \"HTTP/1.1 200 OK\"\n"
     ]
    },
    {
     "data": {
      "text/markdown": [
       "<h4>Insights:</h4>\n",
       "\n",
       "The line graph shows the combined views by date for each path for the 'stable' and 'latest' versions. Each path and version is represented by a different color. The y-axis represents the number of views, and the x-axis represents the date.\n",
       "<br><br><h4>Code:</h4>\n",
       "\n",
       "1. Filter the data frame to include only rows where the version is either 'stable' or 'latest'.\n",
       "2. Group the filtered data frame by date, path, and version, and calculate the sum of views for each group.\n",
       "3. Reset the index of the grouped data frame.\n",
       "4. Create a line graph using the grouped data frame, with 'Date' as the x-axis, 'Views' as the y-axis, 'Path' as the color, and 'Version' as the line group.\n",
       "<br>**This customized chart can be directly used in a Vizro dashboard.** \n",
       "Click [custom chart docs](https://vizro.readthedocs.io/en/stable/pages/user_guides/custom_charts/) for more information.\n",
       "```\n",
       "from vizro.models.types import capture\n",
       "import vizro.plotly.express as px\n",
       "import pandas as pd\n",
       "@capture('graph')\n",
       "def custom_chart(data_frame):\n",
       "    df_stable_latest = data_frame[data_frame['Version'].isin(['stable', 'latest'])]\n",
       "    combined_views = df_stable_latest.groupby(['Date', 'Path', 'Version'])['Views'].sum().reset_index()\n",
       "    df = combined_views.reset_index()\n",
       "\n",
       "    fig = px.line(df, x='Date', y='Views', color='Path', line_group='Version')\n",
       "    return fig\n",
       "\n",
       "fig = custom_chart(data_frame=df)\n",
       "```"
      ],
      "text/plain": [
       "<IPython.core.display.Markdown object>"
      ]
     },
     "metadata": {},
     "output_type": "display_data"
    },
    {
     "data": {
      "application/vnd.plotly.v1+json": {
       "config": {
        "plotlyServerURL": "https://plot.ly"
       },
       "data": [
        {
         "hovertemplate": "Path=/pages/about.html<br>Version=latest<br>Date=%{x}<br>Views=%{y}<extra></extra>",
         "legendgroup": "/pages/about.html",
         "line": {
          "color": "#00b4ff",
          "dash": "solid"
         },
         "marker": {
          "symbol": "circle"
         },
         "mode": "lines",
         "name": "/pages/about.html",
         "orientation": "v",
         "showlegend": true,
         "type": "scatter",
         "x": [
          "01/03/2023",
          "02/03/2023",
          "03/03/2023",
          "04/03/2023",
          "05/03/2023",
          "06/03/2023",
          "07/03/2023",
          "08/03/2023",
          "10/03/2023",
          "11/03/2023",
          "12/03/2023",
          "13/03/2023",
          "14/03/2023",
          "15/03/2023",
          "16/03/2023",
          "17/03/2023",
          "18/03/2023",
          "19/03/2023",
          "20/03/2023",
          "21/03/2023",
          "22/03/2023",
          "23/03/2023",
          "24/03/2023",
          "25/03/2023",
          "26/03/2023",
          "27/03/2023",
          "28/03/2023",
          "29/03/2023",
          "30/03/2023",
          "31/03/2023"
         ],
         "xaxis": "x",
         "y": [
          87773,
          28760,
          51590,
          74446,
          40937,
          57077,
          28625,
          97762,
          68804,
          98374,
          77099,
          93285,
          76998,
          49328,
          102719,
          26075,
          12679,
          70284,
          118224,
          23654,
          140141,
          56542,
          64235,
          78882,
          92682,
          29570,
          55962,
          107642,
          91766,
          1336
         ],
         "yaxis": "y"
        },
        {
         "hovertemplate": "Path=/pages/about.html<br>Version=stable<br>Date=%{x}<br>Views=%{y}<extra></extra>",
         "legendgroup": "/pages/about.html",
         "line": {
          "color": "#00b4ff",
          "dash": "solid"
         },
         "marker": {
          "symbol": "circle"
         },
         "mode": "lines",
         "name": "/pages/about.html",
         "orientation": "v",
         "showlegend": false,
         "type": "scatter",
         "x": [
          "01/03/2023",
          "02/03/2023",
          "03/03/2023",
          "04/03/2023",
          "05/03/2023",
          "06/03/2023",
          "08/03/2023",
          "09/03/2023",
          "10/03/2023",
          "11/03/2023",
          "13/03/2023",
          "14/03/2023",
          "15/03/2023",
          "16/03/2023",
          "17/03/2023",
          "18/03/2023",
          "19/03/2023",
          "20/03/2023",
          "21/03/2023",
          "22/03/2023",
          "23/03/2023",
          "24/03/2023",
          "25/03/2023",
          "26/03/2023",
          "27/03/2023",
          "28/03/2023",
          "29/03/2023",
          "30/03/2023",
          "31/03/2023"
         ],
         "xaxis": "x",
         "y": [
          74574,
          38224,
          114750,
          49299,
          10155,
          55909,
          39941,
          182795,
          48992,
          58970,
          94169,
          40620,
          85992,
          10984,
          55554,
          107867,
          19005,
          97885,
          124447,
          131233,
          61105,
          66991,
          53291,
          42505,
          98574,
          54728,
          29425,
          56900,
          60006
         ],
         "yaxis": "y"
        },
        {
         "hovertemplate": "Path=/pages/contact.html<br>Version=latest<br>Date=%{x}<br>Views=%{y}<extra></extra>",
         "legendgroup": "/pages/contact.html",
         "line": {
          "color": "#ff9222",
          "dash": "solid"
         },
         "marker": {
          "symbol": "circle"
         },
         "mode": "lines",
         "name": "/pages/contact.html",
         "orientation": "v",
         "showlegend": true,
         "type": "scatter",
         "x": [
          "01/03/2023",
          "02/03/2023",
          "03/03/2023",
          "04/03/2023",
          "05/03/2023",
          "06/03/2023",
          "07/03/2023",
          "08/03/2023",
          "09/03/2023",
          "10/03/2023",
          "11/03/2023",
          "12/03/2023",
          "13/03/2023",
          "14/03/2023",
          "15/03/2023",
          "16/03/2023",
          "17/03/2023",
          "18/03/2023",
          "19/03/2023",
          "20/03/2023",
          "21/03/2023",
          "22/03/2023",
          "23/03/2023",
          "24/03/2023",
          "25/03/2023",
          "26/03/2023",
          "27/03/2023",
          "28/03/2023",
          "29/03/2023",
          "30/03/2023",
          "31/03/2023"
         ],
         "xaxis": "x",
         "y": [
          24051,
          102926,
          61009,
          102742,
          52154,
          4472,
          64359,
          69361,
          90534,
          72968,
          80449,
          70309,
          21907,
          75716,
          22486,
          39236,
          63953,
          147722,
          29856,
          48166,
          50382,
          58526,
          64717,
          98347,
          48743,
          58537,
          62906,
          86455,
          100406,
          107251,
          49718
         ],
         "yaxis": "y"
        },
        {
         "hovertemplate": "Path=/pages/contact.html<br>Version=stable<br>Date=%{x}<br>Views=%{y}<extra></extra>",
         "legendgroup": "/pages/contact.html",
         "line": {
          "color": "#ff9222",
          "dash": "solid"
         },
         "marker": {
          "symbol": "circle"
         },
         "mode": "lines",
         "name": "/pages/contact.html",
         "orientation": "v",
         "showlegend": false,
         "type": "scatter",
         "x": [
          "01/03/2023",
          "02/03/2023",
          "05/03/2023",
          "06/03/2023",
          "07/03/2023",
          "08/03/2023",
          "09/03/2023",
          "10/03/2023",
          "11/03/2023",
          "12/03/2023",
          "13/03/2023",
          "14/03/2023",
          "15/03/2023",
          "16/03/2023",
          "17/03/2023",
          "18/03/2023",
          "19/03/2023",
          "20/03/2023",
          "21/03/2023",
          "22/03/2023",
          "23/03/2023",
          "24/03/2023",
          "25/03/2023",
          "26/03/2023",
          "27/03/2023",
          "28/03/2023",
          "29/03/2023",
          "31/03/2023"
         ],
         "xaxis": "x",
         "y": [
          70299,
          22837,
          60526,
          46872,
          92446,
          101403,
          89017,
          56124,
          24008,
          34670,
          48998,
          78269,
          18525,
          26315,
          55816,
          47252,
          86811,
          86931,
          36601,
          22386,
          93490,
          9249,
          61629,
          118443,
          16051,
          72404,
          124716,
          93503
         ],
         "yaxis": "y"
        },
        {
         "hovertemplate": "Path=/pages/features.html<br>Version=latest<br>Date=%{x}<br>Views=%{y}<extra></extra>",
         "legendgroup": "/pages/features.html",
         "line": {
          "color": "#3949ab",
          "dash": "solid"
         },
         "marker": {
          "symbol": "circle"
         },
         "mode": "lines",
         "name": "/pages/features.html",
         "orientation": "v",
         "showlegend": true,
         "type": "scatter",
         "x": [
          "01/03/2023",
          "02/03/2023",
          "03/03/2023",
          "04/03/2023",
          "05/03/2023",
          "06/03/2023",
          "07/03/2023",
          "08/03/2023",
          "09/03/2023",
          "10/03/2023",
          "11/03/2023",
          "12/03/2023",
          "13/03/2023",
          "14/03/2023",
          "15/03/2023",
          "16/03/2023",
          "17/03/2023",
          "18/03/2023",
          "19/03/2023",
          "21/03/2023",
          "22/03/2023",
          "23/03/2023",
          "24/03/2023",
          "25/03/2023",
          "26/03/2023",
          "27/03/2023",
          "28/03/2023",
          "29/03/2023",
          "30/03/2023",
          "31/03/2023"
         ],
         "xaxis": "x",
         "y": [
          60073,
          21369,
          152679,
          29221,
          68499,
          39406,
          10023,
          35849,
          87404,
          153720,
          58088,
          9660,
          20248,
          50115,
          143698,
          87356,
          10270,
          61465,
          68393,
          93167,
          29264,
          81245,
          88141,
          110685,
          155909,
          55953,
          95096,
          36026,
          126013,
          47214
         ],
         "yaxis": "y"
        },
        {
         "hovertemplate": "Path=/pages/features.html<br>Version=stable<br>Date=%{x}<br>Views=%{y}<extra></extra>",
         "legendgroup": "/pages/features.html",
         "line": {
          "color": "#3949ab",
          "dash": "solid"
         },
         "marker": {
          "symbol": "circle"
         },
         "mode": "lines",
         "name": "/pages/features.html",
         "orientation": "v",
         "showlegend": false,
         "type": "scatter",
         "x": [
          "01/03/2023",
          "02/03/2023",
          "03/03/2023",
          "04/03/2023",
          "06/03/2023",
          "07/03/2023",
          "08/03/2023",
          "09/03/2023",
          "10/03/2023",
          "11/03/2023",
          "12/03/2023",
          "13/03/2023",
          "14/03/2023",
          "15/03/2023",
          "16/03/2023",
          "17/03/2023",
          "19/03/2023",
          "20/03/2023",
          "21/03/2023",
          "22/03/2023",
          "23/03/2023",
          "24/03/2023",
          "25/03/2023",
          "26/03/2023",
          "27/03/2023",
          "28/03/2023",
          "29/03/2023",
          "30/03/2023",
          "31/03/2023"
         ],
         "xaxis": "x",
         "y": [
          42143,
          78167,
          50848,
          67735,
          68776,
          49776,
          146228,
          2286,
          144432,
          54140,
          77228,
          8244,
          46127,
          126735,
          38862,
          40720,
          27151,
          82362,
          102012,
          70704,
          12268,
          78197,
          66129,
          89326,
          57622,
          78409,
          29585,
          19105,
          30007
         ],
         "yaxis": "y"
        },
        {
         "hovertemplate": "Path=/pages/index.html<br>Version=latest<br>Date=%{x}<br>Views=%{y}<extra></extra>",
         "legendgroup": "/pages/index.html",
         "line": {
          "color": "#ff5267",
          "dash": "solid"
         },
         "marker": {
          "symbol": "circle"
         },
         "mode": "lines",
         "name": "/pages/index.html",
         "orientation": "v",
         "showlegend": true,
         "type": "scatter",
         "x": [
          "01/03/2023",
          "02/03/2023",
          "03/03/2023",
          "04/03/2023",
          "05/03/2023",
          "06/03/2023",
          "08/03/2023",
          "09/03/2023",
          "10/03/2023",
          "11/03/2023",
          "12/03/2023",
          "13/03/2023",
          "15/03/2023",
          "16/03/2023",
          "17/03/2023",
          "18/03/2023",
          "19/03/2023",
          "20/03/2023",
          "21/03/2023",
          "22/03/2023",
          "23/03/2023",
          "24/03/2023",
          "25/03/2023",
          "26/03/2023",
          "27/03/2023",
          "28/03/2023",
          "29/03/2023",
          "31/03/2023"
         ],
         "xaxis": "x",
         "y": [
          131870,
          90305,
          112216,
          70857,
          92749,
          16769,
          107552,
          139056,
          19373,
          9139,
          72035,
          124989,
          25354,
          16871,
          33367,
          118094,
          115278,
          44318,
          100030,
          32650,
          28546,
          55977,
          40406,
          140355,
          80513,
          75093,
          102710,
          86286
         ],
         "yaxis": "y"
        },
        {
         "hovertemplate": "Path=/pages/index.html<br>Version=stable<br>Date=%{x}<br>Views=%{y}<extra></extra>",
         "legendgroup": "/pages/index.html",
         "line": {
          "color": "#ff5267",
          "dash": "solid"
         },
         "marker": {
          "symbol": "circle"
         },
         "mode": "lines",
         "name": "/pages/index.html",
         "orientation": "v",
         "showlegend": false,
         "type": "scatter",
         "x": [
          "01/03/2023",
          "02/03/2023",
          "03/03/2023",
          "04/03/2023",
          "05/03/2023",
          "06/03/2023",
          "07/03/2023",
          "08/03/2023",
          "09/03/2023",
          "10/03/2023",
          "11/03/2023",
          "12/03/2023",
          "14/03/2023",
          "15/03/2023",
          "16/03/2023",
          "17/03/2023",
          "18/03/2023",
          "19/03/2023",
          "20/03/2023",
          "21/03/2023",
          "22/03/2023",
          "23/03/2023",
          "24/03/2023",
          "25/03/2023",
          "26/03/2023",
          "27/03/2023",
          "28/03/2023",
          "29/03/2023",
          "30/03/2023",
          "31/03/2023"
         ],
         "xaxis": "x",
         "y": [
          187607,
          35920,
          22937,
          26750,
          53733,
          13745,
          69926,
          87803,
          29186,
          23676,
          6031,
          124870,
          109825,
          100907,
          69795,
          46116,
          114081,
          76335,
          72612,
          11468,
          73436,
          26295,
          47074,
          25261,
          150411,
          18548,
          47146,
          37963,
          158737,
          56155
         ],
         "yaxis": "y"
        },
        {
         "hovertemplate": "Path=/pages/pricing.html<br>Version=latest<br>Date=%{x}<br>Views=%{y}<extra></extra>",
         "legendgroup": "/pages/pricing.html",
         "line": {
          "color": "#08bdba",
          "dash": "solid"
         },
         "marker": {
          "symbol": "circle"
         },
         "mode": "lines",
         "name": "/pages/pricing.html",
         "orientation": "v",
         "showlegend": true,
         "type": "scatter",
         "x": [
          "01/03/2023",
          "02/03/2023",
          "03/03/2023",
          "04/03/2023",
          "05/03/2023",
          "06/03/2023",
          "07/03/2023",
          "08/03/2023",
          "09/03/2023",
          "10/03/2023",
          "11/03/2023",
          "12/03/2023",
          "13/03/2023",
          "14/03/2023",
          "15/03/2023",
          "16/03/2023",
          "17/03/2023",
          "18/03/2023",
          "19/03/2023",
          "20/03/2023",
          "21/03/2023",
          "22/03/2023",
          "23/03/2023",
          "24/03/2023",
          "25/03/2023",
          "26/03/2023",
          "27/03/2023",
          "28/03/2023",
          "29/03/2023",
          "30/03/2023",
          "31/03/2023"
         ],
         "xaxis": "x",
         "y": [
          86550,
          97628,
          75061,
          43813,
          29210,
          61546,
          23148,
          104849,
          60927,
          27168,
          65935,
          76503,
          54282,
          41679,
          42240,
          10676,
          142910,
          56859,
          60260,
          84666,
          43984,
          61393,
          65911,
          84979,
          97878,
          36375,
          18715,
          18129,
          99343,
          106269,
          61633
         ],
         "yaxis": "y"
        },
        {
         "hovertemplate": "Path=/pages/pricing.html<br>Version=stable<br>Date=%{x}<br>Views=%{y}<extra></extra>",
         "legendgroup": "/pages/pricing.html",
         "line": {
          "color": "#08bdba",
          "dash": "solid"
         },
         "marker": {
          "symbol": "circle"
         },
         "mode": "lines",
         "name": "/pages/pricing.html",
         "orientation": "v",
         "showlegend": false,
         "type": "scatter",
         "x": [
          "01/03/2023",
          "02/03/2023",
          "03/03/2023",
          "04/03/2023",
          "05/03/2023",
          "06/03/2023",
          "07/03/2023",
          "08/03/2023",
          "09/03/2023",
          "10/03/2023",
          "11/03/2023",
          "13/03/2023",
          "14/03/2023",
          "15/03/2023",
          "16/03/2023",
          "17/03/2023",
          "18/03/2023",
          "19/03/2023",
          "20/03/2023",
          "21/03/2023",
          "22/03/2023",
          "23/03/2023",
          "24/03/2023",
          "25/03/2023",
          "26/03/2023",
          "27/03/2023",
          "28/03/2023",
          "29/03/2023",
          "30/03/2023",
          "31/03/2023"
         ],
         "xaxis": "x",
         "y": [
          101687,
          28609,
          52417,
          155799,
          37662,
          69998,
          58657,
          40491,
          146416,
          81042,
          61717,
          127986,
          99597,
          106884,
          87303,
          95472,
          148687,
          50427,
          95998,
          94750,
          93713,
          89666,
          75933,
          151794,
          35259,
          78270,
          82139,
          119983,
          135438,
          23861
         ],
         "yaxis": "y"
        }
       ],
       "layout": {
        "autosize": true,
        "legend": {
         "title": {
          "text": "Path"
         },
         "tracegroupgap": 0
        },
        "template": {
         "data": {
          "bar": [
           {
            "marker": {
             "line": {
              "color": "#141721",
              "width": 1
             }
            },
            "textfont": {
             "color": "rgba(255,255,255,0.55)"
            },
            "type": "bar"
           }
          ],
          "table": [
           {
            "cells": {
             "align": "left",
             "fill": {
              "color": "#141721"
             },
             "font": {
              "color": "rgba(255,255,255,0.55)",
              "size": 14
             },
             "height": 32,
             "line": {
              "color": "rgba(255,255,255,0.10)"
             }
            },
            "header": {
             "align": "left",
             "fill": {
              "color": "#141721"
             },
             "font": {
              "color": "rgba(255,255,255,0.85)",
              "size": 14
             },
             "height": 32,
             "line": {
              "color": "rgba(255,255,255,0.10)"
             }
            },
            "type": "table"
           }
          ],
          "waterfall": [
           {
            "connector": {
             "line": {
              "color": "rgba(255,255,255,0.30)",
              "width": 1
             }
            },
            "decreasing": {
             "marker": {
              "color": "#ff9222"
             }
            },
            "increasing": {
             "marker": {
              "color": "#00b4ff"
             }
            },
            "textfont": {
             "color": "rgba(255,255,255,0.85)"
            },
            "textposition": "outside",
            "totals": {
             "marker": {
              "color": "#747F88"
             }
            },
            "type": "waterfall"
           }
          ]
         },
         "layout": {
          "annotationdefaults": {
           "font": {
            "color": "rgba(255,255,255,0.85)",
            "size": 14
           },
           "showarrow": false
          },
          "bargroupgap": 0.1,
          "coloraxis": {
           "colorbar": {
            "outlinewidth": 0,
            "showticklabels": true,
            "thickness": 20,
            "tickcolor": "rgba(255,255,255,0.30)",
            "tickfont": {
             "color": "rgba(255,255,255,0.55)",
             "family": "Inter, sans-serif, Arial",
             "size": 14
            },
            "ticklabelposition": "outside",
            "ticklen": 8,
            "ticks": "outside",
            "tickwidth": 1,
            "title": {
             "font": {
              "color": "rgba(255,255,255,0.55)",
              "family": "Inter, sans-serif, Arial",
              "size": 14
             }
            }
           }
          },
          "colorscale": {
           "diverging": [
            [
             0,
             "#003875"
            ],
            [
             0.05555555555555555,
             "#004c8c"
            ],
            [
             0.1111111111111111,
             "#0061a4"
            ],
            [
             0.16666666666666666,
             "#0077bd"
            ],
            [
             0.2222222222222222,
             "#0d8ed1"
            ],
            [
             0.2777777777777778,
             "#24a6e1"
            ],
            [
             0.3333333333333333,
             "#3bbef1"
            ],
            [
             0.3888888888888889,
             "#5bd6fe"
            ],
            [
             0.4444444444444444,
             "#afe7f9"
            ],
            [
             0.5,
             "#E6E8EA"
            ],
            [
             0.5555555555555556,
             "#f8d6da"
            ],
            [
             0.6111111111111112,
             "#fbb6be"
            ],
            [
             0.6666666666666666,
             "#fe94a0"
            ],
            [
             0.7222222222222222,
             "#f67486"
            ],
            [
             0.7777777777777778,
             "#ea536b"
            ],
            [
             0.8333333333333334,
             "#db2f4c"
            ],
            [
             0.8888888888888888,
             "#bc1f37"
            ],
            [
             0.9444444444444444,
             "#9d1021"
            ],
            [
             1,
             "#7e000c"
            ]
           ],
           "sequential": [
            [
             0,
             "#7e000c"
            ],
            [
             0.05555555555555555,
             "#9d1021"
            ],
            [
             0.1111111111111111,
             "#bc1f37"
            ],
            [
             0.16666666666666666,
             "#db2f4c"
            ],
            [
             0.2222222222222222,
             "#ea536b"
            ],
            [
             0.2777777777777778,
             "#f67486"
            ],
            [
             0.3333333333333333,
             "#fe94a0"
            ],
            [
             0.3888888888888889,
             "#fbb6be"
            ],
            [
             0.4444444444444444,
             "#f8d6da"
            ],
            [
             0.5,
             "#E6E8EA"
            ],
            [
             0.5555555555555556,
             "#afe7f9"
            ],
            [
             0.6111111111111112,
             "#5bd6fe"
            ],
            [
             0.6666666666666666,
             "#3bbef1"
            ],
            [
             0.7222222222222222,
             "#24a6e1"
            ],
            [
             0.7777777777777778,
             "#0d8ed1"
            ],
            [
             0.8333333333333334,
             "#0077bd"
            ],
            [
             0.8888888888888888,
             "#0061a4"
            ],
            [
             0.9444444444444444,
             "#004c8c"
            ],
            [
             1,
             "#003875"
            ]
           ],
           "sequentialminus": [
            [
             0,
             "#7e000c"
            ],
            [
             0.125,
             "#9d1021"
            ],
            [
             0.25,
             "#bc1f37"
            ],
            [
             0.375,
             "#db2f4c"
            ],
            [
             0.5,
             "#ea536b"
            ],
            [
             0.625,
             "#f67486"
            ],
            [
             0.75,
             "#fe94a0"
            ],
            [
             0.875,
             "#fbb6be"
            ],
            [
             1,
             "#f8d6da"
            ]
           ]
          },
          "colorway": [
           "#00b4ff",
           "#ff9222",
           "#3949ab",
           "#ff5267",
           "#08bdba",
           "#fdc935",
           "#689f38",
           "#976fd1",
           "#f781bf",
           "#52733e"
          ],
          "font": {
           "color": "rgba(255,255,255,0.85)",
           "family": "Inter, sans-serif, Arial",
           "size": 14
          },
          "geo": {
           "bgcolor": "#141721",
           "lakecolor": "#141721",
           "landcolor": "#141721"
          },
          "legend": {
           "bgcolor": "rgba(0, 0, 0, 0)",
           "font": {
            "color": "rgba(255,255,255,0.85)",
            "family": "Inter, sans-serif, Arial",
            "size": 14
           },
           "orientation": "h",
           "title": {
            "font": {
             "color": "rgba(255,255,255,0.85)",
             "family": "Inter, sans-serif, Arial",
             "size": 14
            },
            "text": ""
           },
           "y": -0.2
          },
          "mapbox": {
           "style": "carto-darkmatter"
          },
          "margin": {
           "autoexpand": true,
           "b": 64,
           "l": 80,
           "pad": 0,
           "r": 12,
           "t": 64
          },
          "paper_bgcolor": "#141721",
          "plot_bgcolor": "#141721",
          "polar": {
           "angularaxis": {
            "gridcolor": "rgba(255,255,255,0.10)",
            "linecolor": "rgba(255,255,255,0.30)"
           },
           "bgcolor": "#141721",
           "radialaxis": {
            "gridcolor": "rgba(255,255,255,0.10)",
            "linecolor": "rgba(255,255,255,0.30)"
           }
          },
          "showlegend": true,
          "ternary": {
           "aaxis": {
            "gridcolor": "rgba(255,255,255,0.10)",
            "linecolor": "rgba(255,255,255,0.30)"
           },
           "baxis": {
            "gridcolor": "rgba(255,255,255,0.10)",
            "linecolor": "rgba(255,255,255,0.30)"
           },
           "bgcolor": "#141721",
           "caxis": {
            "gridcolor": "rgba(255,255,255,0.10)",
            "linecolor": "rgba(255,255,255,0.30)"
           }
          },
          "title": {
           "font": {
            "color": "rgba(255,255,255,0.85)",
            "family": "Inter, sans-serif, Arial",
            "size": 20
           },
           "pad": {
            "b": 0,
            "l": 80,
            "r": 0,
            "t": 24
           },
           "x": 0,
           "xanchor": "left",
           "xref": "container",
           "y": 1,
           "yanchor": "top",
           "yref": "container"
          },
          "uniformtext": {
           "minsize": 12,
           "mode": "hide"
          },
          "xaxis": {
           "automargin": true,
           "gridcolor": "rgba(255,255,255,0.10)",
           "layer": "below traces",
           "linecolor": "rgba(255,255,255,0.30)",
           "linewidth": 1,
           "showline": true,
           "showticklabels": true,
           "tickcolor": "rgba(255,255,255,0.30)",
           "tickfont": {
            "color": "rgba(255,255,255,0.55)",
            "family": "Inter, sans-serif, Arial",
            "size": 14
           },
           "ticklabelposition": "outside",
           "ticklen": 8,
           "ticks": "outside",
           "tickwidth": 1,
           "title": {
            "font": {
             "color": "rgba(255,255,255,0.85)",
             "family": "Inter, sans-serif, Arial",
             "size": 16
            },
            "standoff": 8
           },
           "visible": true,
           "zeroline": false
          },
          "yaxis": {
           "automargin": true,
           "gridcolor": "rgba(255,255,255,0.10)",
           "layer": "below traces",
           "linecolor": "rgba(255,255,255,0.30)",
           "linewidth": 1,
           "showline": false,
           "showticklabels": true,
           "tickcolor": "rgba(255,255,255,0.30)",
           "tickfont": {
            "color": "rgba(255,255,255,0.55)",
            "family": "Inter, sans-serif, Arial",
            "size": 14
           },
           "ticklabelposition": "outside",
           "ticklen": 8,
           "ticks": "outside",
           "tickwidth": 1,
           "title": {
            "font": {
             "color": "rgba(255,255,255,0.85)",
             "family": "Inter, sans-serif, Arial",
             "size": 16
            },
            "standoff": 8
           },
           "visible": true,
           "zeroline": false
          }
         }
        },
        "xaxis": {
         "anchor": "y",
         "autorange": false,
         "domain": [
          0,
          1
         ],
         "range": [
          -15,
          45
         ],
         "title": {
          "text": "Date"
         },
         "type": "category"
        },
        "yaxis": {
         "anchor": "x",
         "autorange": false,
         "domain": [
          0,
          1
         ],
         "range": [
          -112496.27777777777,
          301439.27777777775
         ],
         "title": {
          "text": "Views"
         },
         "type": "linear"
        }
       }
      },
      "image/png": "[encoded data removed]",
      "text/html": [
       "<div>                            <div id=\"57da41d1-4dc7-48f4-a446-ded306dae2bc\" class=\"plotly-graph-div\" style=\"height:525px; width:100%;\"></div>            <script type=\"text/javascript\">                require([\"plotly\"], function(Plotly) {                    window.PLOTLYENV=window.PLOTLYENV || {};                                    if (document.getElementById(\"57da41d1-4dc7-48f4-a446-ded306dae2bc\")) {                    Plotly.newPlot(                        \"57da41d1-4dc7-48f4-a446-ded306dae2bc\",                        [{\"hovertemplate\":\"Path=\\u002fpages\\u002fabout.html\\u003cbr\\u003eVersion=latest\\u003cbr\\u003eDate=%{x}\\u003cbr\\u003eViews=%{y}\\u003cextra\\u003e\\u003c\\u002fextra\\u003e\",\"legendgroup\":\"\\u002fpages\\u002fabout.html\",\"line\":{\"color\":\"#00b4ff\",\"dash\":\"solid\"},\"marker\":{\"symbol\":\"circle\"},\"mode\":\"lines\",\"name\":\"\\u002fpages\\u002fabout.html\",\"orientation\":\"v\",\"showlegend\":true,\"x\":[\"01\\u002f03\\u002f2023\",\"02\\u002f03\\u002f2023\",\"03\\u002f03\\u002f2023\",\"04\\u002f03\\u002f2023\",\"05\\u002f03\\u002f2023\",\"06\\u002f03\\u002f2023\",\"07\\u002f03\\u002f2023\",\"08\\u002f03\\u002f2023\",\"10\\u002f03\\u002f2023\",\"11\\u002f03\\u002f2023\",\"12\\u002f03\\u002f2023\",\"13\\u002f03\\u002f2023\",\"14\\u002f03\\u002f2023\",\"15\\u002f03\\u002f2023\",\"16\\u002f03\\u002f2023\",\"17\\u002f03\\u002f2023\",\"18\\u002f03\\u002f2023\",\"19\\u002f03\\u002f2023\",\"20\\u002f03\\u002f2023\",\"21\\u002f03\\u002f2023\",\"22\\u002f03\\u002f2023\",\"23\\u002f03\\u002f2023\",\"24\\u002f03\\u002f2023\",\"25\\u002f03\\u002f2023\",\"26\\u002f03\\u002f2023\",\"27\\u002f03\\u002f2023\",\"28\\u002f03\\u002f2023\",\"29\\u002f03\\u002f2023\",\"30\\u002f03\\u002f2023\",\"31\\u002f03\\u002f2023\"],\"xaxis\":\"x\",\"y\":[87773,28760,51590,74446,40937,57077,28625,97762,68804,98374,77099,93285,76998,49328,102719,26075,12679,70284,118224,23654,140141,56542,64235,78882,92682,29570,55962,107642,91766,1336],\"yaxis\":\"y\",\"type\":\"scatter\"},{\"hovertemplate\":\"Path=\\u002fpages\\u002fabout.html\\u003cbr\\u003eVersion=stable\\u003cbr\\u003eDate=%{x}\\u003cbr\\u003eViews=%{y}\\u003cextra\\u003e\\u003c\\u002fextra\\u003e\",\"legendgroup\":\"\\u002fpages\\u002fabout.html\",\"line\":{\"color\":\"#00b4ff\",\"dash\":\"solid\"},\"marker\":{\"symbol\":\"circle\"},\"mode\":\"lines\",\"name\":\"\\u002fpages\\u002fabout.html\",\"orientation\":\"v\",\"showlegend\":false,\"x\":[\"01\\u002f03\\u002f2023\",\"02\\u002f03\\u002f2023\",\"03\\u002f03\\u002f2023\",\"04\\u002f03\\u002f2023\",\"05\\u002f03\\u002f2023\",\"06\\u002f03\\u002f2023\",\"08\\u002f03\\u002f2023\",\"09\\u002f03\\u002f2023\",\"10\\u002f03\\u002f2023\",\"11\\u002f03\\u002f2023\",\"13\\u002f03\\u002f2023\",\"14\\u002f03\\u002f2023\",\"15\\u002f03\\u002f2023\",\"16\\u002f03\\u002f2023\",\"17\\u002f03\\u002f2023\",\"18\\u002f03\\u002f2023\",\"19\\u002f03\\u002f2023\",\"20\\u002f03\\u002f2023\",\"21\\u002f03\\u002f2023\",\"22\\u002f03\\u002f2023\",\"23\\u002f03\\u002f2023\",\"24\\u002f03\\u002f2023\",\"25\\u002f03\\u002f2023\",\"26\\u002f03\\u002f2023\",\"27\\u002f03\\u002f2023\",\"28\\u002f03\\u002f2023\",\"29\\u002f03\\u002f2023\",\"30\\u002f03\\u002f2023\",\"31\\u002f03\\u002f2023\"],\"xaxis\":\"x\",\"y\":[74574,38224,114750,49299,10155,55909,39941,182795,48992,58970,94169,40620,85992,10984,55554,107867,19005,97885,124447,131233,61105,66991,53291,42505,98574,54728,29425,56900,60006],\"yaxis\":\"y\",\"type\":\"scatter\"},{\"hovertemplate\":\"Path=\\u002fpages\\u002fcontact.html\\u003cbr\\u003eVersion=latest\\u003cbr\\u003eDate=%{x}\\u003cbr\\u003eViews=%{y}\\u003cextra\\u003e\\u003c\\u002fextra\\u003e\",\"legendgroup\":\"\\u002fpages\\u002fcontact.html\",\"line\":{\"color\":\"#ff9222\",\"dash\":\"solid\"},\"marker\":{\"symbol\":\"circle\"},\"mode\":\"lines\",\"name\":\"\\u002fpages\\u002fcontact.html\",\"orientation\":\"v\",\"showlegend\":true,\"x\":[\"01\\u002f03\\u002f2023\",\"02\\u002f03\\u002f2023\",\"03\\u002f03\\u002f2023\",\"04\\u002f03\\u002f2023\",\"05\\u002f03\\u002f2023\",\"06\\u002f03\\u002f2023\",\"07\\u002f03\\u002f2023\",\"08\\u002f03\\u002f2023\",\"09\\u002f03\\u002f2023\",\"10\\u002f03\\u002f2023\",\"11\\u002f03\\u002f2023\",\"12\\u002f03\\u002f2023\",\"13\\u002f03\\u002f2023\",\"14\\u002f03\\u002f2023\",\"15\\u002f03\\u002f2023\",\"16\\u002f03\\u002f2023\",\"17\\u002f03\\u002f2023\",\"18\\u002f03\\u002f2023\",\"19\\u002f03\\u002f2023\",\"20\\u002f03\\u002f2023\",\"21\\u002f03\\u002f2023\",\"22\\u002f03\\u002f2023\",\"23\\u002f03\\u002f2023\",\"24\\u002f03\\u002f2023\",\"25\\u002f03\\u002f2023\",\"26\\u002f03\\u002f2023\",\"27\\u002f03\\u002f2023\",\"28\\u002f03\\u002f2023\",\"29\\u002f03\\u002f2023\",\"30\\u002f03\\u002f2023\",\"31\\u002f03\\u002f2023\"],\"xaxis\":\"x\",\"y\":[24051,102926,61009,102742,52154,4472,64359,69361,90534,72968,80449,70309,21907,75716,22486,39236,63953,147722,29856,48166,50382,58526,64717,98347,48743,58537,62906,86455,100406,107251,49718],\"yaxis\":\"y\",\"type\":\"scatter\"},{\"hovertemplate\":\"Path=\\u002fpages\\u002fcontact.html\\u003cbr\\u003eVersion=stable\\u003cbr\\u003eDate=%{x}\\u003cbr\\u003eViews=%{y}\\u003cextra\\u003e\\u003c\\u002fextra\\u003e\",\"legendgroup\":\"\\u002fpages\\u002fcontact.html\",\"line\":{\"color\":\"#ff9222\",\"dash\":\"solid\"},\"marker\":{\"symbol\":\"circle\"},\"mode\":\"lines\",\"name\":\"\\u002fpages\\u002fcontact.html\",\"orientation\":\"v\",\"showlegend\":false,\"x\":[\"01\\u002f03\\u002f2023\",\"02\\u002f03\\u002f2023\",\"05\\u002f03\\u002f2023\",\"06\\u002f03\\u002f2023\",\"07\\u002f03\\u002f2023\",\"08\\u002f03\\u002f2023\",\"09\\u002f03\\u002f2023\",\"10\\u002f03\\u002f2023\",\"11\\u002f03\\u002f2023\",\"12\\u002f03\\u002f2023\",\"13\\u002f03\\u002f2023\",\"14\\u002f03\\u002f2023\",\"15\\u002f03\\u002f2023\",\"16\\u002f03\\u002f2023\",\"17\\u002f03\\u002f2023\",\"18\\u002f03\\u002f2023\",\"19\\u002f03\\u002f2023\",\"20\\u002f03\\u002f2023\",\"21\\u002f03\\u002f2023\",\"22\\u002f03\\u002f2023\",\"23\\u002f03\\u002f2023\",\"24\\u002f03\\u002f2023\",\"25\\u002f03\\u002f2023\",\"26\\u002f03\\u002f2023\",\"27\\u002f03\\u002f2023\",\"28\\u002f03\\u002f2023\",\"29\\u002f03\\u002f2023\",\"31\\u002f03\\u002f2023\"],\"xaxis\":\"x\",\"y\":[70299,22837,60526,46872,92446,101403,89017,56124,24008,34670,48998,78269,18525,26315,55816,47252,86811,86931,36601,22386,93490,9249,61629,118443,16051,72404,124716,93503],\"yaxis\":\"y\",\"type\":\"scatter\"},{\"hovertemplate\":\"Path=\\u002fpages\\u002ffeatures.html\\u003cbr\\u003eVersion=latest\\u003cbr\\u003eDate=%{x}\\u003cbr\\u003eViews=%{y}\\u003cextra\\u003e\\u003c\\u002fextra\\u003e\",\"legendgroup\":\"\\u002fpages\\u002ffeatures.html\",\"line\":{\"color\":\"#3949ab\",\"dash\":\"solid\"},\"marker\":{\"symbol\":\"circle\"},\"mode\":\"lines\",\"name\":\"\\u002fpages\\u002ffeatures.html\",\"orientation\":\"v\",\"showlegend\":true,\"x\":[\"01\\u002f03\\u002f2023\",\"02\\u002f03\\u002f2023\",\"03\\u002f03\\u002f2023\",\"04\\u002f03\\u002f2023\",\"05\\u002f03\\u002f2023\",\"06\\u002f03\\u002f2023\",\"07\\u002f03\\u002f2023\",\"08\\u002f03\\u002f2023\",\"09\\u002f03\\u002f2023\",\"10\\u002f03\\u002f2023\",\"11\\u002f03\\u002f2023\",\"12\\u002f03\\u002f2023\",\"13\\u002f03\\u002f2023\",\"14\\u002f03\\u002f2023\",\"15\\u002f03\\u002f2023\",\"16\\u002f03\\u002f2023\",\"17\\u002f03\\u002f2023\",\"18\\u002f03\\u002f2023\",\"19\\u002f03\\u002f2023\",\"21\\u002f03\\u002f2023\",\"22\\u002f03\\u002f2023\",\"23\\u002f03\\u002f2023\",\"24\\u002f03\\u002f2023\",\"25\\u002f03\\u002f2023\",\"26\\u002f03\\u002f2023\",\"27\\u002f03\\u002f2023\",\"28\\u002f03\\u002f2023\",\"29\\u002f03\\u002f2023\",\"30\\u002f03\\u002f2023\",\"31\\u002f03\\u002f2023\"],\"xaxis\":\"x\",\"y\":[60073,21369,152679,29221,68499,39406,10023,35849,87404,153720,58088,9660,20248,50115,143698,87356,10270,61465,68393,93167,29264,81245,88141,110685,155909,55953,95096,36026,126013,47214],\"yaxis\":\"y\",\"type\":\"scatter\"},{\"hovertemplate\":\"Path=\\u002fpages\\u002ffeatures.html\\u003cbr\\u003eVersion=stable\\u003cbr\\u003eDate=%{x}\\u003cbr\\u003eViews=%{y}\\u003cextra\\u003e\\u003c\\u002fextra\\u003e\",\"legendgroup\":\"\\u002fpages\\u002ffeatures.html\",\"line\":{\"color\":\"#3949ab\",\"dash\":\"solid\"},\"marker\":{\"symbol\":\"circle\"},\"mode\":\"lines\",\"name\":\"\\u002fpages\\u002ffeatures.html\",\"orientation\":\"v\",\"showlegend\":false,\"x\":[\"01\\u002f03\\u002f2023\",\"02\\u002f03\\u002f2023\",\"03\\u002f03\\u002f2023\",\"04\\u002f03\\u002f2023\",\"06\\u002f03\\u002f2023\",\"07\\u002f03\\u002f2023\",\"08\\u002f03\\u002f2023\",\"09\\u002f03\\u002f2023\",\"10\\u002f03\\u002f2023\",\"11\\u002f03\\u002f2023\",\"12\\u002f03\\u002f2023\",\"13\\u002f03\\u002f2023\",\"14\\u002f03\\u002f2023\",\"15\\u002f03\\u002f2023\",\"16\\u002f03\\u002f2023\",\"17\\u002f03\\u002f2023\",\"19\\u002f03\\u002f2023\",\"20\\u002f03\\u002f2023\",\"21\\u002f03\\u002f2023\",\"22\\u002f03\\u002f2023\",\"23\\u002f03\\u002f2023\",\"24\\u002f03\\u002f2023\",\"25\\u002f03\\u002f2023\",\"26\\u002f03\\u002f2023\",\"27\\u002f03\\u002f2023\",\"28\\u002f03\\u002f2023\",\"29\\u002f03\\u002f2023\",\"30\\u002f03\\u002f2023\",\"31\\u002f03\\u002f2023\"],\"xaxis\":\"x\",\"y\":[42143,78167,50848,67735,68776,49776,146228,2286,144432,54140,77228,8244,46127,126735,38862,40720,27151,82362,102012,70704,12268,78197,66129,89326,57622,78409,29585,19105,30007],\"yaxis\":\"y\",\"type\":\"scatter\"},{\"hovertemplate\":\"Path=\\u002fpages\\u002findex.html\\u003cbr\\u003eVersion=latest\\u003cbr\\u003eDate=%{x}\\u003cbr\\u003eViews=%{y}\\u003cextra\\u003e\\u003c\\u002fextra\\u003e\",\"legendgroup\":\"\\u002fpages\\u002findex.html\",\"line\":{\"color\":\"#ff5267\",\"dash\":\"solid\"},\"marker\":{\"symbol\":\"circle\"},\"mode\":\"lines\",\"name\":\"\\u002fpages\\u002findex.html\",\"orientation\":\"v\",\"showlegend\":true,\"x\":[\"01\\u002f03\\u002f2023\",\"02\\u002f03\\u002f2023\",\"03\\u002f03\\u002f2023\",\"04\\u002f03\\u002f2023\",\"05\\u002f03\\u002f2023\",\"06\\u002f03\\u002f2023\",\"08\\u002f03\\u002f2023\",\"09\\u002f03\\u002f2023\",\"10\\u002f03\\u002f2023\",\"11\\u002f03\\u002f2023\",\"12\\u002f03\\u002f2023\",\"13\\u002f03\\u002f2023\",\"15\\u002f03\\u002f2023\",\"16\\u002f03\\u002f2023\",\"17\\u002f03\\u002f2023\",\"18\\u002f03\\u002f2023\",\"19\\u002f03\\u002f2023\",\"20\\u002f03\\u002f2023\",\"21\\u002f03\\u002f2023\",\"22\\u002f03\\u002f2023\",\"23\\u002f03\\u002f2023\",\"24\\u002f03\\u002f2023\",\"25\\u002f03\\u002f2023\",\"26\\u002f03\\u002f2023\",\"27\\u002f03\\u002f2023\",\"28\\u002f03\\u002f2023\",\"29\\u002f03\\u002f2023\",\"31\\u002f03\\u002f2023\"],\"xaxis\":\"x\",\"y\":[131870,90305,112216,70857,92749,16769,107552,139056,19373,9139,72035,124989,25354,16871,33367,118094,115278,44318,100030,32650,28546,55977,40406,140355,80513,75093,102710,86286],\"yaxis\":\"y\",\"type\":\"scatter\"},{\"hovertemplate\":\"Path=\\u002fpages\\u002findex.html\\u003cbr\\u003eVersion=stable\\u003cbr\\u003eDate=%{x}\\u003cbr\\u003eViews=%{y}\\u003cextra\\u003e\\u003c\\u002fextra\\u003e\",\"legendgroup\":\"\\u002fpages\\u002findex.html\",\"line\":{\"color\":\"#ff5267\",\"dash\":\"solid\"},\"marker\":{\"symbol\":\"circle\"},\"mode\":\"lines\",\"name\":\"\\u002fpages\\u002findex.html\",\"orientation\":\"v\",\"showlegend\":false,\"x\":[\"01\\u002f03\\u002f2023\",\"02\\u002f03\\u002f2023\",\"03\\u002f03\\u002f2023\",\"04\\u002f03\\u002f2023\",\"05\\u002f03\\u002f2023\",\"06\\u002f03\\u002f2023\",\"07\\u002f03\\u002f2023\",\"08\\u002f03\\u002f2023\",\"09\\u002f03\\u002f2023\",\"10\\u002f03\\u002f2023\",\"11\\u002f03\\u002f2023\",\"12\\u002f03\\u002f2023\",\"14\\u002f03\\u002f2023\",\"15\\u002f03\\u002f2023\",\"16\\u002f03\\u002f2023\",\"17\\u002f03\\u002f2023\",\"18\\u002f03\\u002f2023\",\"19\\u002f03\\u002f2023\",\"20\\u002f03\\u002f2023\",\"21\\u002f03\\u002f2023\",\"22\\u002f03\\u002f2023\",\"23\\u002f03\\u002f2023\",\"24\\u002f03\\u002f2023\",\"25\\u002f03\\u002f2023\",\"26\\u002f03\\u002f2023\",\"27\\u002f03\\u002f2023\",\"28\\u002f03\\u002f2023\",\"29\\u002f03\\u002f2023\",\"30\\u002f03\\u002f2023\",\"31\\u002f03\\u002f2023\"],\"xaxis\":\"x\",\"y\":[187607,35920,22937,26750,53733,13745,69926,87803,29186,23676,6031,124870,109825,100907,69795,46116,114081,76335,72612,11468,73436,26295,47074,25261,150411,18548,47146,37963,158737,56155],\"yaxis\":\"y\",\"type\":\"scatter\"},{\"hovertemplate\":\"Path=\\u002fpages\\u002fpricing.html\\u003cbr\\u003eVersion=latest\\u003cbr\\u003eDate=%{x}\\u003cbr\\u003eViews=%{y}\\u003cextra\\u003e\\u003c\\u002fextra\\u003e\",\"legendgroup\":\"\\u002fpages\\u002fpricing.html\",\"line\":{\"color\":\"#08bdba\",\"dash\":\"solid\"},\"marker\":{\"symbol\":\"circle\"},\"mode\":\"lines\",\"name\":\"\\u002fpages\\u002fpricing.html\",\"orientation\":\"v\",\"showlegend\":true,\"x\":[\"01\\u002f03\\u002f2023\",\"02\\u002f03\\u002f2023\",\"03\\u002f03\\u002f2023\",\"04\\u002f03\\u002f2023\",\"05\\u002f03\\u002f2023\",\"06\\u002f03\\u002f2023\",\"07\\u002f03\\u002f2023\",\"08\\u002f03\\u002f2023\",\"09\\u002f03\\u002f2023\",\"10\\u002f03\\u002f2023\",\"11\\u002f03\\u002f2023\",\"12\\u002f03\\u002f2023\",\"13\\u002f03\\u002f2023\",\"14\\u002f03\\u002f2023\",\"15\\u002f03\\u002f2023\",\"16\\u002f03\\u002f2023\",\"17\\u002f03\\u002f2023\",\"18\\u002f03\\u002f2023\",\"19\\u002f03\\u002f2023\",\"20\\u002f03\\u002f2023\",\"21\\u002f03\\u002f2023\",\"22\\u002f03\\u002f2023\",\"23\\u002f03\\u002f2023\",\"24\\u002f03\\u002f2023\",\"25\\u002f03\\u002f2023\",\"26\\u002f03\\u002f2023\",\"27\\u002f03\\u002f2023\",\"28\\u002f03\\u002f2023\",\"29\\u002f03\\u002f2023\",\"30\\u002f03\\u002f2023\",\"31\\u002f03\\u002f2023\"],\"xaxis\":\"x\",\"y\":[86550,97628,75061,43813,29210,61546,23148,104849,60927,27168,65935,76503,54282,41679,42240,10676,142910,56859,60260,84666,43984,61393,65911,84979,97878,36375,18715,18129,99343,106269,61633],\"yaxis\":\"y\",\"type\":\"scatter\"},{\"hovertemplate\":\"Path=\\u002fpages\\u002fpricing.html\\u003cbr\\u003eVersion=stable\\u003cbr\\u003eDate=%{x}\\u003cbr\\u003eViews=%{y}\\u003cextra\\u003e\\u003c\\u002fextra\\u003e\",\"legendgroup\":\"\\u002fpages\\u002fpricing.html\",\"line\":{\"color\":\"#08bdba\",\"dash\":\"solid\"},\"marker\":{\"symbol\":\"circle\"},\"mode\":\"lines\",\"name\":\"\\u002fpages\\u002fpricing.html\",\"orientation\":\"v\",\"showlegend\":false,\"x\":[\"01\\u002f03\\u002f2023\",\"02\\u002f03\\u002f2023\",\"03\\u002f03\\u002f2023\",\"04\\u002f03\\u002f2023\",\"05\\u002f03\\u002f2023\",\"06\\u002f03\\u002f2023\",\"07\\u002f03\\u002f2023\",\"08\\u002f03\\u002f2023\",\"09\\u002f03\\u002f2023\",\"10\\u002f03\\u002f2023\",\"11\\u002f03\\u002f2023\",\"13\\u002f03\\u002f2023\",\"14\\u002f03\\u002f2023\",\"15\\u002f03\\u002f2023\",\"16\\u002f03\\u002f2023\",\"17\\u002f03\\u002f2023\",\"18\\u002f03\\u002f2023\",\"19\\u002f03\\u002f2023\",\"20\\u002f03\\u002f2023\",\"21\\u002f03\\u002f2023\",\"22\\u002f03\\u002f2023\",\"23\\u002f03\\u002f2023\",\"24\\u002f03\\u002f2023\",\"25\\u002f03\\u002f2023\",\"26\\u002f03\\u002f2023\",\"27\\u002f03\\u002f2023\",\"28\\u002f03\\u002f2023\",\"29\\u002f03\\u002f2023\",\"30\\u002f03\\u002f2023\",\"31\\u002f03\\u002f2023\"],\"xaxis\":\"x\",\"y\":[101687,28609,52417,155799,37662,69998,58657,40491,146416,81042,61717,127986,99597,106884,87303,95472,148687,50427,95998,94750,93713,89666,75933,151794,35259,78270,82139,119983,135438,23861],\"yaxis\":\"y\",\"type\":\"scatter\"}],                        {\"template\":{\"data\":{\"bar\":[{\"marker\":{\"line\":{\"color\":\"#141721\",\"width\":1}},\"textfont\":{\"color\":\"rgba(255,255,255,0.55)\"},\"type\":\"bar\"}],\"table\":[{\"cells\":{\"align\":\"left\",\"fill\":{\"color\":\"#141721\"},\"font\":{\"color\":\"rgba(255,255,255,0.55)\",\"size\":14},\"height\":32,\"line\":{\"color\":\"rgba(255,255,255,0.10)\"}},\"header\":{\"align\":\"left\",\"fill\":{\"color\":\"#141721\"},\"font\":{\"color\":\"rgba(255,255,255,0.85)\",\"size\":14},\"height\":32,\"line\":{\"color\":\"rgba(255,255,255,0.10)\"}},\"type\":\"table\"}],\"waterfall\":[{\"connector\":{\"line\":{\"color\":\"rgba(255,255,255,0.30)\",\"width\":1}},\"decreasing\":{\"marker\":{\"color\":\"#ff9222\"}},\"increasing\":{\"marker\":{\"color\":\"#00b4ff\"}},\"textfont\":{\"color\":\"rgba(255,255,255,0.85)\"},\"textposition\":\"outside\",\"totals\":{\"marker\":{\"color\":\"#747F88\"}},\"type\":\"waterfall\"}]},\"layout\":{\"annotationdefaults\":{\"font\":{\"color\":\"rgba(255,255,255,0.85)\",\"size\":14},\"showarrow\":false},\"bargroupgap\":0.1,\"coloraxis\":{\"colorbar\":{\"outlinewidth\":0,\"showticklabels\":true,\"thickness\":20,\"tickcolor\":\"rgba(255,255,255,0.30)\",\"tickfont\":{\"color\":\"rgba(255,255,255,0.55)\",\"family\":\"Inter, sans-serif, Arial\",\"size\":14},\"ticklabelposition\":\"outside\",\"ticklen\":8,\"ticks\":\"outside\",\"tickwidth\":1,\"title\":{\"font\":{\"color\":\"rgba(255,255,255,0.55)\",\"family\":\"Inter, sans-serif, Arial\",\"size\":14}}}},\"colorscale\":{\"diverging\":[[0.0,\"#003875\"],[0.05555555555555555,\"#004c8c\"],[0.1111111111111111,\"#0061a4\"],[0.16666666666666666,\"#0077bd\"],[0.2222222222222222,\"#0d8ed1\"],[0.2777777777777778,\"#24a6e1\"],[0.3333333333333333,\"#3bbef1\"],[0.3888888888888889,\"#5bd6fe\"],[0.4444444444444444,\"#afe7f9\"],[0.5,\"#E6E8EA\"],[0.5555555555555556,\"#f8d6da\"],[0.6111111111111112,\"#fbb6be\"],[0.6666666666666666,\"#fe94a0\"],[0.7222222222222222,\"#f67486\"],[0.7777777777777778,\"#ea536b\"],[0.8333333333333334,\"#db2f4c\"],[0.8888888888888888,\"#bc1f37\"],[0.9444444444444444,\"#9d1021\"],[1.0,\"#7e000c\"]],\"sequential\":[[0.0,\"#7e000c\"],[0.05555555555555555,\"#9d1021\"],[0.1111111111111111,\"#bc1f37\"],[0.16666666666666666,\"#db2f4c\"],[0.2222222222222222,\"#ea536b\"],[0.2777777777777778,\"#f67486\"],[0.3333333333333333,\"#fe94a0\"],[0.3888888888888889,\"#fbb6be\"],[0.4444444444444444,\"#f8d6da\"],[0.5,\"#E6E8EA\"],[0.5555555555555556,\"#afe7f9\"],[0.6111111111111112,\"#5bd6fe\"],[0.6666666666666666,\"#3bbef1\"],[0.7222222222222222,\"#24a6e1\"],[0.7777777777777778,\"#0d8ed1\"],[0.8333333333333334,\"#0077bd\"],[0.8888888888888888,\"#0061a4\"],[0.9444444444444444,\"#004c8c\"],[1.0,\"#003875\"]],\"sequentialminus\":[[0.0,\"#7e000c\"],[0.125,\"#9d1021\"],[0.25,\"#bc1f37\"],[0.375,\"#db2f4c\"],[0.5,\"#ea536b\"],[0.625,\"#f67486\"],[0.75,\"#fe94a0\"],[0.875,\"#fbb6be\"],[1.0,\"#f8d6da\"]]},\"colorway\":[\"#00b4ff\",\"#ff9222\",\"#3949ab\",\"#ff5267\",\"#08bdba\",\"#fdc935\",\"#689f38\",\"#976fd1\",\"#f781bf\",\"#52733e\"],\"font\":{\"color\":\"rgba(255,255,255,0.85)\",\"family\":\"Inter, sans-serif, Arial\",\"size\":14},\"geo\":{\"bgcolor\":\"#141721\",\"lakecolor\":\"#141721\",\"landcolor\":\"#141721\"},\"legend\":{\"bgcolor\":\"rgba(0,0,0,0)\",\"font\":{\"color\":\"rgba(255,255,255,0.85)\",\"family\":\"Inter, sans-serif, Arial\",\"size\":14},\"orientation\":\"h\",\"title\":{\"font\":{\"color\":\"rgba(255,255,255,0.85)\",\"family\":\"Inter, sans-serif, Arial\",\"size\":14},\"text\":\"\"},\"y\":-0.2},\"mapbox\":{\"style\":\"carto-darkmatter\"},\"margin\":{\"autoexpand\":true,\"b\":64,\"l\":80,\"pad\":0,\"r\":12,\"t\":64},\"paper_bgcolor\":\"#141721\",\"plot_bgcolor\":\"#141721\",\"polar\":{\"angularaxis\":{\"gridcolor\":\"rgba(255,255,255,0.10)\",\"linecolor\":\"rgba(255,255,255,0.30)\"},\"bgcolor\":\"#141721\",\"radialaxis\":{\"gridcolor\":\"rgba(255,255,255,0.10)\",\"linecolor\":\"rgba(255,255,255,0.30)\"}},\"showlegend\":true,\"ternary\":{\"aaxis\":{\"gridcolor\":\"rgba(255,255,255,0.10)\",\"linecolor\":\"rgba(255,255,255,0.30)\"},\"baxis\":{\"gridcolor\":\"rgba(255,255,255,0.10)\",\"linecolor\":\"rgba(255,255,255,0.30)\"},\"bgcolor\":\"#141721\",\"caxis\":{\"gridcolor\":\"rgba(255,255,255,0.10)\",\"linecolor\":\"rgba(255,255,255,0.30)\"}},\"title\":{\"font\":{\"color\":\"rgba(255,255,255,0.85)\",\"family\":\"Inter, sans-serif, Arial\",\"size\":20},\"pad\":{\"b\":0,\"l\":80,\"r\":0,\"t\":24},\"x\":0,\"xanchor\":\"left\",\"xref\":\"container\",\"y\":1,\"yanchor\":\"top\",\"yref\":\"container\"},\"uniformtext\":{\"minsize\":12,\"mode\":\"hide\"},\"xaxis\":{\"automargin\":true,\"gridcolor\":\"rgba(255,255,255,0.10)\",\"layer\":\"below traces\",\"linecolor\":\"rgba(255,255,255,0.30)\",\"linewidth\":1,\"showline\":true,\"showticklabels\":true,\"tickcolor\":\"rgba(255,255,255,0.30)\",\"tickfont\":{\"color\":\"rgba(255,255,255,0.55)\",\"family\":\"Inter, sans-serif, Arial\",\"size\":14},\"ticklabelposition\":\"outside\",\"ticklen\":8,\"ticks\":\"outside\",\"tickwidth\":1,\"title\":{\"font\":{\"color\":\"rgba(255,255,255,0.85)\",\"family\":\"Inter, sans-serif, Arial\",\"size\":16},\"standoff\":8},\"visible\":true,\"zeroline\":false},\"yaxis\":{\"automargin\":true,\"gridcolor\":\"rgba(255,255,255,0.10)\",\"layer\":\"below traces\",\"linecolor\":\"rgba(255,255,255,0.30)\",\"linewidth\":1,\"showline\":false,\"showticklabels\":true,\"tickcolor\":\"rgba(255,255,255,0.30)\",\"tickfont\":{\"color\":\"rgba(255,255,255,0.55)\",\"family\":\"Inter, sans-serif, Arial\",\"size\":14},\"ticklabelposition\":\"outside\",\"ticklen\":8,\"ticks\":\"outside\",\"tickwidth\":1,\"title\":{\"font\":{\"color\":\"rgba(255,255,255,0.85)\",\"family\":\"Inter, sans-serif, Arial\",\"size\":16},\"standoff\":8},\"visible\":true,\"zeroline\":false}}},\"xaxis\":{\"anchor\":\"y\",\"domain\":[0.0,1.0],\"title\":{\"text\":\"Date\"}},\"yaxis\":{\"anchor\":\"x\",\"domain\":[0.0,1.0],\"title\":{\"text\":\"Views\"}},\"legend\":{\"title\":{\"text\":\"Path\"},\"tracegroupgap\":0}},                        {\"responsive\": true}                    ).then(function(){\n",
       "                            \n",
       "var gd = document.getElementById('57da41d1-4dc7-48f4-a446-ded306dae2bc');\n",
       "var x = new MutationObserver(function (mutations, observer) {{\n",
       "        var display = window.getComputedStyle(gd).display;\n",
       "        if (!display || display === 'none') {{\n",
       "            console.log([gd, 'removed!']);\n",
       "            Plotly.purge(gd);\n",
       "            observer.disconnect();\n",
       "        }}\n",
       "}});\n",
       "\n",
       "// Listen for the removal of the full notebook cells\n",
       "var notebookContainer = gd.closest('#notebook-container');\n",
       "if (notebookContainer) {{\n",
       "    x.observe(notebookContainer, {childList: true});\n",
       "}}\n",
       "\n",
       "// Listen for the clearing of the current output cell\n",
       "var outputEl = gd.closest('.output');\n",
       "if (outputEl) {{\n",
       "    x.observe(outputEl, {childList: true});\n",
       "}}\n",
       "\n",
       "                        })                };                });            </script>        </div>"
      ]
     },
     "metadata": {},
     "output_type": "display_data"
    }
   ],
   "source": [
    "vizro_ai = VizroAI()\n",
    "\n",
    "vizro_ai.plot(df, \"Combine Views by Date for each Path for Version==stable and Version==latest. Draw a line graph with Views on the y axis and Date on x showing each Path and Version in a different color\", explain=True)"
   ]
  },
  {
   "cell_type": "code",
   "execution_count": null,
   "id": "69bcf080-c43f-4a08-9a95-ef6120ef1abe",
   "metadata": {},
   "outputs": [],
   "source": []
  }
 ],
 "metadata": {
  "kernelspec": {
   "display_name": "Python 3 (ipykernel)",
   "language": "python",
   "name": "python3"
  },
  "language_info": {
   "codemirror_mode": {
    "name": "ipython",
    "version": 3
   },
   "file_extension": ".py",
   "mimetype": "text/x-python",
   "name": "python",
   "nbconvert_exporter": "python",
   "pygments_lexer": "ipython3",
   "version": "3.10.14"
  }
 },
 "nbformat": 4,
 "nbformat_minor": 5
}
