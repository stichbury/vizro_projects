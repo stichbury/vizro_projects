{
 "cells": [
  {
   "cell_type": "code",
   "execution_count": 1,
   "id": "150de2e4-622f-4d0f-91a2-ad47dd16c53a",
   "metadata": {},
   "outputs": [
    {
     "name": "stdout",
     "output_type": "stream",
     "text": [
      "0.3.2\n"
     ]
    }
   ],
   "source": [
    "# Vizro-AI usage\n",
    "\n",
    "from vizro import Vizro\n",
    "import vizro_ai\n",
    "from dotenv import load_dotenv\n",
    "\n",
    "print(vizro_ai.__version__)\n",
    "load_dotenv()\n",
    "\n",
    "from vizro_ai import VizroAI\n",
    "vizro_ai = VizroAI(model=\"gpt-4o\")\n",
    "\n",
    "import pandas as pd\n",
    "\n",
    "df = pd.read_csv('filtered_books.csv')\n",
    "df[\"Date Read\"] = pd.to_datetime(df['Date Read'],dayfirst=True)\n",
    "\n",
    "# Data cleanup \n",
    "# Specify columns to check for missing values\n",
    "columns_to_check = ['Title', 'Author', 'ISBN', 'ISBN13', 'My Rating', 'Average Rating', 'Number of Pages', 'Original Publication Year', 'Date Read']\n",
    "df_cleaned = df.dropna(subset=columns_to_check)\n",
    "#df_cleaned.head()"
   ]
  },
  {
   "cell_type": "code",
   "execution_count": 2,
   "id": "1cbbea13-28f1-47fc-9348-9e41ba178463",
   "metadata": {},
   "outputs": [],
   "source": [
    "another_user_question = \"\"\"\n",
    "Create a dashboard with 3 pages. \n",
    "\n",
    "On the first page, plot a chart with the title \"Sequence of reading\" . It is a scatter chart. \n",
    "Use the x axis to show the date a book was read. Plot it at y=1.\n",
    "\n",
    "On the second page, plot a chart with the title \"Pages and Book totals\" . It shows the cumulative total number of pages read by summing the Number of Pages of each book read in each year, using the Date Read data. Plot date on the x axis and the number of pages on the y axis using a scale on the left hand side of the chart.\n",
    "\n",
    "Add a filter so the user can change the x axis to adjust the range of dates by year on the x axis.\n",
    "\n",
    "Superimpose a bar chart showing the total books read for each year, taking data from the Date Read column. \n",
    "\n",
    "Show the total books read using the right hand side of the chart which can be a different scale to the y axis shown on the left hand side.\n",
    "\n",
    "On the third page, plot a chart with the title \"Ratings over the years\".\n",
    "\n",
    "Eliminate any book where My Rating is 0. Then, for each row of the dataset, plot the My Rating and Average Rating \n",
    "\n",
    "data points using circles that are connected by a line to show the gap between the two points. \n",
    "\n",
    "Stack the books vertically on the y axis, ordered alphabetically by Title, and use the x axis to show the rating between 0 and 5. Label each with the Title and Author.\n",
    "\n",
    "\n",
    "\"\"\""
   ]
  },
  {
   "cell_type": "code",
   "execution_count": 3,
   "id": "14e9f5de-1ace-44cd-8b3a-3f1ee805fe2e",
   "metadata": {},
   "outputs": [
    {
     "data": {
      "application/vnd.jupyter.widget-view+json": {
       "model_id": "f54d74f265f5484b9c7fb55763c30810",
       "version_major": 2,
       "version_minor": 0
      },
      "text/plain": [
       "Store df info:   0%|          | 0/1 [00:00<?, ?it/s]"
      ]
     },
     "metadata": {},
     "output_type": "display_data"
    },
    {
     "name": "stdout",
     "output_type": "stream",
     "text": [
      "df_name: book_reading_data\n"
     ]
    },
    {
     "data": {
      "application/vnd.jupyter.widget-view+json": {
       "model_id": "5f5bc7ea128243349c1ddafacff6240a",
       "version_major": 2,
       "version_minor": 0
      },
      "text/plain": [
       "Generate dashboard plan:   0%|          | 0/2 [00:00<?, ?it/s]"
      ]
     },
     "metadata": {},
     "output_type": "display_data"
    },
    {
     "data": {
      "application/vnd.jupyter.widget-view+json": {
       "model_id": "e3f0ec1e7feb4924a2e04f65df171b67",
       "version_major": 2,
       "version_minor": 0
      },
      "text/plain": [
       "Building page: Sequence of Reading:   0%|          | 0/5 [00:00<?, ?it/s]"
      ]
     },
     "metadata": {},
     "output_type": "display_data"
    },
    {
     "data": {
      "application/vnd.jupyter.widget-view+json": {
       "model_id": "a62d0cc6a0344346879fe238f81e7fff",
       "version_major": 2,
       "version_minor": 0
      },
      "text/plain": [
       "Building page: Pages and Book Totals:   0%|          | 0/5 [00:00<?, ?it/s]"
      ]
     },
     "metadata": {},
     "output_type": "display_data"
    },
    {
     "data": {
      "application/vnd.jupyter.widget-view+json": {
       "model_id": "9884418001814312b2e3848b941af210",
       "version_major": 2,
       "version_minor": 0
      },
      "text/plain": [
       "Building page: Ratings Over the Years:   0%|          | 0/5 [00:00<?, ?it/s]"
      ]
     },
     "metadata": {},
     "output_type": "display_data"
    },
    {
     "data": {
      "application/vnd.jupyter.widget-view+json": {
       "model_id": "8b3bcb09b4bf4f70a0526756ab686a94",
       "version_major": 2,
       "version_minor": 0
      },
      "text/plain": []
     },
     "metadata": {},
     "output_type": "display_data"
    },
    {
     "data": {
      "application/vnd.jupyter.widget-view+json": {
       "model_id": "0b6e3e9e38fa4d7bbda38799b15f9551",
       "version_major": 2,
       "version_minor": 0
      },
      "text/plain": []
     },
     "metadata": {},
     "output_type": "display_data"
    },
    {
     "data": {
      "application/vnd.jupyter.widget-view+json": {
       "model_id": "11916db25772477e9e9d802fe4a793ec",
       "version_major": 2,
       "version_minor": 0
      },
      "text/plain": []
     },
     "metadata": {},
     "output_type": "display_data"
    },
    {
     "data": {
      "application/vnd.jupyter.widget-view+json": {
       "model_id": "d9b1b2ed18de4fccb09114c826354bc7",
       "version_major": 2,
       "version_minor": 0
      },
      "text/plain": [
       "Currently Building ... [Page] <Pages and Book Totals> components:   0%|          | 0/1 [00:00<?, ?it/s]"
      ]
     },
     "metadata": {},
     "output_type": "display_data"
    },
    {
     "data": {
      "application/vnd.jupyter.widget-view+json": {
       "model_id": "ac8a9773c4e340d1a63cd097599bd22e",
       "version_major": 2,
       "version_minor": 0
      },
      "text/plain": [
       "Currently Building ... [Page] <Ratings Over the Years> components:   0%|          | 0/1 [00:00<?, ?it/s]"
      ]
     },
     "metadata": {},
     "output_type": "display_data"
    },
    {
     "data": {
      "application/vnd.jupyter.widget-view+json": {
       "model_id": "bedf0e8b2c98408f89ece58b4f0f83b3",
       "version_major": 2,
       "version_minor": 0
      },
      "text/plain": [
       "Currently Building ... [Page] <Sequence of Reading> components:   0%|          | 0/1 [00:00<?, ?it/s]"
      ]
     },
     "metadata": {},
     "output_type": "display_data"
    },
    {
     "data": {
      "application/vnd.jupyter.widget-view+json": {
       "model_id": "37e085d574044aa6bf54b2f75ce08c96",
       "version_major": 2,
       "version_minor": 0
      },
      "text/plain": [
       "Currently Building ... [Page] <Sequence of Reading> controls: 0it [00:00, ?it/s]"
      ]
     },
     "metadata": {},
     "output_type": "display_data"
    },
    {
     "data": {
      "application/vnd.jupyter.widget-view+json": {
       "model_id": "a3c5acd6886140fbad7af16f71c729e3",
       "version_major": 2,
       "version_minor": 0
      },
      "text/plain": [
       "Currently Building ... [Page] <Pages and Book Totals> controls:   0%|          | 0/1 [00:00<?, ?it/s]"
      ]
     },
     "metadata": {},
     "output_type": "display_data"
    },
    {
     "name": "stderr",
     "output_type": "stream",
     "text": [
      "/Users/jo_stichbury/Documents/GitHub/vizro/vizro-core/vizro/lib/python3.10/site-packages/pydantic/v1/schema.py:631: UserWarning:\n",
      "\n",
      "CapturedCallable function is excluded from the schema.\n",
      "\n",
      "WARNING:vizro_ai.dashboard._response_models.components:\n",
      "[FALLBACK] Failed to build `Component`: ratings_over_the_years.\n",
      "Reason: 1 validation error for ChartPlanDynamic\n",
      "chart_code\n",
      "  Produced code failed the safeguard validation: <Unsafe builtin functions reversed are used in generated code line: fig.update_layout(title='Ratings over the years', xaxis_title='Rating', yaxis_title='Books', xaxis=dict(range=[0, 5]), yaxis=dict(autorange='reversed'), showlegend=False) and cannot be executed. If you require a builtin package, reach out to the Vizro team.>. Please check the code and try again. (type=value_error)\n",
      "Relevant prompt: Chart titled 'Ratings over the years'. Eliminates books where My Rating is 0. For each row, plots My Rating and Average Rating data points using circles connected by a line to show the gap. Books stacked vertically on y-axis, ordered alphabetically by Title. X-axis shows rating between 0 and 5. Labels each with Title and Author.\n",
      "\n"
     ]
    },
    {
     "data": {
      "application/vnd.jupyter.widget-view+json": {
       "model_id": "758ba6f518334c77bd1f3ed82901e942",
       "version_major": 2,
       "version_minor": 0
      },
      "text/plain": [
       "Currently Building ... [Page] <Ratings Over the Years> controls: 0it [00:00, ?it/s]"
      ]
     },
     "metadata": {},
     "output_type": "display_data"
    },
    {
     "name": "stderr",
     "output_type": "stream",
     "text": [
      "WARNING:root:Could not extract source for <function sequence_of_reading at 0x167be0040>. Definition will not be included.\n",
      "WARNING:root:Could not extract source for <function pages_and_book_totals at 0x167be16c0>. Definition will not be included.\n"
     ]
    },
    {
     "data": {
      "text/html": [
       "\n",
       "        <iframe\n",
       "            width=\"100%\"\n",
       "            height=\"650\"\n",
       "            src=\"http://127.0.0.1:8006/\"\n",
       "            frameborder=\"0\"\n",
       "            allowfullscreen\n",
       "            \n",
       "        ></iframe>\n",
       "        "
      ],
      "text/plain": [
       "<IPython.lib.display.IFrame at 0x167ccc070>"
      ]
     },
     "metadata": {},
     "output_type": "display_data"
    },
    {
     "name": "stdout",
     "output_type": "stream",
     "text": [
      "############ Imports ##############\n",
      "import vizro.models as vm\n",
      "from vizro.models.types import capture\n",
      "import pandas as pd\n",
      "import plotly.graph_objects as go\n",
      "from vizro.models.types import capture\n",
      "\n",
      "\n",
      "####### Function definitions ######\n",
      "@capture(\"graph\")\n",
      "def pages_and_book_totals(data_frame):\n",
      "    # Convert 'Date Read' to datetime\n",
      "    data_frame[\"Date Read\"] = pd.to_datetime(data_frame[\"Date Read\"])\n",
      "\n",
      "    # Extract year from 'Date Read'\n",
      "    data_frame[\"Year Read\"] = data_frame[\"Date Read\"].dt.year\n",
      "\n",
      "    # Group by 'Year Read' and calculate cumulative sum of 'Number of Pages'\n",
      "    pages_per_year = data_frame.groupby(\"Year Read\")[\"Number of Pages\"].sum().cumsum()\n",
      "\n",
      "    # Count total books read per year\n",
      "    books_per_year = data_frame.groupby(\"Year Read\").size()\n",
      "\n",
      "    # Create figure\n",
      "    fig = go.Figure()\n",
      "\n",
      "    # Add cumulative pages line\n",
      "    fig.add_trace(\n",
      "        go.Scatter(\n",
      "            x=pages_per_year.index,\n",
      "            y=pages_per_year,\n",
      "            mode=\"lines\",\n",
      "            name=\"Cumulative Pages\",\n",
      "            yaxis=\"y1\",\n",
      "        )\n",
      "    )\n",
      "\n",
      "    # Add total books bar\n",
      "    fig.add_trace(\n",
      "        go.Bar(\n",
      "            x=books_per_year.index,\n",
      "            y=books_per_year,\n",
      "            name=\"Total Books\",\n",
      "            yaxis=\"y2\",\n",
      "            opacity=0.6,\n",
      "        )\n",
      "    )\n",
      "\n",
      "    # Update layout for dual y-axis\n",
      "    fig.update_layout(\n",
      "        title=\"Pages and Book Totals\",\n",
      "        xaxis=dict(title=\"Year\"),\n",
      "        yaxis=dict(title=\"Cumulative Number of Pages\", side=\"left\"),\n",
      "        yaxis2=dict(title=\"Total Books Read\", overlaying=\"y\", side=\"right\"),\n",
      "        barmode=\"overlay\",\n",
      "    )\n",
      "\n",
      "    return fig\n",
      "\n",
      "\n",
      "@capture(\"graph\")\n",
      "def sequence_of_reading(data_frame):\n",
      "    # Convert 'Date Read' to datetime\n",
      "    data_frame[\"Date Read\"] = pd.to_datetime(data_frame[\"Date Read\"])\n",
      "\n",
      "    # Create a scatter plot\n",
      "    fig = go.Figure()\n",
      "    fig.add_trace(\n",
      "        go.Scatter(\n",
      "            x=data_frame[\"Date Read\"],\n",
      "            y=[1] * len(data_frame),\n",
      "            mode=\"markers\",\n",
      "            marker=dict(size=10),\n",
      "            name=\"Books Read\",\n",
      "        )\n",
      "    )\n",
      "\n",
      "    # Update layout\n",
      "    fig.update_layout(\n",
      "        title=\"Sequence of Reading\",\n",
      "        xaxis_title=\"Date Read\",\n",
      "        yaxis_title=\"\",\n",
      "        yaxis=dict(showticklabels=False),\n",
      "        showlegend=False,\n",
      "    )\n",
      "\n",
      "    return fig\n",
      "\n",
      "\n",
      "####### Data Manager Settings #####\n",
      "#######!!! UNCOMMENT BELOW !!!#####\n",
      "# from vizro.managers import data_manager\n",
      "# data_manager[\"book_reading_data\"] = ===> Fill in here <===\n",
      "\n",
      "\n",
      "########### Model code ############\n",
      "model = vm.Dashboard(\n",
      "    pages=[\n",
      "        vm.Page(\n",
      "            components=[\n",
      "                vm.Graph(\n",
      "                    id=\"sequence_of_reading\",\n",
      "                    figure=sequence_of_reading(data_frame=\"book_reading_data\"),\n",
      "                )\n",
      "            ],\n",
      "            title=\"Sequence of Reading\",\n",
      "            layout=vm.Layout(grid=[[0]]),\n",
      "            controls=[],\n",
      "        ),\n",
      "        vm.Page(\n",
      "            components=[\n",
      "                vm.Graph(\n",
      "                    id=\"pages_and_book_totals\",\n",
      "                    figure=pages_and_book_totals(data_frame=\"book_reading_data\"),\n",
      "                )\n",
      "            ],\n",
      "            title=\"Pages and Book Totals\",\n",
      "            layout=vm.Layout(grid=[[0]]),\n",
      "            controls=[\n",
      "                vm.Filter(\n",
      "                    column=\"Year Published\",\n",
      "                    targets=[\"pages_and_book_totals\"],\n",
      "                    selector=vm.RangeSlider(type=\"range_slider\"),\n",
      "                )\n",
      "            ],\n",
      "        ),\n",
      "        vm.Page(\n",
      "            components=[\n",
      "                vm.Card(\n",
      "                    id=\"ratings_over_the_years\",\n",
      "                    text=\"Failed to build component: ratings_over_the_years\",\n",
      "                )\n",
      "            ],\n",
      "            title=\"Ratings Over the Years\",\n",
      "            layout=vm.Layout(grid=[[0]]),\n",
      "            controls=[],\n",
      "        ),\n",
      "    ],\n",
      "    title=\"Book Reading Dashboard\",\n",
      ")\n",
      "\n"
     ]
    }
   ],
   "source": [
    "result = vizro_ai.dashboard([df_cleaned], another_user_question, return_elements=True)\n",
    "Vizro().build(result.dashboard).run(port=8006)\n",
    "print(result.code)"
   ]
  },
  {
   "cell_type": "code",
   "execution_count": null,
   "id": "d6007b7d-a5e1-4336-85d7-783d0846bf20",
   "metadata": {},
   "outputs": [],
   "source": [
    "\n",
    "############ Imports ##############\n",
    "from vizro import Vizro\n",
    "import vizro.plotly.express as px\n",
    "import vizro.tables as vt\n",
    "import vizro.models as vm\n",
    "from vizro.models.types import capture\n",
    "import pandas as pd\n",
    "import vizro.plotly.express as px\n",
    "import plotly.graph_objects as go\n",
    "from vizro.models.types import capture\n",
    "\n",
    "import pandas as pd\n",
    "import plotly.graph_objects as go\n",
    "import vizro.plotly.express as px\n",
    "from vizro.models.types import capture\n",
    "\n",
    "\n",
    "####### Function definitions ######\n",
    "@capture(\"graph\")\n",
    "def scatter_chart(data_frame):\n",
    "    # Filter the data where My Rating is greater than 0\n",
    "    filtered_data = data_frame[data_frame[\"My Rating\"] > 0]\n",
    "\n",
    "    # Create a scatter plot\n",
    "    fig = px.scatter(\n",
    "        filtered_data,\n",
    "        x=\"Date Read\",\n",
    "        y=\"My Rating\",\n",
    "        hover_data={\"Title\": True, \"Author\": True},\n",
    "        labels={\"Date Read\": \"Date Read\", \"My Rating\": \"My Rating\"},\n",
    "        title=\"Books Read with My Rating\",\n",
    "    )\n",
    "\n",
    "    return fig\n",
    "\n",
    "\n",
    "@capture(\"graph\")\n",
    "def custom_chart(data_frame):\n",
    "    fig = go.Figure()\n",
    "    # Add My Rating points\n",
    "    fig.add_trace(\n",
    "        go.Scatter(\n",
    "            x=data_frame[\"My Rating\"],\n",
    "            y=data_frame[\"Title\"],\n",
    "            mode=\"markers\",\n",
    "            name=\"My Rating\",\n",
    "            marker=dict(color=\"blue\", size=10),\n",
    "        )\n",
    "    )\n",
    "    # Add Average Rating points\n",
    "    fig.add_trace(\n",
    "        go.Scatter(\n",
    "            x=data_frame[\"Average Rating\"],\n",
    "            y=data_frame[\"Title\"],\n",
    "            mode=\"markers\",\n",
    "            name=\"Average Rating\",\n",
    "            marker=dict(color=\"orange\", size=10),\n",
    "        )\n",
    "    )\n",
    "    # Add lines connecting the ratings\n",
    "    for index, row in data_frame.iterrows():\n",
    "        fig.add_trace(\n",
    "            go.Scatter(\n",
    "                x=[row[\"My Rating\"], row[\"Average Rating\"]],\n",
    "                y=[row[\"Title\"], row[\"Title\"]],\n",
    "                mode=\"markers+lines\",\n",
    "                line=dict(color=\"gray\", width=2),\n",
    "                marker=dict(color=[\"blue\", \"red\"], size=10),\n",
    "                showlegend=False,\n",
    "            )\n",
    "        )\n",
    "    fig.update_layout(\n",
    "        title=\"Dumbbell Chart: My Rating vs Average Rating\",\n",
    "        xaxis_title=\"Rating\",\n",
    "        yaxis_title=\"Books\",\n",
    "        xaxis=dict(range=[0, 5]),\n",
    "        yaxis=dict(tickmode=\"linear\"),\n",
    "        height=600,\n",
    "    )\n",
    "    \n",
    "    return fig\n",
    "\n",
    "@capture(\"graph\")\n",
    "def pages_books_totals_chart(data_frame):\n",
    "    # Convert 'Date Read' to datetime\n",
    "    data_frame[\"Date Read\"] = pd.to_datetime(data_frame[\"Date Read\"])\n",
    "\n",
    "    # Sort data by 'Date Read'\n",
    "    data_frame = data_frame.sort_values(\"Date Read\")\n",
    "\n",
    "    # Calculate cumulative sum of 'Number of Pages'\n",
    "    data_frame[\"Cumulative Pages\"] = data_frame[\"Number of Pages\"].cumsum()\n",
    "\n",
    "    # Extract year from 'Date Read'\n",
    "    data_frame[\"Year\"] = data_frame[\"Date Read\"].dt.year\n",
    "\n",
    "    # Count total books read per year\n",
    "    books_per_year = data_frame.groupby(\"Year\").size()\n",
    "\n",
    "    # Create figure\n",
    "    fig = go.Figure()\n",
    "\n",
    "    # Add line chart for cumulative pages\n",
    "    fig.add_trace(\n",
    "        go.Scatter(\n",
    "            x=data_frame[\"Date Read\"],\n",
    "            y=data_frame[\"Cumulative Pages\"],\n",
    "            mode=\"lines\",\n",
    "            name=\"Cumulative Pages\",\n",
    "        )\n",
    "    )\n",
    "\n",
    "    # Add bar chart for total books read per year\n",
    "    fig.add_trace(\n",
    "        go.Bar(\n",
    "            x=books_per_year.index,\n",
    "            y=books_per_year.values,\n",
    "            name=\"Total Books Read\",\n",
    "            yaxis=\"y2\",\n",
    "            opacity=0.5,\n",
    "        )\n",
    "    )\n",
    "\n",
    "    # Update layout\n",
    "    fig.update_layout(\n",
    "        title=\"Cumulative Pages Read and Total Books Read Per Year\",\n",
    "        xaxis_title=\"Date\",\n",
    "        yaxis_title=\"Cumulative Pages\",\n",
    "        yaxis2=dict(title=\"Total Books Read\", overlaying=\"y\", side=\"right\"),\n",
    "        legend=dict(x=0.1, y=0.9),\n",
    "    )\n",
    "\n",
    "    return fig\n",
    "\n",
    "df = pd.read_csv('filtered_books.csv')\n",
    "df[\"Date Read\"] = pd.to_datetime(df['Date Read'],dayfirst=True)\n",
    "\n",
    "\n",
    "########### Model code ############\n",
    "model = vm.Dashboard(\n",
    "    pages=[\n",
    "        vm.Page(\n",
    "            components=[\n",
    "                vm.AgGrid(\n",
    "                    id=\"recent_reading_grid\",\n",
    "                    figure=vt.dash_ag_grid(df),\n",
    "                )\n",
    "            ],\n",
    "            title=\"Recent reading\",\n",
    "            layout=vm.Layout(grid=[[0]]),\n",
    "            controls=[],\n",
    "        ),\n",
    "        vm.Page(\n",
    "            components=[\n",
    "                vm.Graph(\n",
    "                    id=\"pages_books_totals_chart\",\n",
    "                    figure=pages_books_totals_chart(df),\n",
    "                )\n",
    "            ],\n",
    "            title=\"Pages and Book totals\",\n",
    "            layout=vm.Layout(grid=[[0]]),\n",
    "            controls=[\n",
    "                vm.Filter(\n",
    "                    column=\"Year Published\",\n",
    "                    targets=[\"pages_books_totals_chart\"],\n",
    "                    selector=vm.RangeSlider(type=\"range_slider\", title=\"Year Range\"),\n",
    "                )\n",
    "            ],\n",
    "        ),\n",
    "        vm.Page(\n",
    "            components=[\n",
    "                vm.Graph(\n",
    "                    id=\"custom_chart\",\n",
    "                    figure=custom_chart(df),\n",
    "                ),\n",
    "                vm.Graph(\n",
    "                    id=\"scatter_chart\",\n",
    "                    figure=scatter_chart(df),\n",
    "                ),\n",
    "            ],\n",
    "            title=\"Types of book\",\n",
    "            layout=vm.Layout(grid=[[0, 1]]),\n",
    "            controls=[],\n",
    "        ),\n",
    "    ],\n",
    "    title=\"Book Reading Dashboard\",\n",
    ")\n",
    "\n",
    "Vizro().build(model).run()\n",
    "\n",
    "\n",
    "\n",
    "##########################################################################################\n",
    "##########################################################################################\n",
    "##########################################################################################\n",
    "##########################################################################################\n",
    "##########################################################################################\n",
    "##########################################################################################\n",
    "\"\"\"\n",
    "import plotly.graph_objects as go\n",
    "from vizro.models.types import capture\n",
    "@capture(\"graph\")\n",
    "def custom_chart(data_frame):\n",
    "    fig = go.Figure()\n",
    "    # Add My Rating points\n",
    "    fig.add_trace(\n",
    "        go.Scatter(\n",
    "            x=data_frame[\"My Rating\"],\n",
    "            y=data_frame[\"Title\"],\n",
    "            mode=\"markers\",\n",
    "            name=\"My Rating\",\n",
    "            marker=dict(color=\"blue\", size=10),\n",
    "        )\n",
    "    )\n",
    "    # Add Average Rating points\n",
    "    fig.add_trace(\n",
    "        go.Scatter(\n",
    "            x=data_frame[\"Average Rating\"],\n",
    "            y=data_frame[\"Title\"],\n",
    "            mode=\"markers\",\n",
    "            name=\"Average Rating\",\n",
    "            marker=dict(color=\"orange\", size=10),\n",
    "        )\n",
    "    )\n",
    "    # Add lines connecting the ratings\n",
    "    for index, row in data_frame.iterrows():\n",
    "        fig.add_trace(\n",
    "            go.Scatter(\n",
    "                x=[row[\"My Rating\"], row[\"Average Rating\"]],\n",
    "                y=[row[\"Title\"], row[\"Title\"]],\n",
    "                mode=\"markers+lines\",\n",
    "                line=dict(color=\"gray\", width=2),\n",
    "                marker=dict(color=[\"blue\", \"red\"], size=10),\n",
    "                showlegend=False,\n",
    "            )\n",
    "        )\n",
    "    fig.update_layout(\n",
    "        title=\"Dumbbell Chart: My Rating vs Average Rating\",\n",
    "        xaxis_title=\"Rating\",\n",
    "        yaxis_title=\"Books\",\n",
    "        xaxis=dict(range=[0, 5]),\n",
    "        yaxis=dict(tickmode=\"linear\"),\n",
    "        height=600,\n",
    "    )\n",
    "    return fig\n",
    "    \"\"\""
   ]
  },
  {
   "cell_type": "code",
   "execution_count": null,
   "id": "e8b2ce6c-5a06-42aa-bfea-15888343278f",
   "metadata": {},
   "outputs": [],
   "source": [
    "## DO NOT RUN THIS ONE\n",
    "\n",
    "user_question = \"\"\"\n",
    "Create a dashboard page with title \"Recent reading\" showing 4 charts.\n",
    "\n",
    "The first chart shows the cumulative total number of pages read by summing the Number of Pages of each book read in each year, using the Date Read data.\n",
    "Plot the year on the x axis and the number of pages on the y axis using a scale on the left hand side of the chart. Superimpose a bar chart showing the total books read for each year, taking data from the Date Read column. \n",
    "Show the total books read using the right hand side of the chart which can be a different scale to the y axis shown on the left hand side.\n",
    "\n",
    "The second is a bar chart where x is the Original Publication Year is ascending order. For the dataset, calculate the total number of books for each Original Publicatiokn year and plot this as y.\n",
    "\n",
    "The third chart is a tornado chart which shows takes each row of the dataset and plots My Rating on the left and Average Rating on the right. Label each bar with the Title. \n",
    "\n",
    "The fourth chart is a pie chart which shows the number of books for each of the Categories. Do not include the N/A rows. Combine ['Fiction'] and ['FICTION'] and remove the [' and '] from each label.\n",
    "\n",
    "\"\"\""
   ]
  },
  {
   "cell_type": "code",
   "execution_count": null,
   "id": "b4722f21-d329-4732-8936-e7bbc6032b90",
   "metadata": {},
   "outputs": [],
   "source": [
    "# Following cells are all manipulation of the data"
   ]
  },
  {
   "cell_type": "code",
   "execution_count": null,
   "id": "6078b60c-cc58-417e-ae90-239965ff448b",
   "metadata": {},
   "outputs": [],
   "source": [
    "import requests\n",
    "import csv\n",
    "\n",
    "def get_book_info_by_isbn(isbn):\n",
    "    # Define the endpoint and the parameters\n",
    "    endpoint = \"https://www.googleapis.com/books/v1/volumes\"\n",
    "    params = {\n",
    "        'q': 'isbn:' + isbn\n",
    "    }\n",
    "\n",
    "    # Make the GET request to the Google Books API\n",
    "    response = requests.get(endpoint, params=params)\n",
    "\n",
    "    # Check if the request was successful\n",
    "    if response.status_code == 200:\n",
    "        # Parse the JSON response\n",
    "        book_data = response.json()\n",
    "        if 'items' in book_data:\n",
    "            # Return the first book found\n",
    "            return book_data['items'][0]\n",
    "        else:\n",
    "            return None\n",
    "    else:\n",
    "        # Handle errors\n",
    "        print(f\"Error: {response.status_code}\")\n",
    "        return None\n",
    "\n",
    "\n",
    "# File paths for input and output CSVs\n",
    "input_csv_path = 'goodreads_library_export.csv'\n",
    "output_csv_path = 'another_updated_goodreads_library_export.csv'\n",
    "\n",
    "# Read the input CSV and process each row to add Categories and Small Thumbnail columns\n",
    "with open(input_csv_path, mode='r', newline='') as infile, open(output_csv_path, mode='w', newline='') as outfile:\n",
    "    reader = csv.DictReader(infile)\n",
    "\n",
    "    # Add new fields \"Categories\" and \"SmallThumbnail\" to the existing fieldnames\n",
    "    fieldnames = reader.fieldnames + ['Categories', 'SmallThumbnail']\n",
    "    writer = csv.DictWriter(outfile, fieldnames=fieldnames)\n",
    "\n",
    "    # Write the header to the output CSV\n",
    "    writer.writeheader()\n",
    "\n",
    "    for row in reader:\n",
    "        isbn = row['ISBN']\n",
    "        book_info = get_book_info_by_isbn(isbn)\n",
    "        if book_info:\n",
    "            categories = book_info['volumeInfo'].get('categories', 'N/A')\n",
    "            small_thumbnail = book_info['volumeInfo'].get('imageLinks', {}).get('smallThumbnail', 'N/A')\n",
    "        else:\n",
    "            categories = 'N/A'\n",
    "            small_thumbnail = 'N/A'\n",
    "        \n",
    "        # Add the categories and small thumbnail to the current row\n",
    "        row['Categories'] = ', '.join(categories) if isinstance(categories, list) else categories\n",
    "        row['SmallThumbnail'] = small_thumbnail\n",
    "        \n",
    "        \n",
    "        # Write the updated row to the output CSV\n",
    "        writer.writerow(row)\n",
    "\n",
    "print(f\"Processed CSV and saved to {output_csv_path}\")\n",
    "\n"
   ]
  },
  {
   "cell_type": "code",
   "execution_count": null,
   "id": "b24dd2a5-901c-4409-9d32-0917765f0c82",
   "metadata": {},
   "outputs": [],
   "source": [
    "# Open the processed CSV and filter out any books without Category or thumbnail\n",
    "\n",
    "import csv\n",
    "# File paths for input and output CSVs\n",
    "input_csv_path = 'another_updated_goodreads_library_export.csv'  # This is the CSV that already has \"Categories\" and \"SmallThumbnail\" columns\n",
    "filtered_csv_path = 'filtered_books.csv'\n",
    "\n",
    "# Read the input CSV and filter rows\n",
    "with open(input_csv_path, mode='r', newline='') as infile, open(filtered_csv_path, mode='w', newline='') as outfile:\n",
    "    reader = csv.DictReader(infile)\n",
    "    writer = csv.DictWriter(outfile, fieldnames=reader.fieldnames)\n",
    "\n",
    "    # Write the header to the filtered output CSV\n",
    "    writer.writeheader()\n",
    "\n",
    "    for row in reader:\n",
    "        # Check if both \"SmallThumbnail\" and \"Categories\" are not 'N/A'\n",
    "        if row['SmallThumbnail'] != 'N/A' and row['Categories'] != 'N/A':\n",
    "            # Write the row to the filtered output CSV\n",
    "            writer.writerow(row)\n",
    "\n",
    "print(f\"Filtered CSV and saved to {filtered_csv_path}\")"
   ]
  },
  {
   "cell_type": "code",
   "execution_count": null,
   "id": "ce0364db-ae58-48db-9e07-8efc7f94d4e0",
   "metadata": {},
   "outputs": [],
   "source": []
  }
 ],
 "metadata": {
  "kernelspec": {
   "display_name": "Python 3 (ipykernel)",
   "language": "python",
   "name": "python3"
  },
  "language_info": {
   "codemirror_mode": {
    "name": "ipython",
    "version": 3
   },
   "file_extension": ".py",
   "mimetype": "text/x-python",
   "name": "python",
   "nbconvert_exporter": "python",
   "pygments_lexer": "ipython3",
   "version": "3.10.15"
  }
 },
 "nbformat": 4,
 "nbformat_minor": 5
}
