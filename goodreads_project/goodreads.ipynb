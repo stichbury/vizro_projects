{
 "cells": [
  {
   "cell_type": "code",
   "execution_count": 1,
   "id": "150de2e4-622f-4d0f-91a2-ad47dd16c53a",
   "metadata": {},
   "outputs": [
    {
     "name": "stdout",
     "output_type": "stream",
     "text": [
      "0.3.0\n"
     ]
    }
   ],
   "source": [
    "# Vizro-AI usage\n",
    "\n",
    "from vizro import Vizro\n",
    "import vizro_ai\n",
    "from dotenv import load_dotenv\n",
    "\n",
    "print(vizro_ai.__version__)\n",
    "load_dotenv()\n",
    "\n",
    "from vizro_ai import VizroAI\n",
    "vizro_ai = VizroAI(model=\"gpt-4o\")\n",
    "\n",
    "import pandas as pd\n",
    "\n",
    "df = pd.read_csv('filtered_books.csv')\n",
    "df[\"Date Read\"] = pd.to_datetime(df['Date Read'],dayfirst=True)\n",
    "\n",
    "# Data cleanup \n",
    "# Specify columns to check for missing values\n",
    "columns_to_check = ['Title', 'Author', 'ISBN', 'ISBN13', 'My Rating', 'Average Rating', 'Publisher', 'Number of Pages', 'Original Publication Year', 'Date Read', 'Exclusive Shelf']\n",
    "df_cleaned = df.dropna(subset=columns_to_check)\n",
    "#df_cleaned.head()"
   ]
  },
  {
   "cell_type": "code",
   "execution_count": 2,
   "id": "1cbbea13-28f1-47fc-9348-9e41ba178463",
   "metadata": {},
   "outputs": [],
   "source": [
    "another_user_question = \"\"\"\n",
    "Create a dashboard with 3 pages. \n",
    "\n",
    "The first page has the title \"Recent reading\" \n",
    "\n",
    "The chart is an AG Grid. Only show the columns for Book Title, Author, My Rating, Average Rating, Number of Pages, Original Year Publication Year, Date Read and Categories\n",
    "\n",
    "The second page has the title \"Pages and Book totals\" and it shows 1 chart.\n",
    "\n",
    "The chart shows the cumulative total number of pages read by summing the Number of Pages of each book read in each year, using the Date Read data.\n",
    "Plot date on the x axis and the number of pages on the y axis using a scale on the left hand side of the chart.\n",
    "\n",
    "Add a filter so the user can change the x axis to adjust the range of dates by year on the x axis.\n",
    "\n",
    "Superimpose a bar chart showing the total books read for each year, taking data from the Date Read column. \n",
    "Show the total books read using the right hand side of the chart which can be a different scale to the y axis shown on the left hand side.\n",
    "\n",
    "The third page has the title \"Types of book\" and it has 2 charts which are side by side in a horizontal layout.\n",
    "\n",
    "The first chart emphasizes the gap between My Rating and the Average Rating for each row of the dataset.\n",
    "For each row of the dataset, the My Rating and Average Rating data points are depicted by circles, and connected by a line to show the gap between the two points. \n",
    "Stack the books vertically on the y axis and use the x axis to show the rating between 0 and 5. Label each with the Title and Author.\n",
    "\n",
    "The second chart is a scatter chart. Only use the rows for which My Rating is greater than 0. Plot the date a book was read on the x axis with a label that includes its Title and Author. The y axis is My Rating.\n",
    "\n",
    "\"\"\""
   ]
  },
  {
   "cell_type": "code",
   "execution_count": 3,
   "id": "14e9f5de-1ace-44cd-8b3a-3f1ee805fe2e",
   "metadata": {},
   "outputs": [
    {
     "data": {
      "application/vnd.jupyter.widget-view+json": {
       "model_id": "41cc02a7363743d0887f69da413a75e1",
       "version_major": 2,
       "version_minor": 0
      },
      "text/plain": [
       "Store df info:   0%|          | 0/1 [00:00<?, ?it/s]"
      ]
     },
     "metadata": {},
     "output_type": "display_data"
    },
    {
     "name": "stdout",
     "output_type": "stream",
     "text": [
      "df_name: book_reading_data\n"
     ]
    },
    {
     "data": {
      "application/vnd.jupyter.widget-view+json": {
       "model_id": "2a80e27edf7545199f86df8015ae9be8",
       "version_major": 2,
       "version_minor": 0
      },
      "text/plain": [
       "Generate dashboard plan:   0%|          | 0/2 [00:00<?, ?it/s]"
      ]
     },
     "metadata": {},
     "output_type": "display_data"
    },
    {
     "data": {
      "application/vnd.jupyter.widget-view+json": {
       "model_id": "528e6b92a1ab48e7812baeff4cc61586",
       "version_major": 2,
       "version_minor": 0
      },
      "text/plain": [
       "Building page: Recent reading:   0%|          | 0/5 [00:00<?, ?it/s]"
      ]
     },
     "metadata": {},
     "output_type": "display_data"
    },
    {
     "data": {
      "application/vnd.jupyter.widget-view+json": {
       "model_id": "1806c103901d445883b7478aa39e5714",
       "version_major": 2,
       "version_minor": 0
      },
      "text/plain": [
       "Building page: Pages and Book totals:   0%|          | 0/5 [00:00<?, ?it/s]"
      ]
     },
     "metadata": {},
     "output_type": "display_data"
    },
    {
     "data": {
      "application/vnd.jupyter.widget-view+json": {
       "model_id": "1cb1c12751874f3aa6649e78b63197b3",
       "version_major": 2,
       "version_minor": 0
      },
      "text/plain": [
       "Building page: Types of book:   0%|          | 0/5 [00:00<?, ?it/s]"
      ]
     },
     "metadata": {},
     "output_type": "display_data"
    },
    {
     "data": {
      "application/vnd.jupyter.widget-view+json": {
       "model_id": "",
       "version_major": 2,
       "version_minor": 0
      },
      "text/plain": []
     },
     "metadata": {},
     "output_type": "display_data"
    },
    {
     "data": {
      "application/vnd.jupyter.widget-view+json": {
       "model_id": "",
       "version_major": 2,
       "version_minor": 0
      },
      "text/plain": []
     },
     "metadata": {},
     "output_type": "display_data"
    },
    {
     "data": {
      "application/vnd.jupyter.widget-view+json": {
       "model_id": "",
       "version_major": 2,
       "version_minor": 0
      },
      "text/plain": []
     },
     "metadata": {},
     "output_type": "display_data"
    },
    {
     "data": {
      "application/vnd.jupyter.widget-view+json": {
       "model_id": "",
       "version_major": 2,
       "version_minor": 0
      },
      "text/plain": [
       "Currently Building ... [Page] <Recent reading> components:   0%|          | 0/1 [00:00<?, ?it/s]"
      ]
     },
     "metadata": {},
     "output_type": "display_data"
    },
    {
     "data": {
      "application/vnd.jupyter.widget-view+json": {
       "model_id": "",
       "version_major": 2,
       "version_minor": 0
      },
      "text/plain": [
       "Currently Building ... [Page] <Pages and Book totals> components:   0%|          | 0/1 [00:00<?, ?it/s]"
      ]
     },
     "metadata": {},
     "output_type": "display_data"
    },
    {
     "data": {
      "application/vnd.jupyter.widget-view+json": {
       "model_id": "",
       "version_major": 2,
       "version_minor": 0
      },
      "text/plain": [
       "Currently Building ... [Page] <Types of book> components:   0%|          | 0/2 [00:00<?, ?it/s]"
      ]
     },
     "metadata": {},
     "output_type": "display_data"
    },
    {
     "data": {
      "application/vnd.jupyter.widget-view+json": {
       "model_id": "",
       "version_major": 2,
       "version_minor": 0
      },
      "text/plain": [
       "Currently Building ... [Page] <Recent reading> controls: 0it [00:00, ?it/s]"
      ]
     },
     "metadata": {},
     "output_type": "display_data"
    },
    {
     "data": {
      "application/vnd.jupyter.widget-view+json": {
       "model_id": "",
       "version_major": 2,
       "version_minor": 0
      },
      "text/plain": [
       "Currently Building ... [Page] <Pages and Book totals> controls:   0%|          | 0/1 [00:00<?, ?it/s]"
      ]
     },
     "metadata": {},
     "output_type": "display_data"
    },
    {
     "name": "stderr",
     "output_type": "stream",
     "text": [
      "/Users/jo_stichbury/opt/anaconda3/envs/py310/lib/python3.10/site-packages/pydantic/v1/schema.py:631: UserWarning:\n",
      "\n",
      "CapturedCallable function is excluded from the schema.\n",
      "\n",
      "WARNING:vizro_ai.dashboard._response_models.components:\n",
      "[FALLBACK] Failed to build `Component`: rating_gap_chart.\n",
      "Reason: 1 validation error for ChartPlanDynamic\n",
      "chart_code\n",
      "  Produced code failed the safeguard validation: <Unsafe builtin functions reversed are used in generated code line: fig.update_layout(title='Gap between My Rating and Average Rating', xaxis_title='Rating', yaxis_title='Books', xaxis=dict(range=[0, 5]), yaxis=dict(autorange='reversed'), showlegend=False) and cannot be executed. If you require a builtin package, reach out to the Vizro team.>. Please check the code and try again. (type=value_error)\n",
      "Relevant prompt: Chart emphasizing the gap between My Rating and the Average Rating for each row of the dataset. For each row, the My Rating and Average Rating data points are depicted by circles, and connected by a line to show the gap between the two points. Stack the books vertically on the y axis and use the x axis to show the rating between 0 and 5. Label each with the Title and Author.\n",
      "\n"
     ]
    },
    {
     "data": {
      "application/vnd.jupyter.widget-view+json": {
       "model_id": "",
       "version_major": 2,
       "version_minor": 0
      },
      "text/plain": [
       "Currently Building ... [Page] <Types of book> controls: 0it [00:00, ?it/s]"
      ]
     },
     "metadata": {},
     "output_type": "display_data"
    },
    {
     "name": "stderr",
     "output_type": "stream",
     "text": [
      "WARNING:root:Could not extract source for <function pages_books_totals_chart at 0x142449360>. Definition will not be included.\n",
      "WARNING:root:Could not extract source for <function scatter_chart at 0x1424e5480>. Definition will not be included.\n"
     ]
    },
    {
     "data": {
      "text/html": [
       "\n",
       "        <iframe\n",
       "            width=\"100%\"\n",
       "            height=\"650\"\n",
       "            src=\"http://127.0.0.1:8006/\"\n",
       "            frameborder=\"0\"\n",
       "            allowfullscreen\n",
       "            \n",
       "        ></iframe>\n",
       "        "
      ],
      "text/plain": [
       "<IPython.lib.display.IFrame at 0x142512b90>"
      ]
     },
     "metadata": {},
     "output_type": "display_data"
    },
    {
     "name": "stdout",
     "output_type": "stream",
     "text": [
      "############ Imports ##############\n",
      "import vizro.tables as vt\n",
      "import vizro.models as vm\n",
      "from vizro.models.types import capture\n",
      "import plotly.graph_objects as go\n",
      "import pandas as pd\n",
      "from vizro.models.types import capture\n",
      "\n",
      "import plotly.graph_objects as go\n",
      "import pandas as pd\n",
      "from vizro.models.types import capture\n",
      "\n",
      "\n",
      "####### Function definitions ######\n",
      "@capture(\"graph\")\n",
      "def pages_books_totals_chart(data_frame):\n",
      "    # Convert 'Date Read' to datetime\n",
      "    data_frame[\"Date Read\"] = pd.to_datetime(data_frame[\"Date Read\"])\n",
      "\n",
      "    # Extract year from 'Date Read'\n",
      "    data_frame[\"Year Read\"] = data_frame[\"Date Read\"].dt.year\n",
      "\n",
      "    # Calculate cumulative pages read by year\n",
      "    cumulative_pages = data_frame.groupby(\"Year Read\")[\"Number of Pages\"].sum().cumsum()\n",
      "\n",
      "    # Calculate total books read by year\n",
      "    total_books = data_frame.groupby(\"Year Read\").size()\n",
      "\n",
      "    # Create figure\n",
      "    fig = go.Figure()\n",
      "\n",
      "    # Add line chart for cumulative pages\n",
      "    fig.add_trace(\n",
      "        go.Scatter(\n",
      "            x=cumulative_pages.index,\n",
      "            y=cumulative_pages,\n",
      "            mode=\"lines\",\n",
      "            name=\"Cumulative Pages\",\n",
      "            yaxis=\"y1\",\n",
      "        )\n",
      "    )\n",
      "\n",
      "    # Add bar chart for total books\n",
      "    fig.add_trace(\n",
      "        go.Bar(x=total_books.index, y=total_books, name=\"Total Books\", yaxis=\"y2\")\n",
      "    )\n",
      "\n",
      "    # Update layout\n",
      "    fig.update_layout(\n",
      "        title=\"Cumulative Pages and Total Books Read by Year\",\n",
      "        xaxis_title=\"Year\",\n",
      "        yaxis=dict(title=\"Cumulative Pages\", side=\"left\"),\n",
      "        yaxis2=dict(title=\"Total Books\", overlaying=\"y\", side=\"right\"),\n",
      "        legend=dict(x=0.1, y=0.9),\n",
      "    )\n",
      "\n",
      "    return fig\n",
      "\n",
      "\n",
      "@capture(\"graph\")\n",
      "def scatter_chart(data_frame):\n",
      "    # Filter the data_frame for rows where 'My Rating' is greater than 0\n",
      "    filtered_df = data_frame[data_frame[\"My Rating\"] > 0]\n",
      "\n",
      "    # Create a scatter plot\n",
      "    fig = go.Figure()\n",
      "\n",
      "    # Add scatter trace\n",
      "    fig.add_trace(\n",
      "        go.Scatter(\n",
      "            x=filtered_df[\"Date Read\"],\n",
      "            y=filtered_df[\"My Rating\"],\n",
      "            mode=\"markers\",\n",
      "            text=filtered_df[\"Title\"] + \" by \" + filtered_df[\"Author\"],\n",
      "            marker=dict(size=10, color=\"blue\"),\n",
      "        )\n",
      "    )\n",
      "\n",
      "    # Update layout\n",
      "    fig.update_layout(\n",
      "        title=\"Books Read with My Rating\",\n",
      "        xaxis_title=\"Date Read\",\n",
      "        yaxis_title=\"My Rating\",\n",
      "        hovermode=\"closest\",\n",
      "    )\n",
      "\n",
      "    return fig\n",
      "\n",
      "\n",
      "####### Data Manager Settings #####\n",
      "#######!!! UNCOMMENT BELOW !!!#####\n",
      "# from vizro.managers import data_manager\n",
      "# data_manager[\"book_reading_data\"] = ===> Fill in here <===\n",
      "\n",
      "\n",
      "########### Model code ############\n",
      "model = vm.Dashboard(\n",
      "    pages=[\n",
      "        vm.Page(\n",
      "            components=[\n",
      "                vm.AgGrid(\n",
      "                    id=\"recent_reading_grid\",\n",
      "                    figure=vt.dash_ag_grid(data_frame=\"book_reading_data\"),\n",
      "                )\n",
      "            ],\n",
      "            title=\"Recent reading\",\n",
      "            layout=vm.Layout(grid=[[0]]),\n",
      "            controls=[],\n",
      "        ),\n",
      "        vm.Page(\n",
      "            components=[\n",
      "                vm.Graph(\n",
      "                    id=\"pages_books_totals_chart\",\n",
      "                    figure=pages_books_totals_chart(data_frame=\"book_reading_data\"),\n",
      "                )\n",
      "            ],\n",
      "            title=\"Pages and Book totals\",\n",
      "            layout=vm.Layout(grid=[[0]]),\n",
      "            controls=[\n",
      "                vm.Filter(\n",
      "                    column=\"Year Published\",\n",
      "                    targets=[\"pages_books_totals_chart\"],\n",
      "                    selector=vm.RangeSlider(type=\"range_slider\"),\n",
      "                )\n",
      "            ],\n",
      "        ),\n",
      "        vm.Page(\n",
      "            components=[\n",
      "                vm.Card(\n",
      "                    id=\"rating_gap_chart\",\n",
      "                    text=\"Failed to build component: rating_gap_chart\",\n",
      "                ),\n",
      "                vm.Graph(\n",
      "                    id=\"scatter_chart\",\n",
      "                    figure=scatter_chart(data_frame=\"book_reading_data\"),\n",
      "                ),\n",
      "            ],\n",
      "            title=\"Types of book\",\n",
      "            layout=vm.Layout(grid=[[0, 1]]),\n",
      "            controls=[],\n",
      "        ),\n",
      "    ],\n",
      "    title=\"Book Reading Dashboard\",\n",
      ")\n",
      "\n"
     ]
    }
   ],
   "source": [
    "result = vizro_ai.dashboard([df_cleaned], another_user_question, return_elements=True)\n",
    "Vizro().build(result.dashboard).run(port=8006)\n",
    "print(result.code)"
   ]
  },
  {
   "cell_type": "code",
   "execution_count": null,
   "id": "d6007b7d-a5e1-4336-85d7-783d0846bf20",
   "metadata": {},
   "outputs": [],
   "source": []
  },
  {
   "cell_type": "code",
   "execution_count": null,
   "id": "e8b2ce6c-5a06-42aa-bfea-15888343278f",
   "metadata": {},
   "outputs": [],
   "source": [
    "## DO NOT RUN THIS ONE\n",
    "\n",
    "user_question = \"\"\"\n",
    "Create a dashboard page with title \"Recent reading\" showing 4 charts.\n",
    "\n",
    "The first chart shows the cumulative total number of pages read by summing the Number of Pages of each book read in each year, using the Date Read data.\n",
    "Plot the year on the x axis and the number of pages on the y axis using a scale on the left hand side of the chart. Superimpose a bar chart showing the total books read for each year, taking data from the Date Read column. \n",
    "Show the total books read using the right hand side of the chart which can be a different scale to the y axis shown on the left hand side.\n",
    "\n",
    "The second is a bar chart where x is the Original Publication Year is ascending order. For the dataset, calculate the total number of books for each Original Publicatiokn year and plot this as y.\n",
    "\n",
    "The third chart is a tornado chart which shows takes each row of the dataset and plots My Rating on the left and Average Rating on the right. Label each bar with the Title. \n",
    "\n",
    "The fourth chart is a pie chart which shows the number of books for each of the Categories. Do not include the N/A rows. Combine ['Fiction'] and ['FICTION'] and remove the [' and '] from each label.\n",
    "\n",
    "\"\"\""
   ]
  },
  {
   "cell_type": "code",
   "execution_count": null,
   "id": "b4722f21-d329-4732-8936-e7bbc6032b90",
   "metadata": {},
   "outputs": [],
   "source": [
    "# Following cells are all manipulation of the data"
   ]
  },
  {
   "cell_type": "code",
   "execution_count": null,
   "id": "6078b60c-cc58-417e-ae90-239965ff448b",
   "metadata": {},
   "outputs": [],
   "source": [
    "import requests\n",
    "import csv\n",
    "\n",
    "def get_book_info_by_isbn(isbn):\n",
    "    # Define the endpoint and the parameters\n",
    "    endpoint = \"https://www.googleapis.com/books/v1/volumes\"\n",
    "    params = {\n",
    "        'q': 'isbn:' + isbn\n",
    "    }\n",
    "\n",
    "    # Make the GET request to the Google Books API\n",
    "    response = requests.get(endpoint, params=params)\n",
    "\n",
    "    # Check if the request was successful\n",
    "    if response.status_code == 200:\n",
    "        # Parse the JSON response\n",
    "        book_data = response.json()\n",
    "        if 'items' in book_data:\n",
    "            # Return the first book found\n",
    "            return book_data['items'][0]\n",
    "        else:\n",
    "            return None\n",
    "    else:\n",
    "        # Handle errors\n",
    "        print(f\"Error: {response.status_code}\")\n",
    "        return None\n",
    "\n",
    "\n",
    "# File paths for input and output CSVs\n",
    "input_csv_path = 'goodreads_library_export.csv'\n",
    "output_csv_path = 'another_updated_goodreads_library_export.csv'\n",
    "\n",
    "# Read the input CSV and process each row to add Categories and Small Thumbnail columns\n",
    "with open(input_csv_path, mode='r', newline='') as infile, open(output_csv_path, mode='w', newline='') as outfile:\n",
    "    reader = csv.DictReader(infile)\n",
    "\n",
    "    # Add new fields \"Categories\" and \"SmallThumbnail\" to the existing fieldnames\n",
    "    fieldnames = reader.fieldnames + ['Categories', 'SmallThumbnail']\n",
    "    writer = csv.DictWriter(outfile, fieldnames=fieldnames)\n",
    "\n",
    "    # Write the header to the output CSV\n",
    "    writer.writeheader()\n",
    "\n",
    "    for row in reader:\n",
    "        isbn = row['ISBN']\n",
    "        book_info = get_book_info_by_isbn(isbn)\n",
    "        if book_info:\n",
    "            categories = book_info['volumeInfo'].get('categories', 'N/A')\n",
    "            small_thumbnail = book_info['volumeInfo'].get('imageLinks', {}).get('smallThumbnail', 'N/A')\n",
    "        else:\n",
    "            categories = 'N/A'\n",
    "            small_thumbnail = 'N/A'\n",
    "        \n",
    "        # Add the categories and small thumbnail to the current row\n",
    "        row['Categories'] = ', '.join(categories) if isinstance(categories, list) else categories\n",
    "        row['SmallThumbnail'] = small_thumbnail\n",
    "        \n",
    "        \n",
    "        # Write the updated row to the output CSV\n",
    "        writer.writerow(row)\n",
    "\n",
    "print(f\"Processed CSV and saved to {output_csv_path}\")\n",
    "\n"
   ]
  },
  {
   "cell_type": "code",
   "execution_count": null,
   "id": "b24dd2a5-901c-4409-9d32-0917765f0c82",
   "metadata": {},
   "outputs": [],
   "source": [
    "# Open the processed CSV and filter out any books without Category or thumbnail\n",
    "\n",
    "import csv\n",
    "# File paths for input and output CSVs\n",
    "input_csv_path = 'another_updated_goodreads_library_export.csv'  # This is the CSV that already has \"Categories\" and \"SmallThumbnail\" columns\n",
    "filtered_csv_path = 'filtered_books.csv'\n",
    "\n",
    "# Read the input CSV and filter rows\n",
    "with open(input_csv_path, mode='r', newline='') as infile, open(filtered_csv_path, mode='w', newline='') as outfile:\n",
    "    reader = csv.DictReader(infile)\n",
    "    writer = csv.DictWriter(outfile, fieldnames=reader.fieldnames)\n",
    "\n",
    "    # Write the header to the filtered output CSV\n",
    "    writer.writeheader()\n",
    "\n",
    "    for row in reader:\n",
    "        # Check if both \"SmallThumbnail\" and \"Categories\" are not 'N/A'\n",
    "        if row['SmallThumbnail'] != 'N/A' and row['Categories'] != 'N/A':\n",
    "            # Write the row to the filtered output CSV\n",
    "            writer.writerow(row)\n",
    "\n",
    "print(f\"Filtered CSV and saved to {filtered_csv_path}\")"
   ]
  },
  {
   "cell_type": "code",
   "execution_count": null,
   "id": "ce0364db-ae58-48db-9e07-8efc7f94d4e0",
   "metadata": {},
   "outputs": [],
   "source": []
  }
 ],
 "metadata": {
  "kernelspec": {
   "display_name": "Python 3 (ipykernel)",
   "language": "python",
   "name": "python3"
  },
  "language_info": {
   "codemirror_mode": {
    "name": "ipython",
    "version": 3
   },
   "file_extension": ".py",
   "mimetype": "text/x-python",
   "name": "python",
   "nbconvert_exporter": "python",
   "pygments_lexer": "ipython3",
   "version": "3.10.14"
  }
 },
 "nbformat": 4,
 "nbformat_minor": 5
}
