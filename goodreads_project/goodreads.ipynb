{
 "cells": [
  {
   "cell_type": "code",
   "execution_count": 1,
   "id": "150de2e4-622f-4d0f-91a2-ad47dd16c53a",
   "metadata": {},
   "outputs": [
    {
     "name": "stdout",
     "output_type": "stream",
     "text": [
      "0.3.0\n"
     ]
    },
    {
     "data": {
      "text/html": [
       "<div>\n",
       "<style scoped>\n",
       "    .dataframe tbody tr th:only-of-type {\n",
       "        vertical-align: middle;\n",
       "    }\n",
       "\n",
       "    .dataframe tbody tr th {\n",
       "        vertical-align: top;\n",
       "    }\n",
       "\n",
       "    .dataframe thead th {\n",
       "        text-align: right;\n",
       "    }\n",
       "</style>\n",
       "<table border=\"1\" class=\"dataframe\">\n",
       "  <thead>\n",
       "    <tr style=\"text-align: right;\">\n",
       "      <th></th>\n",
       "      <th>Book Id</th>\n",
       "      <th>Title</th>\n",
       "      <th>Author</th>\n",
       "      <th>Author l-f</th>\n",
       "      <th>Additional Authors</th>\n",
       "      <th>ISBN</th>\n",
       "      <th>ISBN13</th>\n",
       "      <th>My Rating</th>\n",
       "      <th>Average Rating</th>\n",
       "      <th>Publisher</th>\n",
       "      <th>Binding</th>\n",
       "      <th>Number of Pages</th>\n",
       "      <th>Year Published</th>\n",
       "      <th>Original Publication Year</th>\n",
       "      <th>Date Read</th>\n",
       "      <th>Date Added</th>\n",
       "      <th>Exclusive Shelf</th>\n",
       "      <th>Categories</th>\n",
       "      <th>SmallThumbnail</th>\n",
       "    </tr>\n",
       "  </thead>\n",
       "  <tbody>\n",
       "    <tr>\n",
       "      <th>2</th>\n",
       "      <td>125103877</td>\n",
       "      <td>After the Funeral</td>\n",
       "      <td>Tessa Hadley</td>\n",
       "      <td>Hadley, Tessa</td>\n",
       "      <td>NaN</td>\n",
       "      <td>1473595290</td>\n",
       "      <td>9.781470e+12</td>\n",
       "      <td>4</td>\n",
       "      <td>3.82</td>\n",
       "      <td>Vintage Digital</td>\n",
       "      <td>Kindle Edition</td>\n",
       "      <td>226</td>\n",
       "      <td>2023</td>\n",
       "      <td>2023.0</td>\n",
       "      <td>2024-09-21</td>\n",
       "      <td>21/09/2024</td>\n",
       "      <td>read</td>\n",
       "      <td>Fiction</td>\n",
       "      <td>http://books.google.com/books/content?id=xBSVE...</td>\n",
       "    </tr>\n",
       "    <tr>\n",
       "      <th>4</th>\n",
       "      <td>22708846</td>\n",
       "      <td>Are You There, God? It's Me, Margaret</td>\n",
       "      <td>Judy Blume</td>\n",
       "      <td>Blume, Judy</td>\n",
       "      <td>NaN</td>\n",
       "      <td>1447280350</td>\n",
       "      <td>9.781450e+12</td>\n",
       "      <td>4</td>\n",
       "      <td>3.94</td>\n",
       "      <td>Macmillan Children's Books</td>\n",
       "      <td>Kindle Edition</td>\n",
       "      <td>224</td>\n",
       "      <td>2014</td>\n",
       "      <td>1970.0</td>\n",
       "      <td>2024-09-01</td>\n",
       "      <td>01/09/2024</td>\n",
       "      <td>read</td>\n",
       "      <td>Young Adult Fiction</td>\n",
       "      <td>http://books.google.com/books/content?id=nxq1A...</td>\n",
       "    </tr>\n",
       "    <tr>\n",
       "      <th>5</th>\n",
       "      <td>74872307</td>\n",
       "      <td>Talking at Night</td>\n",
       "      <td>Claire Daverley</td>\n",
       "      <td>Daverley, Claire</td>\n",
       "      <td>NaN</td>\n",
       "      <td>1405953861</td>\n",
       "      <td>9.781410e+12</td>\n",
       "      <td>5</td>\n",
       "      <td>3.96</td>\n",
       "      <td>Penguin</td>\n",
       "      <td>Kindle Edition</td>\n",
       "      <td>389</td>\n",
       "      <td>2023</td>\n",
       "      <td>2023.0</td>\n",
       "      <td>2024-08-07</td>\n",
       "      <td>04/08/2024</td>\n",
       "      <td>read</td>\n",
       "      <td>Fiction</td>\n",
       "      <td>http://books.google.com/books/content?id=dGiSE...</td>\n",
       "    </tr>\n",
       "    <tr>\n",
       "      <th>6</th>\n",
       "      <td>59825697</td>\n",
       "      <td>Verity</td>\n",
       "      <td>Colleen Hoover</td>\n",
       "      <td>Hoover, Colleen</td>\n",
       "      <td>NaN</td>\n",
       "      <td>1408726610</td>\n",
       "      <td>9.781410e+12</td>\n",
       "      <td>0</td>\n",
       "      <td>4.31</td>\n",
       "      <td>Sphere</td>\n",
       "      <td>Kindle Edition</td>\n",
       "      <td>333</td>\n",
       "      <td>2021</td>\n",
       "      <td>2018.0</td>\n",
       "      <td>2024-07-09</td>\n",
       "      <td>07/07/2024</td>\n",
       "      <td>read</td>\n",
       "      <td>Fiction</td>\n",
       "      <td>http://books.google.com/books/content?id=COdSE...</td>\n",
       "    </tr>\n",
       "    <tr>\n",
       "      <th>7</th>\n",
       "      <td>61401116</td>\n",
       "      <td>The Satsuma Complex</td>\n",
       "      <td>Bob Mortimer</td>\n",
       "      <td>Mortimer, Bob</td>\n",
       "      <td>NaN</td>\n",
       "      <td>1398521213</td>\n",
       "      <td>9.781400e+12</td>\n",
       "      <td>0</td>\n",
       "      <td>3.68</td>\n",
       "      <td>Gallery</td>\n",
       "      <td>Kindle Edition</td>\n",
       "      <td>301</td>\n",
       "      <td>2022</td>\n",
       "      <td>2022.0</td>\n",
       "      <td>2024-07-07</td>\n",
       "      <td>01/07/2024</td>\n",
       "      <td>read</td>\n",
       "      <td>Fiction</td>\n",
       "      <td>http://books.google.com/books/content?id=IRB5E...</td>\n",
       "    </tr>\n",
       "  </tbody>\n",
       "</table>\n",
       "</div>"
      ],
      "text/plain": [
       "     Book Id                                  Title           Author  \\\n",
       "2  125103877                      After the Funeral     Tessa Hadley   \n",
       "4   22708846  Are You There, God? It's Me, Margaret       Judy Blume   \n",
       "5   74872307                       Talking at Night  Claire Daverley   \n",
       "6   59825697                                 Verity   Colleen Hoover   \n",
       "7   61401116                    The Satsuma Complex     Bob Mortimer   \n",
       "\n",
       "         Author l-f Additional Authors        ISBN        ISBN13  My Rating  \\\n",
       "2     Hadley, Tessa                NaN  1473595290  9.781470e+12          4   \n",
       "4       Blume, Judy                NaN  1447280350  9.781450e+12          4   \n",
       "5  Daverley, Claire                NaN  1405953861  9.781410e+12          5   \n",
       "6   Hoover, Colleen                NaN  1408726610  9.781410e+12          0   \n",
       "7     Mortimer, Bob                NaN  1398521213  9.781400e+12          0   \n",
       "\n",
       "   Average Rating                   Publisher         Binding  \\\n",
       "2            3.82             Vintage Digital  Kindle Edition   \n",
       "4            3.94  Macmillan Children's Books  Kindle Edition   \n",
       "5            3.96                     Penguin  Kindle Edition   \n",
       "6            4.31                      Sphere  Kindle Edition   \n",
       "7            3.68                     Gallery  Kindle Edition   \n",
       "\n",
       "   Number of Pages  Year Published  Original Publication Year  Date Read  \\\n",
       "2              226            2023                     2023.0 2024-09-21   \n",
       "4              224            2014                     1970.0 2024-09-01   \n",
       "5              389            2023                     2023.0 2024-08-07   \n",
       "6              333            2021                     2018.0 2024-07-09   \n",
       "7              301            2022                     2022.0 2024-07-07   \n",
       "\n",
       "   Date Added Exclusive Shelf           Categories  \\\n",
       "2  21/09/2024            read              Fiction   \n",
       "4  01/09/2024            read  Young Adult Fiction   \n",
       "5  04/08/2024            read              Fiction   \n",
       "6  07/07/2024            read              Fiction   \n",
       "7  01/07/2024            read              Fiction   \n",
       "\n",
       "                                      SmallThumbnail  \n",
       "2  http://books.google.com/books/content?id=xBSVE...  \n",
       "4  http://books.google.com/books/content?id=nxq1A...  \n",
       "5  http://books.google.com/books/content?id=dGiSE...  \n",
       "6  http://books.google.com/books/content?id=COdSE...  \n",
       "7  http://books.google.com/books/content?id=IRB5E...  "
      ]
     },
     "execution_count": 1,
     "metadata": {},
     "output_type": "execute_result"
    }
   ],
   "source": [
    "# Vizro-AI usage\n",
    "\n",
    "from vizro import Vizro\n",
    "import vizro_ai\n",
    "from dotenv import load_dotenv\n",
    "\n",
    "print(vizro_ai.__version__)\n",
    "load_dotenv()\n",
    "\n",
    "from vizro_ai import VizroAI\n",
    "vizro_ai = VizroAI(model=\"gpt-4o\")\n",
    "\n",
    "import pandas as pd\n",
    "\n",
    "df = pd.read_csv('filtered_books.csv')\n",
    "df[\"Date Read\"] = pd.to_datetime(df['Date Read'],dayfirst=True)\n",
    "\n",
    "# Data cleanup \n",
    "# Specify columns to check for missing values\n",
    "columns_to_check = ['Title', 'Author', 'ISBN', 'ISBN13', 'My Rating', 'Average Rating', 'Publisher', 'Number of Pages', 'Original Publication Year', 'Date Read', 'Exclusive Shelf']\n",
    "df_cleaned = df.dropna(subset=columns_to_check)\n",
    "df_cleaned.head()"
   ]
  },
  {
   "cell_type": "code",
   "execution_count": 2,
   "id": "1cbbea13-28f1-47fc-9348-9e41ba178463",
   "metadata": {},
   "outputs": [],
   "source": [
    "another_user_question = \"\"\"\n",
    "Create a dashboard with 3 pages. \n",
    "\n",
    "The first page has the title \"Recent reading\" \n",
    "\n",
    "The chart is an AG Grid. Only show the columns for Book Title, Author, My Rating, Average Rating, Number of Pages, Original Year Publication Year, Date Read and Categories\n",
    "\n",
    "The second page has the title \"Pages and Book totals\" and it shows 1 chart.\n",
    "\n",
    "The chart shows the cumulative total number of pages read by summing the Number of Pages of each book read in each year, using the Date Read data.\n",
    "Plot date on the x axis and the number of pages on the y axis using a scale on the left hand side of the chart.\n",
    "\n",
    "Add a filter so the user can change the x axis to adjust the range of the x axis.\n",
    "\n",
    "#Superimpose a bar chart showing the total books read for each year, taking data from the Date Read column. \n",
    "#Show the total books read using the right hand side of the chart which can be a different scale to the y axis shown on the left hand side.\n",
    "\n",
    "The third page has the title \"Types of book\" and it has 2 charts which are side by side in a horizontal layout.\n",
    "\n",
    "The first chart is a tornado chart which shows takes each row of the dataset and plots My Rating on the left and Average Rating on the right. Label each bar with the Title. \n",
    "\n",
    "The second chart is a pie chart which shows the number of books for each of the Categories. Do not include the N/A rows. Combine ['Fiction'] and ['FICTION'] and remove the [' and '] from each label.\n",
    "\n",
    "\"\"\""
   ]
  },
  {
   "cell_type": "code",
   "execution_count": 3,
   "id": "14e9f5de-1ace-44cd-8b3a-3f1ee805fe2e",
   "metadata": {},
   "outputs": [
    {
     "data": {
      "application/vnd.jupyter.widget-view+json": {
       "model_id": "a1172645c60045e29b91b00bc3957f1e",
       "version_major": 2,
       "version_minor": 0
      },
      "text/plain": [
       "Store df info:   0%|          | 0/1 [00:00<?, ?it/s]"
      ]
     },
     "metadata": {},
     "output_type": "display_data"
    },
    {
     "name": "stdout",
     "output_type": "stream",
     "text": [
      "df_name: book_reading_data\n"
     ]
    },
    {
     "data": {
      "application/vnd.jupyter.widget-view+json": {
       "model_id": "7a7aea21aaef413faa1ce313b685bcd0",
       "version_major": 2,
       "version_minor": 0
      },
      "text/plain": [
       "Generate dashboard plan:   0%|          | 0/2 [00:00<?, ?it/s]"
      ]
     },
     "metadata": {},
     "output_type": "display_data"
    },
    {
     "data": {
      "application/vnd.jupyter.widget-view+json": {
       "model_id": "deec62106be24d26847e7bbca7fa96cc",
       "version_major": 2,
       "version_minor": 0
      },
      "text/plain": [
       "Building page: Recent reading:   0%|          | 0/5 [00:00<?, ?it/s]"
      ]
     },
     "metadata": {},
     "output_type": "display_data"
    },
    {
     "data": {
      "application/vnd.jupyter.widget-view+json": {
       "model_id": "d056c610319944f1b69c7b7b2c62fac9",
       "version_major": 2,
       "version_minor": 0
      },
      "text/plain": [
       "Building page: Pages and Book totals:   0%|          | 0/5 [00:00<?, ?it/s]"
      ]
     },
     "metadata": {},
     "output_type": "display_data"
    },
    {
     "data": {
      "application/vnd.jupyter.widget-view+json": {
       "model_id": "c5f03219df794fff8e7da1a723c61846",
       "version_major": 2,
       "version_minor": 0
      },
      "text/plain": [
       "Building page: Types of book:   0%|          | 0/5 [00:00<?, ?it/s]"
      ]
     },
     "metadata": {},
     "output_type": "display_data"
    },
    {
     "data": {
      "application/vnd.jupyter.widget-view+json": {
       "model_id": "",
       "version_major": 2,
       "version_minor": 0
      },
      "text/plain": []
     },
     "metadata": {},
     "output_type": "display_data"
    },
    {
     "data": {
      "application/vnd.jupyter.widget-view+json": {
       "model_id": "",
       "version_major": 2,
       "version_minor": 0
      },
      "text/plain": []
     },
     "metadata": {},
     "output_type": "display_data"
    },
    {
     "data": {
      "application/vnd.jupyter.widget-view+json": {
       "model_id": "",
       "version_major": 2,
       "version_minor": 0
      },
      "text/plain": []
     },
     "metadata": {},
     "output_type": "display_data"
    },
    {
     "data": {
      "application/vnd.jupyter.widget-view+json": {
       "model_id": "",
       "version_major": 2,
       "version_minor": 0
      },
      "text/plain": [
       "Currently Building ... [Page] <Recent reading> components:   0%|          | 0/1 [00:00<?, ?it/s]"
      ]
     },
     "metadata": {},
     "output_type": "display_data"
    },
    {
     "data": {
      "application/vnd.jupyter.widget-view+json": {
       "model_id": "",
       "version_major": 2,
       "version_minor": 0
      },
      "text/plain": [
       "Currently Building ... [Page] <Types of book> components:   0%|          | 0/2 [00:00<?, ?it/s]"
      ]
     },
     "metadata": {},
     "output_type": "display_data"
    },
    {
     "data": {
      "application/vnd.jupyter.widget-view+json": {
       "model_id": "",
       "version_major": 2,
       "version_minor": 0
      },
      "text/plain": [
       "Currently Building ... [Page] <Pages and Book totals> components:   0%|          | 0/1 [00:00<?, ?it/s]"
      ]
     },
     "metadata": {},
     "output_type": "display_data"
    },
    {
     "data": {
      "application/vnd.jupyter.widget-view+json": {
       "model_id": "",
       "version_major": 2,
       "version_minor": 0
      },
      "text/plain": [
       "Currently Building ... [Page] <Recent reading> controls: 0it [00:00, ?it/s]"
      ]
     },
     "metadata": {},
     "output_type": "display_data"
    },
    {
     "data": {
      "application/vnd.jupyter.widget-view+json": {
       "model_id": "",
       "version_major": 2,
       "version_minor": 0
      },
      "text/plain": [
       "Currently Building ... [Page] <Pages and Book totals> controls:   0%|          | 0/1 [00:00<?, ?it/s]"
      ]
     },
     "metadata": {},
     "output_type": "display_data"
    },
    {
     "name": "stderr",
     "output_type": "stream",
     "text": [
      "/Users/jo_stichbury/opt/anaconda3/envs/py310/lib/python3.10/site-packages/pydantic/v1/schema.py:631: UserWarning:\n",
      "\n",
      "CapturedCallable function is excluded from the schema.\n",
      "\n"
     ]
    },
    {
     "data": {
      "application/vnd.jupyter.widget-view+json": {
       "model_id": "",
       "version_major": 2,
       "version_minor": 0
      },
      "text/plain": [
       "Currently Building ... [Page] <Types of book> controls: 0it [00:00, ?it/s]"
      ]
     },
     "metadata": {},
     "output_type": "display_data"
    },
    {
     "name": "stderr",
     "output_type": "stream",
     "text": [
      "WARNING:root:Could not extract source for <function pages_books_totals_graph at 0x172e55f30>. Definition will not be included.\n",
      "WARNING:root:Could not extract source for <function tornado_chart at 0x172e56ef0>. Definition will not be included.\n",
      "WARNING:root:Could not extract source for <function categories_pie_chart at 0x172f1e050>. Definition will not be included.\n"
     ]
    },
    {
     "data": {
      "text/html": [
       "\n",
       "        <iframe\n",
       "            width=\"100%\"\n",
       "            height=\"650\"\n",
       "            src=\"http://127.0.0.1:8006/\"\n",
       "            frameborder=\"0\"\n",
       "            allowfullscreen\n",
       "            \n",
       "        ></iframe>\n",
       "        "
      ],
      "text/plain": [
       "<IPython.lib.display.IFrame at 0x172ed3430>"
      ]
     },
     "metadata": {},
     "output_type": "display_data"
    },
    {
     "name": "stdout",
     "output_type": "stream",
     "text": [
      "############ Imports ##############\n",
      "import vizro.tables as vt\n",
      "import vizro.models as vm\n",
      "from vizro.models.types import capture\n",
      "import plotly.graph_objects as go\n",
      "import pandas as pd\n",
      "from vizro.models.types import capture\n",
      "\n",
      "import plotly.graph_objects as go\n",
      "import pandas as pd\n",
      "from vizro.models.types import capture\n",
      "\n",
      "\n",
      "####### Function definitions ######\n",
      "@capture(\"graph\")\n",
      "def categories_pie_chart(data_frame):\n",
      "    # Combine 'Fiction' and 'FICTION' into a single category 'Fiction'\n",
      "    data_frame[\"Categories\"] = data_frame[\"Categories\"].replace(\"FICTION\", \"Fiction\")\n",
      "\n",
      "    # Count the number of books in each category\n",
      "    category_counts = data_frame[\"Categories\"].value_counts()\n",
      "\n",
      "    # Create a pie chart\n",
      "    fig = go.Figure(\n",
      "        data=[go.Pie(labels=category_counts.index, values=category_counts.values)]\n",
      "    )\n",
      "\n",
      "    return fig\n",
      "\n",
      "\n",
      "@capture(\"graph\")\n",
      "def pages_books_totals_graph(data_frame):\n",
      "    # Convert 'Date Read' to datetime\n",
      "    data_frame[\"Date Read\"] = pd.to_datetime(data_frame[\"Date Read\"])\n",
      "\n",
      "    # Extract year from 'Date Read'\n",
      "    data_frame[\"Year Read\"] = data_frame[\"Date Read\"].dt.year\n",
      "\n",
      "    # Calculate cumulative pages read per year\n",
      "    cumulative_pages = data_frame.groupby(\"Year Read\")[\"Number of Pages\"].sum().cumsum()\n",
      "\n",
      "    # Calculate total books read per year\n",
      "    total_books = data_frame.groupby(\"Year Read\").size()\n",
      "\n",
      "    # Create figure\n",
      "    fig = go.Figure()\n",
      "\n",
      "    # Add line chart for cumulative pages\n",
      "    fig.add_trace(\n",
      "        go.Scatter(\n",
      "            x=cumulative_pages.index,\n",
      "            y=cumulative_pages,\n",
      "            mode=\"lines\",\n",
      "            name=\"Cumulative Pages\",\n",
      "            yaxis=\"y1\",\n",
      "        )\n",
      "    )\n",
      "\n",
      "    # Add bar chart for total books\n",
      "    fig.add_trace(\n",
      "        go.Bar(\n",
      "            x=total_books.index,\n",
      "            y=total_books,\n",
      "            name=\"Total Books\",\n",
      "            yaxis=\"y2\",\n",
      "            opacity=0.6,\n",
      "        )\n",
      "    )\n",
      "\n",
      "    # Update layout\n",
      "    fig.update_layout(\n",
      "        title=\"Cumulative Pages and Total Books Read Per Year\",\n",
      "        xaxis=dict(title=\"Year\"),\n",
      "        yaxis=dict(title=\"Cumulative Pages\", side=\"left\"),\n",
      "        yaxis2=dict(title=\"Total Books\", overlaying=\"y\", side=\"right\"),\n",
      "        legend=dict(x=0.1, y=0.9),\n",
      "    )\n",
      "\n",
      "    return fig\n",
      "\n",
      "\n",
      "@capture(\"graph\")\n",
      "def tornado_chart(data_frame):\n",
      "    # Sort the data by 'Title' for consistent ordering\n",
      "    data_frame = data_frame.sort_values(\"Title\")\n",
      "\n",
      "    # Create the figure\n",
      "    fig = go.Figure()\n",
      "\n",
      "    # Add My Rating bars (left side)\n",
      "    fig.add_trace(\n",
      "        go.Bar(\n",
      "            y=data_frame[\"Title\"],\n",
      "            x=-data_frame[\"My Rating\"],  # Negative for left side\n",
      "            name=\"My Rating\",\n",
      "            orientation=\"h\",\n",
      "            text=data_frame[\"Title\"],\n",
      "            textposition=\"inside\",\n",
      "            hoverinfo=\"x+y+text\",\n",
      "        )\n",
      "    )\n",
      "\n",
      "    # Add Average Rating bars (right side)\n",
      "    fig.add_trace(\n",
      "        go.Bar(\n",
      "            y=data_frame[\"Title\"],\n",
      "            x=data_frame[\"Average Rating\"],\n",
      "            name=\"Average Rating\",\n",
      "            orientation=\"h\",\n",
      "            text=data_frame[\"Title\"],\n",
      "            textposition=\"inside\",\n",
      "            hoverinfo=\"x+y+text\",\n",
      "        )\n",
      "    )\n",
      "\n",
      "    # Update layout\n",
      "    fig.update_layout(\n",
      "        title=\"Tornado Chart of My Rating vs Average Rating\",\n",
      "        barmode=\"overlay\",\n",
      "        xaxis=dict(\n",
      "            title=\"Rating\",\n",
      "            tickvals=[-5, -4, -3, -2, -1, 0, 1, 2, 3, 4, 5],\n",
      "            ticktext=[\"5\", \"4\", \"3\", \"2\", \"1\", \"0\", \"1\", \"2\", \"3\", \"4\", \"5\"],\n",
      "        ),\n",
      "        yaxis=dict(title=\"Book Title\"),\n",
      "        legend=dict(x=0.5, y=1.1, orientation=\"h\", xanchor=\"center\"),\n",
      "    )\n",
      "\n",
      "    return fig\n",
      "\n",
      "\n",
      "####### Data Manager Settings #####\n",
      "#######!!! UNCOMMENT BELOW !!!#####\n",
      "# from vizro.managers import data_manager\n",
      "# data_manager[\"book_reading_data\"] = ===> Fill in here <===\n",
      "\n",
      "\n",
      "########### Model code ############\n",
      "model = vm.Dashboard(\n",
      "    pages=[\n",
      "        vm.Page(\n",
      "            components=[\n",
      "                vm.AgGrid(\n",
      "                    id=\"recent_reading_aggrid\",\n",
      "                    figure=vt.dash_ag_grid(data_frame=\"book_reading_data\"),\n",
      "                )\n",
      "            ],\n",
      "            title=\"Recent reading\",\n",
      "            layout=vm.Layout(grid=[[0]]),\n",
      "            controls=[],\n",
      "        ),\n",
      "        vm.Page(\n",
      "            components=[\n",
      "                vm.Graph(\n",
      "                    id=\"pages_books_totals_graph\",\n",
      "                    figure=pages_books_totals_graph(data_frame=\"book_reading_data\"),\n",
      "                )\n",
      "            ],\n",
      "            title=\"Pages and Book totals\",\n",
      "            layout=vm.Layout(grid=[[0]]),\n",
      "            controls=[\n",
      "                vm.Filter(column=\"Book Id\", targets=[\"pages_books_totals_graph\"])\n",
      "            ],\n",
      "        ),\n",
      "        vm.Page(\n",
      "            components=[\n",
      "                vm.Graph(\n",
      "                    id=\"tornado_chart\",\n",
      "                    figure=tornado_chart(data_frame=\"book_reading_data\"),\n",
      "                ),\n",
      "                vm.Graph(\n",
      "                    id=\"categories_pie_chart\",\n",
      "                    figure=categories_pie_chart(data_frame=\"book_reading_data\"),\n",
      "                ),\n",
      "            ],\n",
      "            title=\"Types of book\",\n",
      "            layout=vm.Layout(grid=[[0, 1]]),\n",
      "            controls=[],\n",
      "        ),\n",
      "    ],\n",
      "    title=\"Book Reading Dashboard\",\n",
      ")\n",
      "\n"
     ]
    }
   ],
   "source": [
    "result = vizro_ai.dashboard([df_cleaned], another_user_question, return_elements=True)\n",
    "Vizro().build(result.dashboard).run(port=8006)\n",
    "print(result.code)"
   ]
  },
  {
   "cell_type": "code",
   "execution_count": null,
   "id": "d6007b7d-a5e1-4336-85d7-783d0846bf20",
   "metadata": {},
   "outputs": [],
   "source": []
  },
  {
   "cell_type": "code",
   "execution_count": null,
   "id": "e8b2ce6c-5a06-42aa-bfea-15888343278f",
   "metadata": {},
   "outputs": [],
   "source": [
    "## DO NOT RUN THIS ONE\n",
    "\n",
    "user_question = \"\"\"\n",
    "Create a dashboard page with title \"Recent reading\" showing 4 charts.\n",
    "\n",
    "The first chart shows the cumulative total number of pages read by summing the Number of Pages of each book read in each year, using the Date Read data.\n",
    "Plot the year on the x axis and the number of pages on the y axis using a scale on the left hand side of the chart. Superimpose a bar chart showing the total books read for each year, taking data from the Date Read column. \n",
    "Show the total books read using the right hand side of the chart which can be a different scale to the y axis shown on the left hand side.\n",
    "\n",
    "The second is a bar chart where x is the Original Publication Year is ascending order. For the dataset, calculate the total number of books for each Original Publicatiokn year and plot this as y.\n",
    "\n",
    "The third chart is a tornado chart which shows takes each row of the dataset and plots My Rating on the left and Average Rating on the right. Label each bar with the Title. \n",
    "\n",
    "The fourth chart is a pie chart which shows the number of books for each of the Categories. Do not include the N/A rows. Combine ['Fiction'] and ['FICTION'] and remove the [' and '] from each label.\n",
    "\n",
    "\"\"\""
   ]
  },
  {
   "cell_type": "code",
   "execution_count": null,
   "id": "b4722f21-d329-4732-8936-e7bbc6032b90",
   "metadata": {},
   "outputs": [],
   "source": [
    "# Following cells are all manipulation of the data"
   ]
  },
  {
   "cell_type": "code",
   "execution_count": null,
   "id": "6078b60c-cc58-417e-ae90-239965ff448b",
   "metadata": {},
   "outputs": [],
   "source": [
    "import requests\n",
    "import csv\n",
    "\n",
    "def get_book_info_by_isbn(isbn):\n",
    "    # Define the endpoint and the parameters\n",
    "    endpoint = \"https://www.googleapis.com/books/v1/volumes\"\n",
    "    params = {\n",
    "        'q': 'isbn:' + isbn\n",
    "    }\n",
    "\n",
    "    # Make the GET request to the Google Books API\n",
    "    response = requests.get(endpoint, params=params)\n",
    "\n",
    "    # Check if the request was successful\n",
    "    if response.status_code == 200:\n",
    "        # Parse the JSON response\n",
    "        book_data = response.json()\n",
    "        if 'items' in book_data:\n",
    "            # Return the first book found\n",
    "            return book_data['items'][0]\n",
    "        else:\n",
    "            return None\n",
    "    else:\n",
    "        # Handle errors\n",
    "        print(f\"Error: {response.status_code}\")\n",
    "        return None\n",
    "\n",
    "\n",
    "# File paths for input and output CSVs\n",
    "input_csv_path = 'goodreads_library_export.csv'\n",
    "output_csv_path = 'another_updated_goodreads_library_export.csv'\n",
    "\n",
    "# Read the input CSV and process each row to add Categories and Small Thumbnail columns\n",
    "with open(input_csv_path, mode='r', newline='') as infile, open(output_csv_path, mode='w', newline='') as outfile:\n",
    "    reader = csv.DictReader(infile)\n",
    "\n",
    "    # Add new fields \"Categories\" and \"SmallThumbnail\" to the existing fieldnames\n",
    "    fieldnames = reader.fieldnames + ['Categories', 'SmallThumbnail']\n",
    "    writer = csv.DictWriter(outfile, fieldnames=fieldnames)\n",
    "\n",
    "    # Write the header to the output CSV\n",
    "    writer.writeheader()\n",
    "\n",
    "    for row in reader:\n",
    "        isbn = row['ISBN']\n",
    "        book_info = get_book_info_by_isbn(isbn)\n",
    "        if book_info:\n",
    "            categories = book_info['volumeInfo'].get('categories', 'N/A')\n",
    "            small_thumbnail = book_info['volumeInfo'].get('imageLinks', {}).get('smallThumbnail', 'N/A')\n",
    "        else:\n",
    "            categories = 'N/A'\n",
    "            small_thumbnail = 'N/A'\n",
    "        \n",
    "        # Add the categories and small thumbnail to the current row\n",
    "        row['Categories'] = ', '.join(categories) if isinstance(categories, list) else categories\n",
    "        row['SmallThumbnail'] = small_thumbnail\n",
    "        \n",
    "        \n",
    "        # Write the updated row to the output CSV\n",
    "        writer.writerow(row)\n",
    "\n",
    "print(f\"Processed CSV and saved to {output_csv_path}\")\n",
    "\n"
   ]
  },
  {
   "cell_type": "code",
   "execution_count": null,
   "id": "b24dd2a5-901c-4409-9d32-0917765f0c82",
   "metadata": {},
   "outputs": [],
   "source": [
    "# Open the processed CSV and filter out any books without Category or thumbnail\n",
    "\n",
    "import csv\n",
    "# File paths for input and output CSVs\n",
    "input_csv_path = 'another_updated_goodreads_library_export.csv'  # This is the CSV that already has \"Categories\" and \"SmallThumbnail\" columns\n",
    "filtered_csv_path = 'filtered_books.csv'\n",
    "\n",
    "# Read the input CSV and filter rows\n",
    "with open(input_csv_path, mode='r', newline='') as infile, open(filtered_csv_path, mode='w', newline='') as outfile:\n",
    "    reader = csv.DictReader(infile)\n",
    "    writer = csv.DictWriter(outfile, fieldnames=reader.fieldnames)\n",
    "\n",
    "    # Write the header to the filtered output CSV\n",
    "    writer.writeheader()\n",
    "\n",
    "    for row in reader:\n",
    "        # Check if both \"SmallThumbnail\" and \"Categories\" are not 'N/A'\n",
    "        if row['SmallThumbnail'] != 'N/A' and row['Categories'] != 'N/A':\n",
    "            # Write the row to the filtered output CSV\n",
    "            writer.writerow(row)\n",
    "\n",
    "print(f\"Filtered CSV and saved to {filtered_csv_path}\")"
   ]
  },
  {
   "cell_type": "code",
   "execution_count": null,
   "id": "ce0364db-ae58-48db-9e07-8efc7f94d4e0",
   "metadata": {},
   "outputs": [],
   "source": []
  }
 ],
 "metadata": {
  "kernelspec": {
   "display_name": "Python 3 (ipykernel)",
   "language": "python",
   "name": "python3"
  },
  "language_info": {
   "codemirror_mode": {
    "name": "ipython",
    "version": 3
   },
   "file_extension": ".py",
   "mimetype": "text/x-python",
   "name": "python",
   "nbconvert_exporter": "python",
   "pygments_lexer": "ipython3",
   "version": "3.10.14"
  }
 },
 "nbformat": 4,
 "nbformat_minor": 5
}
