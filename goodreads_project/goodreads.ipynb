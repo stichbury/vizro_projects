{
 "cells": [
  {
   "cell_type": "code",
   "execution_count": 1,
   "id": "150de2e4-622f-4d0f-91a2-ad47dd16c53a",
   "metadata": {},
   "outputs": [
    {
     "name": "stdout",
     "output_type": "stream",
     "text": [
      "0.3.0\n"
     ]
    },
    {
     "data": {
      "text/plain": [
       "True"
      ]
     },
     "execution_count": 1,
     "metadata": {},
     "output_type": "execute_result"
    }
   ],
   "source": [
    "# Vizro-AI usage\n",
    "\n",
    "from vizro import Vizro\n",
    "import vizro_ai\n",
    "from dotenv import load_dotenv\n",
    "\n",
    "print(vizro_ai.__version__)\n",
    "load_dotenv()"
   ]
  },
  {
   "cell_type": "code",
   "execution_count": 2,
   "id": "adfe392c-964e-440c-a88c-86db8c65c37e",
   "metadata": {},
   "outputs": [],
   "source": [
    "# Dashboard 1\n",
    "\n",
    "from vizro_ai import VizroAI\n",
    "vizro_ai = VizroAI(model=\"gpt-4o\")"
   ]
  },
  {
   "cell_type": "code",
   "execution_count": 3,
   "id": "974dc919-30a1-4fa8-bf00-58cce72f8de3",
   "metadata": {},
   "outputs": [
    {
     "data": {
      "text/html": [
       "<div>\n",
       "<style scoped>\n",
       "    .dataframe tbody tr th:only-of-type {\n",
       "        vertical-align: middle;\n",
       "    }\n",
       "\n",
       "    .dataframe tbody tr th {\n",
       "        vertical-align: top;\n",
       "    }\n",
       "\n",
       "    .dataframe thead th {\n",
       "        text-align: right;\n",
       "    }\n",
       "</style>\n",
       "<table border=\"1\" class=\"dataframe\">\n",
       "  <thead>\n",
       "    <tr style=\"text-align: right;\">\n",
       "      <th></th>\n",
       "      <th>Book Id</th>\n",
       "      <th>Title</th>\n",
       "      <th>Author</th>\n",
       "      <th>Author l-f</th>\n",
       "      <th>Additional Authors</th>\n",
       "      <th>ISBN</th>\n",
       "      <th>ISBN13</th>\n",
       "      <th>My Rating</th>\n",
       "      <th>Average Rating</th>\n",
       "      <th>Publisher</th>\n",
       "      <th>Binding</th>\n",
       "      <th>Number of Pages</th>\n",
       "      <th>Year Published</th>\n",
       "      <th>Original Publication Year</th>\n",
       "      <th>Date Read</th>\n",
       "      <th>Date Added</th>\n",
       "      <th>Exclusive Shelf</th>\n",
       "    </tr>\n",
       "  </thead>\n",
       "  <tbody>\n",
       "    <tr>\n",
       "      <th>3</th>\n",
       "      <td>125103877</td>\n",
       "      <td>After the Funeral</td>\n",
       "      <td>Tessa Hadley</td>\n",
       "      <td>Hadley, Tessa</td>\n",
       "      <td>NaN</td>\n",
       "      <td>1473595290</td>\n",
       "      <td>9.781470e+12</td>\n",
       "      <td>4</td>\n",
       "      <td>3.82</td>\n",
       "      <td>Vintage Digital</td>\n",
       "      <td>Kindle Edition</td>\n",
       "      <td>226.0</td>\n",
       "      <td>2023.0</td>\n",
       "      <td>2023.0</td>\n",
       "      <td>2024-09-21</td>\n",
       "      <td>21/09/2024</td>\n",
       "      <td>read</td>\n",
       "    </tr>\n",
       "    <tr>\n",
       "      <th>4</th>\n",
       "      <td>62602332</td>\n",
       "      <td>Every Happy Family</td>\n",
       "      <td>Sarah Stovell</td>\n",
       "      <td>Stovell, Sarah</td>\n",
       "      <td>NaN</td>\n",
       "      <td>8441685</td>\n",
       "      <td>9.780010e+12</td>\n",
       "      <td>1</td>\n",
       "      <td>3.85</td>\n",
       "      <td>HQ</td>\n",
       "      <td>Kindle Edition</td>\n",
       "      <td>320.0</td>\n",
       "      <td>2023.0</td>\n",
       "      <td>2023.0</td>\n",
       "      <td>2024-09-18</td>\n",
       "      <td>17/09/2024</td>\n",
       "      <td>read</td>\n",
       "    </tr>\n",
       "    <tr>\n",
       "      <th>8</th>\n",
       "      <td>58639322</td>\n",
       "      <td>Small Things Like These</td>\n",
       "      <td>Claire Keegan</td>\n",
       "      <td>Keegan, Claire</td>\n",
       "      <td>NaN</td>\n",
       "      <td>571368719</td>\n",
       "      <td>9.780570e+12</td>\n",
       "      <td>0</td>\n",
       "      <td>4.18</td>\n",
       "      <td>Faber &amp; Faber</td>\n",
       "      <td>Kindle Edition</td>\n",
       "      <td>65.0</td>\n",
       "      <td>2021.0</td>\n",
       "      <td>2021.0</td>\n",
       "      <td>2024-09-01</td>\n",
       "      <td>01/09/2024</td>\n",
       "      <td>read</td>\n",
       "    </tr>\n",
       "    <tr>\n",
       "      <th>9</th>\n",
       "      <td>22708846</td>\n",
       "      <td>Are You There, God? It's Me, Margaret</td>\n",
       "      <td>Judy Blume</td>\n",
       "      <td>Blume, Judy</td>\n",
       "      <td>NaN</td>\n",
       "      <td>1447280350</td>\n",
       "      <td>9.781450e+12</td>\n",
       "      <td>4</td>\n",
       "      <td>3.94</td>\n",
       "      <td>Macmillan Children's Books</td>\n",
       "      <td>Kindle Edition</td>\n",
       "      <td>224.0</td>\n",
       "      <td>2014.0</td>\n",
       "      <td>1970.0</td>\n",
       "      <td>2024-09-01</td>\n",
       "      <td>01/09/2024</td>\n",
       "      <td>read</td>\n",
       "    </tr>\n",
       "    <tr>\n",
       "      <th>13</th>\n",
       "      <td>74872307</td>\n",
       "      <td>Talking at Night</td>\n",
       "      <td>Claire Daverley</td>\n",
       "      <td>Daverley, Claire</td>\n",
       "      <td>NaN</td>\n",
       "      <td>1405953861</td>\n",
       "      <td>9.781410e+12</td>\n",
       "      <td>5</td>\n",
       "      <td>3.96</td>\n",
       "      <td>Penguin</td>\n",
       "      <td>Kindle Edition</td>\n",
       "      <td>389.0</td>\n",
       "      <td>2023.0</td>\n",
       "      <td>2023.0</td>\n",
       "      <td>2024-08-07</td>\n",
       "      <td>04/08/2024</td>\n",
       "      <td>read</td>\n",
       "    </tr>\n",
       "  </tbody>\n",
       "</table>\n",
       "</div>"
      ],
      "text/plain": [
       "      Book Id                                  Title           Author  \\\n",
       "3   125103877                      After the Funeral     Tessa Hadley   \n",
       "4    62602332                     Every Happy Family    Sarah Stovell   \n",
       "8    58639322                Small Things Like These    Claire Keegan   \n",
       "9    22708846  Are You There, God? It's Me, Margaret       Judy Blume   \n",
       "13   74872307                       Talking at Night  Claire Daverley   \n",
       "\n",
       "          Author l-f Additional Authors        ISBN        ISBN13  My Rating  \\\n",
       "3      Hadley, Tessa                NaN  1473595290  9.781470e+12          4   \n",
       "4     Stovell, Sarah                NaN     8441685  9.780010e+12          1   \n",
       "8     Keegan, Claire                NaN   571368719  9.780570e+12          0   \n",
       "9        Blume, Judy                NaN  1447280350  9.781450e+12          4   \n",
       "13  Daverley, Claire                NaN  1405953861  9.781410e+12          5   \n",
       "\n",
       "    Average Rating                   Publisher         Binding  \\\n",
       "3             3.82             Vintage Digital  Kindle Edition   \n",
       "4             3.85                          HQ  Kindle Edition   \n",
       "8             4.18               Faber & Faber  Kindle Edition   \n",
       "9             3.94  Macmillan Children's Books  Kindle Edition   \n",
       "13            3.96                     Penguin  Kindle Edition   \n",
       "\n",
       "    Number of Pages  Year Published  Original Publication Year  Date Read  \\\n",
       "3             226.0          2023.0                     2023.0 2024-09-21   \n",
       "4             320.0          2023.0                     2023.0 2024-09-18   \n",
       "8              65.0          2021.0                     2021.0 2024-09-01   \n",
       "9             224.0          2014.0                     1970.0 2024-09-01   \n",
       "13            389.0          2023.0                     2023.0 2024-08-07   \n",
       "\n",
       "    Date Added Exclusive Shelf  \n",
       "3   21/09/2024            read  \n",
       "4   17/09/2024            read  \n",
       "8   01/09/2024            read  \n",
       "9   01/09/2024            read  \n",
       "13  04/08/2024            read  "
      ]
     },
     "execution_count": 3,
     "metadata": {},
     "output_type": "execute_result"
    }
   ],
   "source": [
    "import pandas as pd\n",
    "\n",
    "df = pd.read_csv('goodreads_library_export.csv')\n",
    "df[\"Date Read\"] = pd.to_datetime(df['Date Read'],dayfirst=True)\n",
    "\n",
    "# Data cleanup \n",
    "# Specify columns to check for missing values\n",
    "columns_to_check = ['Title', 'Author', 'ISBN', 'ISBN13', 'My Rating', 'Average Rating', 'Publisher', 'Number of Pages', 'Original Publication Year', 'Date Read', 'Exclusive Shelf']\n",
    "df_cleaned = df.dropna(subset=columns_to_check)\n",
    "df_cleaned.head()"
   ]
  },
  {
   "cell_type": "code",
   "execution_count": 4,
   "id": "e8b2ce6c-5a06-42aa-bfea-15888343278f",
   "metadata": {},
   "outputs": [],
   "source": [
    "user_question = \"\"\"\n",
    "Create a page showing 3 charts.\n",
    "\n",
    "The first chart is a line graph which shows the cumulative total number of pages read by summing the Number of Pages of each book read in each year, using the Date Read data.\n",
    "Plot the year on the x axis and the number of pages on the y axis using a scale on the left hand side of the chart. Superimpose a bar chart showing the total books read for each year, taking data from the Date Read column. \n",
    "Show the total books read using the right hand side of the chart which can be a different scale to the y axis shown on the left hand side.\n",
    "\n",
    "\n",
    "The second chart is a pie chart of the 5 most common Publishers from the entire set of data.\n",
    "\n",
    "The third chart is a comparison bar chart of the most highest rated 5 books. \n",
    "Plot the top 5 books according to the My Rating column, giving the Title on the bar, plus My Rating and the Average Rating \n",
    "The higher the number the higher the rating. \n",
    "Order it left to right by highest to lowest.\n",
    "\n",
    "\n",
    "\"\"\""
   ]
  },
  {
   "cell_type": "code",
   "execution_count": 5,
   "id": "14e9f5de-1ace-44cd-8b3a-3f1ee805fe2e",
   "metadata": {},
   "outputs": [
    {
     "data": {
      "application/vnd.jupyter.widget-view+json": {
       "model_id": "dc339904e0e24db097896389fd57010b",
       "version_major": 2,
       "version_minor": 0
      },
      "text/plain": [
       "Store df info:   0%|          | 0/1 [00:00<?, ?it/s]"
      ]
     },
     "metadata": {},
     "output_type": "display_data"
    },
    {
     "name": "stdout",
     "output_type": "stream",
     "text": [
      "df_name: book_reading_stats\n"
     ]
    },
    {
     "data": {
      "application/vnd.jupyter.widget-view+json": {
       "model_id": "bd2bdcdde7fa4898aedb1a3c90ba77fb",
       "version_major": 2,
       "version_minor": 0
      },
      "text/plain": [
       "Generate dashboard plan:   0%|          | 0/2 [00:00<?, ?it/s]"
      ]
     },
     "metadata": {},
     "output_type": "display_data"
    },
    {
     "data": {
      "application/vnd.jupyter.widget-view+json": {
       "model_id": "62f3d0d9288841c0990d77e284dff986",
       "version_major": 2,
       "version_minor": 0
      },
      "text/plain": [
       "Building page: Book Reading Charts:   0%|          | 0/5 [00:00<?, ?it/s]"
      ]
     },
     "metadata": {},
     "output_type": "display_data"
    },
    {
     "data": {
      "application/vnd.jupyter.widget-view+json": {
       "model_id": "",
       "version_major": 2,
       "version_minor": 0
      },
      "text/plain": []
     },
     "metadata": {},
     "output_type": "display_data"
    },
    {
     "data": {
      "application/vnd.jupyter.widget-view+json": {
       "model_id": "",
       "version_major": 2,
       "version_minor": 0
      },
      "text/plain": [
       "Currently Building ... [Page] <Book Reading Charts> components:   0%|          | 0/3 [00:00<?, ?it/s]"
      ]
     },
     "metadata": {},
     "output_type": "display_data"
    },
    {
     "data": {
      "application/vnd.jupyter.widget-view+json": {
       "model_id": "",
       "version_major": 2,
       "version_minor": 0
      },
      "text/plain": [
       "Currently Building ... [Page] <Book Reading Charts> controls: 0it [00:00, ?it/s]"
      ]
     },
     "metadata": {},
     "output_type": "display_data"
    },
    {
     "data": {
      "text/html": [
       "\n",
       "        <iframe\n",
       "            width=\"100%\"\n",
       "            height=\"650\"\n",
       "            src=\"http://127.0.0.1:8006/\"\n",
       "            frameborder=\"0\"\n",
       "            allowfullscreen\n",
       "            \n",
       "        ></iframe>\n",
       "        "
      ],
      "text/plain": [
       "<IPython.lib.display.IFrame at 0x151dc10c0>"
      ]
     },
     "metadata": {},
     "output_type": "display_data"
    }
   ],
   "source": [
    "dashboard = vizro_ai.dashboard([df_cleaned], user_question)\n",
    "Vizro().build(dashboard).run(port=8006)"
   ]
  },
  {
   "cell_type": "code",
   "execution_count": null,
   "id": "6078b60c-cc58-417e-ae90-239965ff448b",
   "metadata": {},
   "outputs": [],
   "source": [
    "\n"
   ]
  }
 ],
 "metadata": {
  "kernelspec": {
   "display_name": "Python 3 (ipykernel)",
   "language": "python",
   "name": "python3"
  },
  "language_info": {
   "codemirror_mode": {
    "name": "ipython",
    "version": 3
   },
   "file_extension": ".py",
   "mimetype": "text/x-python",
   "name": "python",
   "nbconvert_exporter": "python",
   "pygments_lexer": "ipython3",
   "version": "3.10.14"
  }
 },
 "nbformat": 4,
 "nbformat_minor": 5
}
