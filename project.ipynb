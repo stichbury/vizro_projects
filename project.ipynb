{
 "cells": [
  {
   "cell_type": "code",
   "execution_count": null,
   "id": "330f4b92-41aa-4d95-b86d-1354c5f7419f",
   "metadata": {},
   "outputs": [],
   "source": [
    "import vizro.models as vm\n",
    "from vizro import Vizro\n",
    "\n",
    "page = vm.Page(\n",
    "    title=\"\",\n",
    "    layout=vm.Layout(grid=[[0,1,2],[3,3,3]]),\n",
    "    components=[vm.Card(id=\"comp-zero\", text=\"\"\"# Component 0\"\"\"),\n",
    "                vm.Card(id=\"comp-one\", text=\"\"\"# Component 1\"\"\"),\n",
    "                vm.Card(id=\"comp-two\", text=\"\"\"# Component 2\"\"\"),\n",
    "                vm.Card(id=\"comp-three\", text=\"\"\"# Component 3\"\"\"),\n",
    "                ],\n",
    ")\n",
    "\n",
    "dashboard = vm.Dashboard(pages=[page], theme=\"vizro_light\")\n",
    "\n",
    "if __name__ == \"__main__\":\n",
    "    Vizro().build(dashboard).run()"
   ]
  },
  {
   "cell_type": "code",
   "execution_count": null,
   "id": "4c219498-a37c-4ea4-ab0c-f8a9c9d4db0b",
   "metadata": {},
   "outputs": [],
   "source": []
  }
 ],
 "metadata": {
  "kernelspec": {
   "display_name": "Python 3 (ipykernel)",
   "language": "python",
   "name": "python3"
  },
  "language_info": {
   "codemirror_mode": {
    "name": "ipython",
    "version": 3
   },
   "file_extension": ".py",
   "mimetype": "text/x-python",
   "name": "python",
   "nbconvert_exporter": "python",
   "pygments_lexer": "ipython3",
   "version": "3.10.14"
  }
 },
 "nbformat": 4,
 "nbformat_minor": 5
}
